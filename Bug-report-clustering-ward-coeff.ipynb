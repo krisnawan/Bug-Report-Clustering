{
 "cells": [
  {
   "cell_type": "code",
   "execution_count": 1,
   "metadata": {
    "_cell_guid": "b1076dfc-b9ad-4769-8c92-a6c4dae69d19",
    "_uuid": "8f2839f25d086af736a60e9eeb907d3b93b6e0e5"
   },
   "outputs": [
    {
     "name": "stdout",
     "output_type": "stream",
     "text": [
      "['.ipynb_checkpoints', '951967.zip', 'Bug report 10.csv', 'Bug report 100.csv', 'Bug report.csv', 'JIRA-ALL.csv', 'JIRA.csv', 'preprocessed_data.csv']\n"
     ]
    }
   ],
   "source": [
    "#Importing all the neccesary libraries\n",
    "import numpy as np \n",
    "import pandas as pd \n",
    "import csv\n",
    "\n",
    "import os\n",
    "print(os.listdir(\"input\"))\n",
    "\n",
    "import regex as re\n",
    "import string\n",
    "from nltk.corpus import stopwords\n",
    "from nltk.tokenize import word_tokenize\n",
    "from nltk.stem import WordNetLemmatizer\n",
    "from nltk.stem import SnowballStemmer\n",
    "\n",
    "\n",
    "# viz\n",
    "import matplotlib.pyplot as plt\n",
    "%matplotlib inline\n",
    "import sys\n",
    "\n",
    "# for clustering\n",
    "from scipy.cluster.hierarchy import ward, dendrogram, fcluster, single, complete, average, weighted\n",
    "from sklearn.metrics.pairwise import cosine_similarity\n",
    "from scipy.spatial.distance import squareform\n",
    "from sklearn.metrics import silhouette_score"
   ]
  },
  {
   "cell_type": "code",
   "execution_count": 2,
   "metadata": {
    "_cell_guid": "79c7e3d0-c299-4dcb-8224-4455121ee9b0",
    "_uuid": "d629ff2d2480ee46fbb7e2d37f6b5fab8052498a"
   },
   "outputs": [
    {
     "data": {
      "text/html": [
       "<div>\n",
       "<style scoped>\n",
       "    .dataframe tbody tr th:only-of-type {\n",
       "        vertical-align: middle;\n",
       "    }\n",
       "\n",
       "    .dataframe tbody tr th {\n",
       "        vertical-align: top;\n",
       "    }\n",
       "\n",
       "    .dataframe thead th {\n",
       "        text-align: right;\n",
       "    }\n",
       "</style>\n",
       "<table border=\"1\" class=\"dataframe\">\n",
       "  <thead>\n",
       "    <tr style=\"text-align: right;\">\n",
       "      <th></th>\n",
       "      <th>index</th>\n",
       "      <th>Summary</th>\n",
       "      <th>Description</th>\n",
       "    </tr>\n",
       "  </thead>\n",
       "  <tbody>\n",
       "    <tr>\n",
       "      <th>0</th>\n",
       "      <td>0</td>\n",
       "      <td>[DEV] Admin can add user permissions with end ...</td>\n",
       "      <td>SDET tried to test endpoint for happy case :  ...</td>\n",
       "    </tr>\n",
       "    <tr>\n",
       "      <th>1</th>\n",
       "      <td>1</td>\n",
       "      <td>[DEV] Missing Input Validation for Endpoint Ad...</td>\n",
       "      <td>SDET tried to test endpoint for negative case ...</td>\n",
       "    </tr>\n",
       "    <tr>\n",
       "      <th>2</th>\n",
       "      <td>2</td>\n",
       "      <td>[STG][PP][Launcher][Recharge] There's ellipsis...</td>\n",
       "      <td>-</td>\n",
       "    </tr>\n",
       "    <tr>\n",
       "      <th>3</th>\n",
       "      <td>3</td>\n",
       "      <td>[DEV][AP][VersusEvil] Registered User not coun...</td>\n",
       "      <td>Registered User not count in Daily Active User...</td>\n",
       "    </tr>\n",
       "    <tr>\n",
       "      <th>4</th>\n",
       "      <td>4</td>\n",
       "      <td>[DEV] Fix Issues for Endpoint Admin Delete Use...</td>\n",
       "      <td>SDET tried to test endpoint DELETE /iam/v3/adm...</td>\n",
       "    </tr>\n",
       "  </tbody>\n",
       "</table>\n",
       "</div>"
      ],
      "text/plain": [
       "   index                                            Summary  \\\n",
       "0      0  [DEV] Admin can add user permissions with end ...   \n",
       "1      1  [DEV] Missing Input Validation for Endpoint Ad...   \n",
       "2      2  [STG][PP][Launcher][Recharge] There's ellipsis...   \n",
       "3      3  [DEV][AP][VersusEvil] Registered User not coun...   \n",
       "4      4  [DEV] Fix Issues for Endpoint Admin Delete Use...   \n",
       "\n",
       "                                         Description  \n",
       "0  SDET tried to test endpoint for happy case :  ...  \n",
       "1  SDET tried to test endpoint for negative case ...  \n",
       "2                                                  -  \n",
       "3  Registered User not count in Daily Active User...  \n",
       "4  SDET tried to test endpoint DELETE /iam/v3/adm...  "
      ]
     },
     "execution_count": 2,
     "metadata": {},
     "output_type": "execute_result"
    }
   ],
   "source": [
    "data=pd.read_csv('Input/Bug report.csv')\n",
    "data = data.reset_index()\n",
    "data.head()"
   ]
  },
  {
   "cell_type": "code",
   "execution_count": 3,
   "metadata": {},
   "outputs": [
    {
     "data": {
      "text/plain": [
       "index          0\n",
       "Summary        0\n",
       "Description    0\n",
       "dtype: int64"
      ]
     },
     "execution_count": 3,
     "metadata": {},
     "output_type": "execute_result"
    }
   ],
   "source": [
    "data.isnull().sum()"
   ]
  },
  {
   "cell_type": "markdown",
   "metadata": {
    "_uuid": "400e2b5f44187c1d32b0d65eb1ca48f0ee18f207"
   },
   "source": [
    "**Text data preprocessing steps**\n",
    "\n",
    "1- Data Cleaning(either using regex or BeautifulSoup): \n",
    "a) Removing HTML characters. \n",
    "b) Removing punctuation. \n",
    "c) Decoding encoded data.\n",
    "d) Split attached words.\n",
    "e) Removing URLs. \n",
    "f) Apostrophe removal.\n",
    "g) Removing Expressions. \n",
    "h) Uppercase & Lowercase letters \n",
    "i) Numbers such as amounts and data.\n",
    "\n",
    "2- Data Tokenization(using word_tokenize in nltk.tokenize) \n",
    "Segregation of text into individual words i.e tokens.\n",
    "\n",
    "3- Stopword Removal(using stopwords in nltk.corpus)\n",
    "Discarding too common words or words which are not going to be helpful in our analysis.\n",
    "\n",
    "4- Stemming(using WordNetLemmatizer in nltk.stem) \n",
    "Combining different variants of words into a single parent word that conveys same meaning."
   ]
  },
  {
   "cell_type": "code",
   "execution_count": 4,
   "metadata": {
    "_uuid": "366cb5190c19f8b61a194e823f5fd31e8504cec8"
   },
   "outputs": [],
   "source": [
    "stops = set(stopwords.words(\"english\"))"
   ]
  },
  {
   "cell_type": "code",
   "execution_count": 5,
   "metadata": {},
   "outputs": [],
   "source": [
    "data['Concat'] = data.Summary +\" \"+ data.Description\n",
    "data.to_csv(\"./Output/data_concat.csv\")"
   ]
  },
  {
   "cell_type": "code",
   "execution_count": 6,
   "metadata": {
    "_uuid": "df95925dedb114edea40653aeba1ffb3a4b6d308"
   },
   "outputs": [],
   "source": [
    "def clean_Description(content):\n",
    "#     content = table.Description\n",
    "    #Converting text to lowercase characters\n",
    "    content = content.apply(lambda x: x.lower())\n",
    "    #Removing HTML tags\n",
    "    content = content.apply(lambda x: re.sub(r'\\<[^<>]*\\>','',x))\n",
    "    #Removing any character which does not match to letter,digit or underscore\n",
    "    content = content.apply(lambda x: re.sub(r'^\\W+|\\W+$',' ',x))\n",
    "    #Removing space,newline,tab\n",
    "    content = content.apply(lambda x: re.sub(r'\\s',' ',x))\n",
    "    #Removing punctuation\n",
    "    content = content.apply(lambda x: re.sub(r'[^a-zA-Z0-9]',' ',x))\n",
    "    #Removing numeric\n",
    "    content = content.apply(lambda x: re.sub(r'[0-9]','',x))\n",
    "    #Tokenizing data\n",
    "    content = content.apply(lambda x: word_tokenize(x))\n",
    "    #Removing stopwords\n",
    "    content = content.apply(lambda x: [i for i in x if i not in stops])\n",
    "    type(content)\n",
    "    return(content)"
   ]
  },
  {
   "cell_type": "code",
   "execution_count": 7,
   "metadata": {
    "_uuid": "5e2fdb2a2e006c1fd8cd70125bcc9d47f0f428ee"
   },
   "outputs": [],
   "source": [
    "data.Concat = clean_Description(data.Concat)"
   ]
  },
  {
   "cell_type": "code",
   "execution_count": 8,
   "metadata": {
    "_uuid": "1aba74d7224c2b0bcbe5bc1b27b9491a6a05e51f"
   },
   "outputs": [
    {
     "data": {
      "text/html": [
       "<div>\n",
       "<style scoped>\n",
       "    .dataframe tbody tr th:only-of-type {\n",
       "        vertical-align: middle;\n",
       "    }\n",
       "\n",
       "    .dataframe tbody tr th {\n",
       "        vertical-align: top;\n",
       "    }\n",
       "\n",
       "    .dataframe thead th {\n",
       "        text-align: right;\n",
       "    }\n",
       "</style>\n",
       "<table border=\"1\" class=\"dataframe\">\n",
       "  <thead>\n",
       "    <tr style=\"text-align: right;\">\n",
       "      <th></th>\n",
       "      <th>index</th>\n",
       "      <th>Summary</th>\n",
       "      <th>Description</th>\n",
       "      <th>Concat</th>\n",
       "    </tr>\n",
       "  </thead>\n",
       "  <tbody>\n",
       "    <tr>\n",
       "      <th>0</th>\n",
       "      <td>0</td>\n",
       "      <td>[DEV] Admin can add user permissions with end ...</td>\n",
       "      <td>SDET tried to test endpoint for happy case :  ...</td>\n",
       "      <td>[dev, add, value, tried, test, endpoint, iam, ...</td>\n",
       "    </tr>\n",
       "    <tr>\n",
       "      <th>1</th>\n",
       "      <td>1</td>\n",
       "      <td>[DEV] Missing Input Validation for Endpoint Ad...</td>\n",
       "      <td>SDET tried to test endpoint for negative case ...</td>\n",
       "      <td>[dev, missing, input, validation, endpoint, ad...</td>\n",
       "    </tr>\n",
       "    <tr>\n",
       "      <th>2</th>\n",
       "      <td>2</td>\n",
       "      <td>[STG][PP][Launcher][Recharge] There's ellipsis...</td>\n",
       "      <td>-</td>\n",
       "      <td>[stg, pp, launcher, buy, button]</td>\n",
       "    </tr>\n",
       "    <tr>\n",
       "      <th>3</th>\n",
       "      <td>3</td>\n",
       "      <td>[DEV][AP][VersusEvil] Registered User not coun...</td>\n",
       "      <td>Registered User not count in Daily Active User...</td>\n",
       "      <td>[dev, ap, registered, login, registered, login...</td>\n",
       "    </tr>\n",
       "    <tr>\n",
       "      <th>4</th>\n",
       "      <td>4</td>\n",
       "      <td>[DEV] Fix Issues for Endpoint Admin Delete Use...</td>\n",
       "      <td>SDET tried to test endpoint DELETE /iam/v3/adm...</td>\n",
       "      <td>[dev, fix, issues, endpoint, delete, roles, tr...</td>\n",
       "    </tr>\n",
       "  </tbody>\n",
       "</table>\n",
       "</div>"
      ],
      "text/plain": [
       "   index                                            Summary  \\\n",
       "0      0  [DEV] Admin can add user permissions with end ...   \n",
       "1      1  [DEV] Missing Input Validation for Endpoint Ad...   \n",
       "2      2  [STG][PP][Launcher][Recharge] There's ellipsis...   \n",
       "3      3  [DEV][AP][VersusEvil] Registered User not coun...   \n",
       "4      4  [DEV] Fix Issues for Endpoint Admin Delete Use...   \n",
       "\n",
       "                                         Description  \\\n",
       "0  SDET tried to test endpoint for happy case :  ...   \n",
       "1  SDET tried to test endpoint for negative case ...   \n",
       "2                                                  -   \n",
       "3  Registered User not count in Daily Active User...   \n",
       "4  SDET tried to test endpoint DELETE /iam/v3/adm...   \n",
       "\n",
       "                                              Concat  \n",
       "0  [dev, add, value, tried, test, endpoint, iam, ...  \n",
       "1  [dev, missing, input, validation, endpoint, ad...  \n",
       "2                   [stg, pp, launcher, buy, button]  \n",
       "3  [dev, ap, registered, login, registered, login...  \n",
       "4  [dev, fix, issues, endpoint, delete, roles, tr...  "
      ]
     },
     "execution_count": 8,
     "metadata": {},
     "output_type": "execute_result"
    }
   ],
   "source": [
    "data.head()"
   ]
  },
  {
   "cell_type": "markdown",
   "metadata": {},
   "source": [
    "## Stemming"
   ]
  },
  {
   "cell_type": "code",
   "execution_count": 9,
   "metadata": {},
   "outputs": [
    {
     "data": {
      "text/plain": [
       "index           int64\n",
       "Summary        object\n",
       "Description    object\n",
       "Concat         object\n",
       "dtype: object"
      ]
     },
     "execution_count": 9,
     "metadata": {},
     "output_type": "execute_result"
    }
   ],
   "source": [
    "data.dtypes"
   ]
  },
  {
   "cell_type": "code",
   "execution_count": 10,
   "metadata": {},
   "outputs": [],
   "source": [
    "wordnet = WordNetLemmatizer()\n",
    "data.Concat = data.Concat.apply(lambda x:[wordnet.lemmatize(i,pos='v') for i in x])\n",
    "\n",
    "# snowball = SnowballStemmer(\"porter\")\n",
    "# data.Concat = data.Concat.apply(lambda x:[snowball.stem(i) for i in x])"
   ]
  },
  {
   "cell_type": "code",
   "execution_count": 11,
   "metadata": {},
   "outputs": [
    {
     "data": {
      "text/html": [
       "<div>\n",
       "<style scoped>\n",
       "    .dataframe tbody tr th:only-of-type {\n",
       "        vertical-align: middle;\n",
       "    }\n",
       "\n",
       "    .dataframe tbody tr th {\n",
       "        vertical-align: top;\n",
       "    }\n",
       "\n",
       "    .dataframe thead th {\n",
       "        text-align: right;\n",
       "    }\n",
       "</style>\n",
       "<table border=\"1\" class=\"dataframe\">\n",
       "  <thead>\n",
       "    <tr style=\"text-align: right;\">\n",
       "      <th></th>\n",
       "      <th>index</th>\n",
       "      <th>Summary</th>\n",
       "      <th>Description</th>\n",
       "      <th>Concat</th>\n",
       "    </tr>\n",
       "  </thead>\n",
       "  <tbody>\n",
       "    <tr>\n",
       "      <th>0</th>\n",
       "      <td>0</td>\n",
       "      <td>[DEV] Admin can add user permissions with end ...</td>\n",
       "      <td>SDET tried to test endpoint for happy case :  ...</td>\n",
       "      <td>[dev, add, value, try, test, endpoint, iam, v,...</td>\n",
       "    </tr>\n",
       "    <tr>\n",
       "      <th>1</th>\n",
       "      <td>1</td>\n",
       "      <td>[DEV] Missing Input Validation for Endpoint Ad...</td>\n",
       "      <td>SDET tried to test endpoint for negative case ...</td>\n",
       "      <td>[dev, miss, input, validation, endpoint, add, ...</td>\n",
       "    </tr>\n",
       "    <tr>\n",
       "      <th>2</th>\n",
       "      <td>2</td>\n",
       "      <td>[STG][PP][Launcher][Recharge] There's ellipsis...</td>\n",
       "      <td>-</td>\n",
       "      <td>[stg, pp, launcher, buy, button]</td>\n",
       "    </tr>\n",
       "    <tr>\n",
       "      <th>3</th>\n",
       "      <td>3</td>\n",
       "      <td>[DEV][AP][VersusEvil] Registered User not coun...</td>\n",
       "      <td>Registered User not count in Daily Active User...</td>\n",
       "      <td>[dev, ap, register, login, register, login, pl...</td>\n",
       "    </tr>\n",
       "    <tr>\n",
       "      <th>4</th>\n",
       "      <td>4</td>\n",
       "      <td>[DEV] Fix Issues for Endpoint Admin Delete Use...</td>\n",
       "      <td>SDET tried to test endpoint DELETE /iam/v3/adm...</td>\n",
       "      <td>[dev, fix, issue, endpoint, delete, roles, try...</td>\n",
       "    </tr>\n",
       "  </tbody>\n",
       "</table>\n",
       "</div>"
      ],
      "text/plain": [
       "   index                                            Summary  \\\n",
       "0      0  [DEV] Admin can add user permissions with end ...   \n",
       "1      1  [DEV] Missing Input Validation for Endpoint Ad...   \n",
       "2      2  [STG][PP][Launcher][Recharge] There's ellipsis...   \n",
       "3      3  [DEV][AP][VersusEvil] Registered User not coun...   \n",
       "4      4  [DEV] Fix Issues for Endpoint Admin Delete Use...   \n",
       "\n",
       "                                         Description  \\\n",
       "0  SDET tried to test endpoint for happy case :  ...   \n",
       "1  SDET tried to test endpoint for negative case ...   \n",
       "2                                                  -   \n",
       "3  Registered User not count in Daily Active User...   \n",
       "4  SDET tried to test endpoint DELETE /iam/v3/adm...   \n",
       "\n",
       "                                              Concat  \n",
       "0  [dev, add, value, try, test, endpoint, iam, v,...  \n",
       "1  [dev, miss, input, validation, endpoint, add, ...  \n",
       "2                   [stg, pp, launcher, buy, button]  \n",
       "3  [dev, ap, register, login, register, login, pl...  \n",
       "4  [dev, fix, issue, endpoint, delete, roles, try...  "
      ]
     },
     "execution_count": 11,
     "metadata": {},
     "output_type": "execute_result"
    }
   ],
   "source": [
    "data.head()"
   ]
  },
  {
   "cell_type": "code",
   "execution_count": 12,
   "metadata": {},
   "outputs": [],
   "source": [
    "Summary = data.Concat.astype(str)\n",
    "listOfSummary = list(data.Concat)"
   ]
  },
  {
   "cell_type": "markdown",
   "metadata": {},
   "source": [
    "# Hiearchical Clustering"
   ]
  },
  {
   "cell_type": "markdown",
   "metadata": {},
   "source": [
    "## Jaccard Coeffient"
   ]
  },
  {
   "cell_type": "code",
   "execution_count": 13,
   "metadata": {},
   "outputs": [],
   "source": [
    "import itertools\n",
    "def compute_jaccard(str1, str2):\n",
    "    himpunan1 = set(str1)\n",
    "    himpunan2 = set(str2)\n",
    "    irisan = himpunan1.intersection(himpunan2)\n",
    "    gabungan = himpunan1.union(himpunan2)\n",
    "    jaccard = len(irisan)/float(len(gabungan))\n",
    "    \n",
    "    return jaccard"
   ]
  },
  {
   "cell_type": "code",
   "execution_count": 14,
   "metadata": {},
   "outputs": [],
   "source": [
    "sim_df = pd.DataFrame()\n",
    "\n",
    "for col_pair in itertools.combinations_with_replacement(listOfSummary,2):\n",
    "    strOfCol = str(col_pair)\n",
    "    \n",
    "    u0 = col_pair[0]\n",
    "    u1 = col_pair[1]\n",
    "    sim_df.loc[str(col_pair[0]), str(col_pair[1])] = compute_jaccard(u0, u1)"
   ]
  },
  {
   "cell_type": "code",
   "execution_count": 15,
   "metadata": {},
   "outputs": [],
   "source": [
    "np.savetxt(\"./Output/distance_matrix_before_fillna.csv\", np.array(sim_df), delimiter=\",\")"
   ]
  },
  {
   "cell_type": "code",
   "execution_count": 16,
   "metadata": {},
   "outputs": [],
   "source": [
    "sim_df = sim_df.fillna(0)"
   ]
  },
  {
   "cell_type": "code",
   "execution_count": 17,
   "metadata": {},
   "outputs": [
    {
     "name": "stdout",
     "output_type": "stream",
     "text": [
      "[[1.         0.44827586 0.         ... 0.07142857 0.         0.05128205]\n",
      " [0.         1.         0.         ... 0.02564103 0.         0.04081633]\n",
      " [0.         0.         1.         ... 0.11764706 0.         0.07142857]\n",
      " ...\n",
      " [0.         0.         0.         ... 1.         0.05       0.18181818]\n",
      " [0.         0.         0.         ... 0.         1.         0.14285714]\n",
      " [0.         0.         0.         ... 0.         0.         1.        ]]\n"
     ]
    }
   ],
   "source": [
    "dist = np.array(sim_df)\n",
    "print(dist)"
   ]
  },
  {
   "cell_type": "code",
   "execution_count": 18,
   "metadata": {},
   "outputs": [],
   "source": [
    "# ndist = dist[:, ~np.isnan(dist).any(axis=0)]\n",
    "# # print(ndist)"
   ]
  },
  {
   "cell_type": "code",
   "execution_count": 19,
   "metadata": {},
   "outputs": [],
   "source": [
    "np.savetxt(\"./Output/distance_matrix.csv\", dist, delimiter=\",\")"
   ]
  },
  {
   "cell_type": "markdown",
   "metadata": {},
   "source": [
    "## Agglomerative Hierarchical Clustering"
   ]
  },
  {
   "cell_type": "code",
   "execution_count": 20,
   "metadata": {},
   "outputs": [],
   "source": [
    "linkage_matrix = ward(dist) # replace with complete, single, or other scipy.cluster.hierarchical algorithms"
   ]
  },
  {
   "cell_type": "markdown",
   "metadata": {},
   "source": [
    "## Visualization\n",
    "\n",
    "Dendrogram visualization. We visualize the titles of each paper next to the corresponding leaf to qualitatively evaluate the clustering.\n",
    "\n",
    "Changing the `color_threshold` kwarg in the call to `dendrogram()` will affect how the clusters are displayed by increasing or decreasing the \n",
    "minimum distance necessary for `dendrogram()` to color a cluster differently."
   ]
  },
  {
   "cell_type": "code",
   "execution_count": 21,
   "metadata": {},
   "outputs": [],
   "source": [
    "# sys.setrecursionlimit(10000)\n",
    "# MAX_COPHENETIC_DIST = max(linkage_matrix[:,2]) * 0.39 # max distance between points to be considered together. can be tuned.\n",
    "# MAX_TITLE_LEN = 200\n",
    "\n",
    "# fig, ax = plt.subplots(figsize=(15, 80)) # set size\n",
    "# ax = dendrogram(linkage_matrix, orientation=\"right\", color_threshold=MAX_COPHENETIC_DIST, leaf_font_size=4, labels=Summary.apply(lambda x: x if len(x) < MAX_TITLE_LEN else x[:MAX_TITLE_LEN  - 3] + \"...\").tolist())\n",
    "\n",
    "# plt.tick_params(axis= 'x', which='both',  bottom='off', top='off',labelbottom='off')\n",
    "\n",
    "# plt.tight_layout() #show plot with tight layout\n",
    "# plt.savefig('./Output/jaccard-coeff-ward.png', dpi=300)"
   ]
  },
  {
   "cell_type": "markdown",
   "metadata": {},
   "source": [
    "# Analysis\n",
    "\n",
    "We now take the raw clusters achieved and use the silhouette score and elbow method to evaluate."
   ]
  },
  {
   "cell_type": "code",
   "execution_count": 22,
   "metadata": {},
   "outputs": [],
   "source": [
    "def silhouette_k(distance_matrix, linkage_matrix, max_k=20):\n",
    "    scores = []\n",
    "    for i in range(2, max_k+1):\n",
    "        clusters = fcluster(linkage_matrix, i, criterion='maxclust')\n",
    "        score = silhouette_score(distance_matrix, clusters, metric='precomputed')\n",
    "        print(\"Silhouette score with {} clusters:\".format(i), score)\n",
    "        scores.append(score)\n",
    "    plt.title(\"Silhouette score vs. number of clusters\")\n",
    "    plt.xlabel(\"# of clusters\")\n",
    "    plt.ylabel(\"Score (higher is better)\")\n",
    "    plt.plot(np.arange(2, max_k+1), scores)\n",
    "    plt.show()\n",
    "    return scores\n",
    "    "
   ]
  },
  {
   "cell_type": "code",
   "execution_count": 23,
   "metadata": {},
   "outputs": [
    {
     "name": "stdout",
     "output_type": "stream",
     "text": [
      "Silhouette score with 2 clusters: -0.4637117941260083\n",
      "Silhouette score with 3 clusters: -0.69863168709219\n",
      "Silhouette score with 4 clusters: -0.7490737623822706\n",
      "Silhouette score with 5 clusters: -0.7708133869294024\n",
      "Silhouette score with 6 clusters: -0.7713315938706189\n",
      "Silhouette score with 7 clusters: -0.8155833933226798\n",
      "Silhouette score with 8 clusters: -0.8216914885844304\n",
      "Silhouette score with 9 clusters: -0.8689938399985903\n",
      "Silhouette score with 10 clusters: -0.8687448629141388\n",
      "Silhouette score with 11 clusters: -0.9669313734277906\n",
      "Silhouette score with 12 clusters: -0.9696713295233745\n",
      "Silhouette score with 13 clusters: -0.9689206832053037\n",
      "Silhouette score with 14 clusters: -0.9679443883518732\n",
      "Silhouette score with 15 clusters: -0.9669423843438572\n",
      "Silhouette score with 16 clusters: -0.9659382255569364\n",
      "Silhouette score with 17 clusters: -0.9650655590146313\n",
      "Silhouette score with 18 clusters: -0.9643206164836156\n",
      "Silhouette score with 19 clusters: -0.9664916100572245\n",
      "Silhouette score with 20 clusters: -0.9654997391912029\n"
     ]
    },
    {
     "data": {
      "image/png": "[encoded data removed]",
      "text/plain": [
       "<Figure size 432x288 with 1 Axes>"
      ]
     },
     "metadata": {
      "needs_background": "light"
     },
     "output_type": "display_data"
    }
   ],
   "source": [
    "np.fill_diagonal(dist, 0)\n",
    "_ = silhouette_k(dist, linkage_matrix)"
   ]
  },
  {
   "cell_type": "markdown",
   "metadata": {},
   "source": [
    " # Hierarchical Clustering Using Jaccard Coefficient and IDF"
   ]
  },
  {
   "cell_type": "code",
   "execution_count": 24,
   "metadata": {},
   "outputs": [],
   "source": [
    "def calc_DF(tfDict):\n",
    "    count_DF = {}\n",
    "    # Run through each document's tf dictionary and increment countDict's (term, doc) pair\n",
    "    for document in tfDict:\n",
    "        for term in document:\n",
    "            if term in count_DF:\n",
    "                count_DF[term] += 1\n",
    "            else:\n",
    "                count_DF[term] = 1\n",
    "    return count_DF\n",
    "\n",
    "DF = calc_DF(listOfSummary)"
   ]
  },
  {
   "cell_type": "code",
   "execution_count": 25,
   "metadata": {},
   "outputs": [],
   "source": [
    "with open('./Output/MyDFDict.csv', 'w') as f:\n",
    "    for key in DF.keys():\n",
    "        f.write(\"%s,%s\\n\"%(key,DF[key]))"
   ]
  },
  {
   "cell_type": "code",
   "execution_count": 26,
   "metadata": {},
   "outputs": [],
   "source": [
    "n_document = len(listOfSummary)\n",
    "\n",
    "def calc_IDF(__n_document, __DF):\n",
    "    IDF_Dict = {}\n",
    "    for term in __DF:\n",
    "        IDF_Dict[term] = np.log(__n_document / (__DF[term] + 1))\n",
    "    return IDF_Dict\n",
    "  \n",
    "#Stores the idf dictionary\n",
    "IDF = calc_IDF(n_document, DF)"
   ]
  },
  {
   "cell_type": "code",
   "execution_count": 27,
   "metadata": {},
   "outputs": [],
   "source": [
    "with open('./Output/MyIDFDict.csv', 'w') as f:\n",
    "    for key in IDF.keys():\n",
    "        f.write(\"%s,%s\\n\"%(key,IDF[key]))"
   ]
  },
  {
   "cell_type": "code",
   "execution_count": 28,
   "metadata": {},
   "outputs": [],
   "source": [
    "def compute_jaccard(str1, str2):\n",
    "    himpunan1 = set(str1)\n",
    "    himpunan2 = set(str2)\n",
    "    irisan = himpunan1.intersection(himpunan2)\n",
    "    IDF_VAL = 0.0\n",
    "    for key in irisan:\n",
    "        IDF_VAL = IDF_VAL + IDF[key]\n",
    "    IDF_VAL = IDF_VAL/(len(irisan)+1)\n",
    "    gabungan = himpunan1.union(himpunan2)\n",
    "#     jaccard = IDF_VAL\n",
    "    jaccard = (len(irisan)/float(len(gabungan))) * IDF_VAL\n",
    "    \n",
    "    return jaccard"
   ]
  },
  {
   "cell_type": "code",
   "execution_count": 29,
   "metadata": {},
   "outputs": [],
   "source": [
    "import itertools\n",
    "\n",
    "sim_df = pd.DataFrame()\n",
    "\n",
    "for col_pair in itertools.combinations_with_replacement(listOfSummary,2):\n",
    "    strOfCol = str(col_pair)\n",
    "    \n",
    "    u0 = col_pair[0]\n",
    "    u1 = col_pair[1]\n",
    "    sim_df.loc[str(col_pair[0]), str(col_pair[1])] = compute_jaccard(u0, u1)"
   ]
  },
  {
   "cell_type": "code",
   "execution_count": 30,
   "metadata": {},
   "outputs": [],
   "source": [
    "sim_df = sim_df.fillna(0)"
   ]
  },
  {
   "cell_type": "code",
   "execution_count": 31,
   "metadata": {},
   "outputs": [
    {
     "name": "stdout",
     "output_type": "stream",
     "text": [
      "[[1.75127318 0.77106975 0.         ... 0.07509806 0.         0.05835601]\n",
      " [0.         2.20171352 0.         ... 0.02142709 0.         0.05434816]\n",
      " [0.         0.         1.02525515 ... 0.06104123 0.         0.04570551]\n",
      " ...\n",
      " [0.         0.         0.         ... 1.52277938 0.00725881 0.18728749]\n",
      " [0.         0.         0.         ... 0.         1.46457171 0.14903319]\n",
      " [0.         0.         0.         ... 0.         0.         1.50997598]]\n"
     ]
    }
   ],
   "source": [
    "dist = np.array(sim_df)\n",
    "\n",
    "print(dist)"
   ]
  },
  {
   "cell_type": "code",
   "execution_count": 32,
   "metadata": {},
   "outputs": [],
   "source": [
    "sim_df.to_csv(\"./Output/jcidf_matrix.csv\")"
   ]
  },
  {
   "cell_type": "markdown",
   "metadata": {},
   "source": [
    "## Agglomerative Hierarchical Clustering"
   ]
  },
  {
   "cell_type": "code",
   "execution_count": 33,
   "metadata": {},
   "outputs": [],
   "source": [
    "linkage_matrix = ward(dist) # replace with complete, single, or other scipy.cluster.hierarchical algorithms"
   ]
  },
  {
   "cell_type": "markdown",
   "metadata": {},
   "source": [
    "## Visualization\n",
    "\n",
    "Dendrogram visualization. We visualize the titles of each paper next to the corresponding leaf to qualitatively evaluate the clustering.\n",
    "\n",
    "Changing the `color_threshold` kwarg in the call to `dendrogram()` will affect how the clusters are displayed by increasing or decreasing the \n",
    "minimum distance necessary for `dendrogram()` to color a cluster differently."
   ]
  },
  {
   "cell_type": "code",
   "execution_count": 34,
   "metadata": {},
   "outputs": [],
   "source": [
    "# sys.setrecursionlimit(10000)\n",
    "# MAX_COPHENETIC_DIST = max(linkage_matrix[:,2]) * 0.39 # max distance between points to be considered together. can be tuned.\n",
    "# MAX_TITLE_LEN = 200\n",
    "\n",
    "# fig, ax = plt.subplots(figsize=(15, 80)) # set size\n",
    "# ax = dendrogram(linkage_matrix, orientation=\"right\", color_threshold=MAX_COPHENETIC_DIST, leaf_font_size=4,\n",
    "#                 labels=Summary.apply(lambda x: x if len(x) < MAX_TITLE_LEN else x[:MAX_TITLE_LEN  - 3] + \"...\").tolist())\n",
    "\n",
    "# plt.tick_params(axis= 'x', which='both',  bottom='off', top='off',labelbottom='off')\n",
    "\n",
    "# plt.tight_layout() #show plot with tight layout\n",
    "# plt.savefig('./Output/jaccard-idf-coeff-ward.png', dpi=300)"
   ]
  },
  {
   "cell_type": "markdown",
   "metadata": {},
   "source": [
    "# Analysis\n",
    "\n",
    "We now take the raw clusters achieved and use the silhouette score and elbow method to evaluate."
   ]
  },
  {
   "cell_type": "code",
   "execution_count": 35,
   "metadata": {},
   "outputs": [],
   "source": [
    "def silhouette_k(distance_matrix, linkage_matrix, max_k=20):\n",
    "    scores = []\n",
    "    for i in range(2, max_k+1):\n",
    "        clusters = fcluster(linkage_matrix, i, criterion='maxclust')\n",
    "        score = silhouette_score(distance_matrix, clusters, metric='precomputed')\n",
    "        print(\"Silhouette score with {} clusters:\".format(i), score)\n",
    "        scores.append(score)\n",
    "    plt.title(\"Silhouette score vs. number of clusters\")\n",
    "    plt.xlabel(\"# of clusters\")\n",
    "    plt.ylabel(\"Score (higher is better)\")\n",
    "    plt.plot(np.arange(2, max_k+1), scores)\n",
    "    plt.show()\n",
    "    return scores"
   ]
  },
  {
   "cell_type": "code",
   "execution_count": 36,
   "metadata": {},
   "outputs": [
    {
     "name": "stdout",
     "output_type": "stream",
     "text": [
      "Silhouette score with 2 clusters: -0.6002705955310467\n",
      "Silhouette score with 3 clusters: -0.6345542440983843\n",
      "Silhouette score with 4 clusters: -0.6714700827096836\n",
      "Silhouette score with 5 clusters: -0.7516657669652884\n",
      "Silhouette score with 6 clusters: -0.7919538628729238\n",
      "Silhouette score with 7 clusters: -0.8515845896783548\n",
      "Silhouette score with 8 clusters: -0.8633669675292565\n",
      "Silhouette score with 9 clusters: -0.8627323212371145\n",
      "Silhouette score with 10 clusters: -0.8854231520121508\n",
      "Silhouette score with 11 clusters: -0.8852082607021298\n",
      "Silhouette score with 12 clusters: -0.9094055207489654\n",
      "Silhouette score with 13 clusters: -0.909103303799218\n",
      "Silhouette score with 14 clusters: -0.9810204296786283\n",
      "Silhouette score with 15 clusters: -0.9809281236704115\n",
      "Silhouette score with 16 clusters: -0.97999471010308\n",
      "Silhouette score with 17 clusters: -0.979101357186124\n",
      "Silhouette score with 18 clusters: -0.9787659445889832\n",
      "Silhouette score with 19 clusters: -0.9777639405809673\n",
      "Silhouette score with 20 clusters: -0.9767672660352809\n"
     ]
    },
    {
     "data": {
      "image/png": "[encoded data removed]",
      "text/plain": [
       "<Figure size 432x288 with 1 Axes>"
      ]
     },
     "metadata": {
      "needs_background": "light"
     },
     "output_type": "display_data"
    }
   ],
   "source": [
    "np.fill_diagonal(dist, 0)\n",
    "_ = silhouette_k(dist, linkage_matrix)"
   ]
  }
 ],
 "metadata": {
  "kernelspec": {
   "display_name": "Python 3",
   "language": "python",
   "name": "python3"
  },
  "language_info": {
   "codemirror_mode": {
    "name": "ipython",
    "version": 3
   },
   "file_extension": ".py",
   "mimetype": "text/x-python",
   "name": "python",
   "nbconvert_exporter": "python",
   "pygments_lexer": "ipython3",
   "version": "3.8.5"
  }
 },
 "nbformat": 4,
 "nbformat_minor": 4
}
