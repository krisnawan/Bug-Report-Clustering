{
 "cells": [
  {
   "cell_type": "markdown",
   "metadata": {},
   "source": [
    "# Import library and Data"
   ]
  },
  {
   "cell_type": "code",
   "execution_count": 1,
   "metadata": {},
   "outputs": [],
   "source": [
    "import pandas as pd\n",
    "from nltk import word_tokenize\n",
    "from nltk.tokenize import TweetTokenizer\n",
    "import re\n",
    "import numpy as np\n",
    "\n",
    "df = pd.read_csv('Input/Bug report.csv')\n",
    "# df2 = pd.read_csv('hoax5.csv')"
   ]
  },
  {
   "cell_type": "code",
   "execution_count": 4,
   "metadata": {},
   "outputs": [
    {
     "data": {
      "text/plain": [
       "200"
      ]
     },
     "execution_count": 4,
     "metadata": {},
     "output_type": "execute_result"
    }
   ],
   "source": [
    "#Gabungkan data menjadi satu dataframe\n",
    "# df = pd.concat([df1, df2]).drop_duplicates().reset_index(drop=True)\n",
    "df['Concat'] = df.Summary +\" \"+ df.Description\n",
    "# data.to_csv(\"./Output/data_concat.csv\")\n",
    "df = df[:200] \n",
    "df.shape\n",
    "len(df) #jumlah tweet"
   ]
  },
  {
   "cell_type": "code",
   "execution_count": 5,
   "metadata": {},
   "outputs": [
    {
     "name": "stdout",
     "output_type": "stream",
     "text": [
      "                                             Summary  \\\n",
      "0  [DEV] Admin can add user permissions with end ...   \n",
      "1  [DEV] Missing Input Validation for Endpoint Ad...   \n",
      "2  [STG][PP][Launcher][Recharge] There's ellipsis...   \n",
      "3  [DEV][AP][VersusEvil] Registered User not coun...   \n",
      "4  [DEV] Fix Issues for Endpoint Admin Delete Use...   \n",
      "\n",
      "                                         Description  \\\n",
      "0  SDET tried to test endpoint for happy case :  ...   \n",
      "1  SDET tried to test endpoint for negative case ...   \n",
      "2                                                  -   \n",
      "3  Registered User not count in Daily Active User...   \n",
      "4  SDET tried to test endpoint DELETE /iam/v3/adm...   \n",
      "\n",
      "                                              Concat  \n",
      "0  [DEV] Admin can add user permissions with end ...  \n",
      "1  [DEV] Missing Input Validation for Endpoint Ad...  \n",
      "2  [STG][PP][Launcher][Recharge] There's ellipsis...  \n",
      "3  [DEV][AP][VersusEvil] Registered User not coun...  \n",
      "4  [DEV] Fix Issues for Endpoint Admin Delete Use...  \n",
      "panjang tweet =  200\n"
     ]
    }
   ],
   "source": [
    "print(df.head())\n",
    "print('panjang tweet = ', len(df))"
   ]
  },
  {
   "cell_type": "markdown",
   "metadata": {},
   "source": [
    "# Text Processing"
   ]
  },
  {
   "cell_type": "code",
   "execution_count": 6,
   "metadata": {},
   "outputs": [],
   "source": [
    "#take tweet column\n",
    "tweet = df.iloc[:,2]"
   ]
  },
  {
   "cell_type": "code",
   "execution_count": 7,
   "metadata": {},
   "outputs": [
    {
     "name": "stdout",
     "output_type": "stream",
     "text": [
      "0      [[, DEV, ], Admin, can, add, user, permissions...\n",
      "1      [[, DEV, ], Missing, Input, Validation, for, E...\n",
      "2      [[, STG, ], [, PP, ], [, Launcher, ], [, Recha...\n",
      "3      [[, DEV, ], [, AP, ], [, VersusEvil, ], Regist...\n",
      "4      [[, DEV, ], Fix, Issues, for, Endpoint, Admin,...\n",
      "                             ...                        \n",
      "195    [[, STG, ], [, AP, ], Out, of, bound, label, o...\n",
      "196    [[, STG, ], [, AP, ], [, Demo, Game, ], Buy, b...\n",
      "197    [[, STG, ], [, AP, ], Store, information, list...\n",
      "198    [[, STG, ], Disabled, Item, missing, from, \", ...\n",
      "199    [[, STG, ], [, PP, ], Unable, to, purchase, it...\n",
      "Name: Concat, Length: 200, dtype: object\n"
     ]
    }
   ],
   "source": [
    "Tokenizer = TweetTokenizer(strip_handles=True, reduce_len=True)\n",
    "\n",
    "tweet_new = tweet.apply(Tokenizer.tokenize)\n",
    "\n",
    "print(tweet_new)"
   ]
  },
  {
   "cell_type": "code",
   "execution_count": 8,
   "metadata": {},
   "outputs": [],
   "source": [
    "# #definisi emoji\n",
    "\n",
    "# #HappyEmoticons\n",
    "# emoticons_happy = set([\n",
    "#     ':-)', ':)', ';)', ':o)', ':]', ':3', ':c)', ':>', '=]', '8)', '=)', ':}',\n",
    "#     ':^)', ':-D', ':D', '8-D', '8D', 'x-D', 'xD', 'X-D', 'XD', '=-D', '=D',\n",
    "#     '=-3', '=3', ':-))', \":'-)\", \":')\", ':*', ':^*', '>:P', ':-P', ':P', 'X-P',\n",
    "#     'x-p', 'xp', 'XP', ':-p', ':p', '=p', ':-b', ':b', '>:)', '>;)', '>:-)',\n",
    "#     '<3'\n",
    "#     ])\n",
    "\n",
    "# # Sad Emoticons\n",
    "# emoticons_sad = set([\n",
    "#     ':L', ':-/', '>:/', ':S', '>:[', ':@', ':-(', ':[', ':-||', '=L', ':<',\n",
    "#     ':-[', ':-<', '=\\\\', '=/', '>:(', ':(', '>.<', \":'-(\", \":'(\", ':\\\\', ':-c',\n",
    "#     ':c', ':{', '>:\\\\', ';('\n",
    "#     ])\n",
    "\n",
    "# #Emoji patterns\n",
    "# emoji_pattern = re.compile(\"[\"\n",
    "#          u\"\\U0001F600-\\U0001F64F\"  # emoticons\n",
    "#          u\"\\U0001F300-\\U0001F5FF\"  # symbols & pictographs\n",
    "#          u\"\\U0001F680-\\U0001F6FF\"  # transport & map symbols\n",
    "#          u\"\\U0001F1E0-\\U0001F1FF\"  # flags (iOS)\n",
    "#          u\"\\U00002702-\\U000027B0\"\n",
    "#          u\"\\U000024C2-\\U0001F251\"\n",
    "#          \"]+\", flags=re.UNICODE)\n",
    "\n",
    "# #combine sad and happy emoticons\n",
    "# emoticons = emoticons_happy.union(emoticons_sad)"
   ]
  },
  {
   "cell_type": "code",
   "execution_count": 9,
   "metadata": {},
   "outputs": [],
   "source": [
    "#process cleaning tweets\n",
    "processed_tweets = []\n",
    "\n",
    "for tweet in range(0, len(tweet_new)):     \n",
    "    # Remove all the special characters\n",
    "    processed_tweet = re.sub(r'\\W', ' ', str(tweet_new[tweet]))\n",
    "    \n",
    "    # Remove number\n",
    "    processed_tweet = re.sub(r'\\d+', ' ', processed_tweet)\n",
    "    \n",
    "    #removing mentions\n",
    "    processed_tweet = re.sub(r':', '', processed_tweet)\n",
    "    processed_tweet = re.sub(r'‚Ä¶', '', processed_tweet)\n",
    "    \n",
    "    #replace consecutive non-ASCII characters with a space\n",
    "    processed_tweet = re.sub(r'[^\\x00-\\x7F]+',' ', processed_tweet)\n",
    "    \n",
    "    #remove https\n",
    "    processed_tweet = re.sub(r'http\\S+|www.\\S+', ' ', processed_tweet)\n",
    "    \n",
    "    #remove RT text\n",
    "    processed_tweet = re.sub(r'RT', ' ', processed_tweet)\n",
    "    \n",
    "    #remove co text\n",
    "    processed_tweet = re.sub(r'co', ' ', processed_tweet)\n",
    "    \n",
    "    # remove all single characters\n",
    "    processed_tweet = re.sub(r'\\s+[a-zA-Z]\\s+', ' ', processed_tweet)\n",
    " \n",
    "    # Remove single characters from the start\n",
    "    processed_tweet = re.sub(r'\\^[a-zA-Z]\\s+', ' ', processed_tweet)\n",
    "    \n",
    "    #remove emoji\n",
    "#     processed_tweet = emoji_pattern.sub(r'', processed_tweet)\n",
    "    \n",
    "    # Substituting multiple spaces with single space\n",
    "    processed_tweet= re.sub(r'\\s+', ' ', processed_tweet, flags=re.I)\n",
    " \n",
    "    # Converting to Lowercase\n",
    "    processed_tweet = processed_tweet.lower()\n",
    " \n",
    "    processed_tweets.append(processed_tweet)"
   ]
  },
  {
   "cell_type": "code",
   "execution_count": 10,
   "metadata": {},
   "outputs": [
    {
     "name": "stdout",
     "output_type": "stream",
     "text": [
      "0  dev admin can add user permissions with end lon in resource value sdet tried to test endpoint for happy case post iam admin namespaces namespace users userid permissions on body request resource value inputed with end lon and able to add user permissions image png thumbnail \n",
      "1  dev missing input validation for endpoint admin add update user permissions sdet tried to test endpoint for negative case post iam admin namespaces namespace users userid permissions put iam admin namespaces namespace users userid permissions and found there are some failed test for following cases user not found failed unable to parse request body failed invalid namespace character user id less than characters user id more than characters user id with hypen user id with whitespace it caused by this endpoint not implemented input validation yet \n",
      "2  stg pp launcher recharge there ellipsis symbol in the buy for button in chinese language \n",
      "3  dev ap versusevil registered user not unt in daily active user after login registered user not unt in daily active user after login in player portal daily active user chart not increase how to reproduce login as admin portal in dev versusevil accelbyte io admin go to analytics dashboard and check daily active user value in latest date login as player that already registered before in player portal refresh analytics dashboard and check daily active user value isn increase daily active user must be increase if user get any activity in player portal for day \n",
      "4  dev fix issues for endpoint admin delete user roles sdet tried to test endpoint delete iam admin namespaces namespace users userid roles direct api gw and found there are some failed test for following cases platform ac unt not found unable to parse request body user not found role id not found roles not found empty role ids role id less than characters role id more than characters role id using hypen role id using whitespace \n",
      "5  pp back to profile button is not working when clicked and the position is overlap the page header when user change email and get the input verification de page the back to profile button on that page is not clickable and the position is overlap the page header image png thumbnail \n",
      "6  bug web registration error message for display name and password displayed not properly user open ve website and reach registration page when user left form registration blank then tick legal agreement there is displayed error message and notice that error message for display name and password displayed in bottom of text rule expected result please move error message for display name and password to above form text rule see attachment for details \n",
      "7  bug web registration registration form displayed not properly user open ve web and create new ac unt when user reach registration page notice that registration form displayed not properly label font size etc expected result update form in registration page and make same with form in complete beta registration reduce margin betwen ve n with top see attachment \n",
      "8  bug web registration take out login with steam button in registration page user open login page in ve website and then create new ac unt when user reach registration page there is displayed login with steam button expected result please take out login with steam button in registration page \n",
      "9  bug web forgot password forgot password displayed not ac rdance with design user open ve website then access login page when user click forgot password and reach the page notice that forgot password displayed not ac rdance with design issue letter for title forgot your password displayed not uppercase margin between text displayed in px instead px font weight for send verification code displayed in instead expected result need update margin between fields see attachment for update details \n",
      "10  bug web loading when access login register forgot password display in default grey user open ve website then click login button when user redirected to login page there is displayed loading and notic that loading when access login register forgot password display in default grey step open ve website click login button expected result loading when open login registration forgot password should display same with other loading in ve website \n",
      "11  stg ap demo game coins with in tag only show virtual currency price \n",
      "12  dev direct and api gw have different behaviour endpoint get iam public roles roleid this endpoint has different behaviour when test on direct it will success without bearer api gw get unauthorized result step to repro provide roleid hit the endpoint without bearer \n",
      "13  dev ap versusevil mau chart is larger than total user mau chart value is larger than total user value mau must show chart how many active user in month how to reproduce admin login in admin portal dev versusevil accelbyte io admin go to analytics dashboard and see the mau chart \n",
      "14  dev ap versusevil mau this month is larger than total user mau this month show but total user only show mau this month must show actual data from active user in month how to reproduce login as admin portal in dev versusevil accelbyte io admin goto analytics dasboard and check mau this month and total user \n",
      "15  launcher unable to typing on xsolla payment page after minimize maximize launher when user purchase item and redirected to xsolla payment page and type on field then user maximize minimize the launcher user unable to ntinue typing this issue is not happens on pp image png thumbnail note this issue happens on justice launcher checking on stg launcher version rc \n",
      "16  pp legal document detail is not appeared after admin change the legal ntent from ap after admin change the legal document ntent from ap user will see the legal document not found on legal web image png thumbnail but if admin edit the ntent to be the original ntent the legal detail will be appeared on the legal web normally note this issue also happens on justice checking on stg justice legal website rc justice legal service rc accelbyte playerportal rc justice adminportal website rc \n",
      "17  dev missing input validation for endpoint admin public get user login histories sdet tried to test endpoint for negative case get iam admin namespaces namespace users userid logins histories get iam public namespaces namespace users userid logins histories direct api gw and found there are some failed test for following cases user not found user id less than characters user id more than characters user id with hypen user id with whitespace it caused by this endpoint not implemented input validation yet \n",
      "18  stg demo game player didn receive error message when purchase ins above max balance for certain currency after check it again this is also happen when admin set max amount transaction and max transaction amount day to or \n",
      "19  launcher list of game server is not appeared when user want to send item to game using distribution receiver feature when user want to send items to game user can not see the list of game server on the dropdown image png thumbnail \n",
      "20  wordpress customization privacy policy url on footer acceptance criteria the footer should get based policy and published localized policy data for the based policy id specified the footer policy link should display url to published localized policy id based on based policy id specified \n",
      "21  bug iam fetch user steam return how to reproduce login with steam on versus evil dev dev versusevil accelbyte io after login the login website redirect user to page iam log de java time z level warning msg unable to authenticate user unable to get player identity platform server returned amzn trace id client_id ad b ac ae bdf mponent_id iam event_id log_type event module oauth namespace versusevil osin_flag realm versusevil resp source_ip user_id time z level info msg jan get iam platforms steamopenid authenticate openid assoc_handle openid claimed_id f fsteam mmunity fopenid fid openid identity f fsteam mmunity fopenid fid openid mode id_res openid ns http f fspecs openid net fauth openid op_endpoint f fsteam mmunity fopenid flogin openid response_nonce a z pux usrzxol npcn spkpf openid return_to f fapi dev versusevil accelbyte io fiam fv fplatforms fsteamopenid fauthenticate fstate df ec e eee openid sig mmavulig nxsyblwvphhy jfq openid signed signed cop_endpoint cclaimed_id cidentity creturn_to cresponse_nonce cassoc_handle state d ec e eee http de acceptance criteria login with steam should work properly \n",
      "22  dev missing input validation for endpoint public get user bans sdet tried to test endpoint get iam public namespaces namespace users userid bans direct api gw and found there are some failed test for following cases user not found invalid namespace character user id less than characters user id more than characters user id with hypen user id with whitespace it caused by this endpoint not implemented input validation yet \n",
      "23  api gateway content length header is not propagated to the service when we hit justice dev accelbyte io iam apidocs oauth platformtokengrantv using content type text plain it will return unsupported media type but when we hit the endpoint through api gateway it returns not acceptable this happened because of the body already read so when apigateway sent the request to the service the body is empty acceptance criteria for all proxy method that read the ntent body set request body to the state it can be read before sent to the service \n",
      "24  bug sendgrid template suspicious activty send empty subject and empty name this is report from kukuh accelbyte slack archives cpyuzs p the send grid also showed empty subject \n",
      "25  bug web delete ac unt user auto get expired session popup after delete ac unt from my ac unt user login to ve web then open ac unt deletion menu in my ac unt after that user input password in form ac unt deletion when user click delete my ac unt button notice that user get popup session expired after delete ac unt and auto direct to homepage steps login to ve website reach ac unt deletion menu in my ac unt input password in form click delete my ac unt button expected result after delete ac unt user should dispaly ac unt deletion message user ac unt not auto get expired session see attachment for details \n",
      "26  stg ap ac unt deletion request no internet nnection pop up is displayed when input an invalid date \n",
      "27  bug web delete ac unt page direct to other url when login using ac unt that deleted from admin portal admin open admin portal then login after that admin open user ac unt and delete it when user open web then try login using ac unt that delete by admin notice that when user try to login page redirected from dev versusevil accelbyte io dev versusevil accelbyte io to stage versusevil error access_denied error_description the user is disabled error_uri stage versusevil error access_denied error_description the user is disabled error_uri step admin login to admin portal then reach user management admin delete one user ac unt user open ve website user login using ac unt that deleted by admin expected result page not redirected to _ stage versusevil error access_denied error_description the user is disabled error_uri_ stage versusevil error access_denied error_description the user is disabled error_uri see attchment for details \n",
      "28  bug web login with steam user get error page when sign in using steam ac unt user open ve website and click login button when user click login with steam then sign in using steam ac unt notice that page auto redirect to error page after sign in using steam ac unt step open ve website reach login page click login with steam sign in using steam ac unt expected user should can login using steam ac unt will be direct to upgrade headles ac unt page when first time login using steam will direct to homepage when steam ac unt has been upgrade before see attachment for details \n",
      "29  bug web change email user get error message when verify de in change email user access ve web andlogin then user go to my profile after that user send verification to change email with click change button user cek email for verification de when user input that de and verify it notice that user get error messag something went wrong for more information please ntact our support at hello accelbyte io when verify de from email step open ve website and login reach my profile click change button cek email for verification de paste in verify form and click the button expected user can verify the de to proccess change email see attachment for details \n",
      "30  bug registration user not auto redirect to homepage when success verification ac unt user access ve website then create new ac unt after that user success create and verify the ac unt when user login using that ac unt notice that user direct to error page first then redirect to homepage steps user access ve website then reach login page open create new ac unt and create one finish it with verify the ac unt login using that new ac unt expected result after success verification page should auto redirect to homepage see attachment for details \n",
      "31  automation test get while the error should be when sending verification de to verified user on the automation test when targeting post iam admin namespaces namespace users userid de request end point there a case where the the endpoint was called to send verification de to verified user for this case the error was handled by error de user verified but instead the endpoint send error de user id not match this also happened when hitting the post iam public namespaces namespace users me de request endpoint \n",
      "32  pp launcher change email after user input new email form to input verification de on old email is appeared again when user change email using not verified ac unt and input new email address user will be redirected again to the input verification de for old email address page after input new email address user should be redirected to input verification de for new email complete step on actual result user receive pop up to input verification de on old email user input verification de form to input new email is appeared after user input new email form to input verification de on old email is appeared again user ac unt will be verified after the email successfully changed \n",
      "33  launcher error page when download game paused when user download game and then pause the download an error page will appear image png thumbnail after user click try again and resume the download the game will ntinue to be downloaded \n",
      "34  build info add realm prefix in buildinfo redis key name to prevent nflict with other realm add prefix in all buildinfo redis key name to prevent nflict with other realm redis key \n",
      "35  api gateway add realm prefix in apigateway redis key name to prevent nflict with other realm add realm prefix in apigateway redis key name to prevent nflict with other realm \n",
      "36  legal update wrong app_legal_s _base_path_url jenkins value update wrong app_legal_s _base_path_url jenkins value it should have in the end of the string \n",
      "37  bug login website make any unregistered error from server redirect user to page error make any unregistered error from server redirect user to page error \n",
      "38  bug ve website wordpress loading indicator should last longer acceptance criteria the loading screen should be displayed until react script loaded \n",
      "39  legal add realm prefix in legal redis key name to prevent nflict with other realm add realm prefix in all legal service redis key name to prevent nflict with other realm redis key \n",
      "40  bug web login user get error respons manifest json in login page user access ve website then open login page when user inspect nsole the page notice that user get error respon manifest jason in login page steps access ve website open login page and inspect element expected result should not display error manifest json see attachment for details \n",
      "41  bug web registration field year in dob change to email when fill password from suggestion user access login page then create new ac unt when user click field password and select from browser suggestion notice that form years auto filled with email from suggestion password step access login page in ve website open create new ac unt page click on password field browser will display email password suggestion select one that email password expectred result email suggestion should display in field email see attachment for details \n",
      "42  backend iam publisher user id cannot be queried when create user using third party platform using game namespace client publisher user id cannot be queried when create user using third party platform using game namespace for the further information please refer to the linked issue in this ticker \n",
      "43  iam add realm prefix in iam redis key name to prevent nflict with other realm add realm prefix in all iam redis key name to prevent nflict with other realm redis key \n",
      "44  stg ap wallet can debit credit if input characters on the reason field notes based on input validation sheet docs google spreadsheets wa dgzfadcu gcvrugykcduggd wck zlk gygy edit pli gid range the max value of the reason is \n",
      "45  stg ap admin can access debit menu although the cursor displayed as forbidden there is also another issue where the debit button lor is still gray even if the debit button can be clicked not forbidden \n",
      "46  verification de email going to spam instead of inbox based on slack accelbyte slack archives grar eccf verification de email going to spam instead of inbox in dev environment references herentpath rarelogic blog how to prevent emails from going to spam \n",
      "47  stg launcher success verified pop up appears twice after change mail and verify de \n",
      "48  ap no action when grant entitlement from admin super user when admin portal super user grant item from _users_ page without create request after admin fill the form and click _grant_ there is no action and the entitlement did not granted to user \n",
      "49  stg pp launcher my profile the change email button are enabled eventhough there no input on the new email field notes there a warning validation when click on the change email field left empty _please rrect the errors in the form to proceed _ which are not quite informative and nfusing \n",
      "50  player portal add realm prefix in pp redis key name to prevent nflict with other realm add prefix in all player portal redis key name to prevent nflict with other realm redis key this issue introduce bug in this feature cms adapter didn get the latest ntentful data since the redis cache is replaced by the other realm pp \n",
      "51  stg pp after redeem code field didn clear \n",
      "52  launcher display avatar on top right of the launcher did not change when change avatar using not verified ac unt when user login to launcher using not verified ac unt then change avatar the avatar on top right of the launcher did not changed image png thumbnail \n",
      "53  user email not updated before verifying old email endpoint put iam public namespaces namespace users me create user with first_email example then verify the email then log in to change the email with se nd_email example then log out user login using se nd_email example before verifying it then change an email to third_email example then logout user can not log in using third_email example but can log in using se nd_email example \n",
      "54  stg pp launcher wrong error message when user purchase exceed max amount transaction max transaction amount day max balance amount \n",
      "55  stg ap input invalid numbers in max amount transaction max transaction amount day and max balance amount is treated as empty field \n",
      "56  stg launcher success verified pop up appears twice after verify login for the first time \n",
      "57  launcher launcher doesn open game page and popup download modal when running in background launcher doesn open game page and popup download modal when running in the background after running the mini launcher \n",
      "58  launcher launcher doesn open game page and popup download modal launcher doesn automatically go to the specific game and show the download popup after the launcher installation \n",
      "59  logrotator not clean and backup jaeger logs logrotator not clean and backup jaeger logs \n",
      "60  fix bug ap login admin portal logged in using non email and password mbination ex superuser there is an lor red enter valid email address lor alert below the email text box but we can click the login button \n",
      "61  stg ap deprecated client should be deleted from list \n",
      "62  no purchase logic for mock game item summary due to the absence of mock up data that needs to be fetched currencymap entitlement availableiteminfo fetchwalletmap the purchase logic can be created steps to reproduce actual result expected result \n",
      "63  test for fetch in game item ready state failed summary the test for fetching in game items ready state failed the failure is caused by the absence of the mock up data that needs to be fetched currencymap entitlement availableiteminfo fetchwalletmap steps to reproduce added network call mock in the unit test actual result expected result successfully run the test and able to get the expected result \n",
      "64  ap request grant entitlement for ins is not increase user in when requester create request grant entitlement and reviewer approve the request the number of ins on target user wallet is not increased as the ins on approved request compared to grant item feature without using admin review when admin grant item and choose ins the number of ins on target user wallet will be increased as the granted ins \n",
      "65  stg ap gdpr config admin notif double click on empty space within the email list box will trigger the updating email list notes this issue also occurs when _click on the add remove button _ without making any selection on the email \n",
      "66  pp build ntentful error when no support ntent published build ntentful error when no support ntent published \n",
      "67  ap admin able to create request for game entitlement with the quantity value is when admin create request for game entitlement and fill the quantity value is g the request still able to be created for game type the request shouldn be created if the quantity value is image png thumbnail \n",
      "68  stg pp launcher registration can sign up if input year on dob between _ notes _ user able to sign up on year or above inspect result will get error unable to create user validation error userid undefined details dateofbirth does not validate as date unable to create user validation error userid undefined details date of birth out of range \n",
      "69  stg campaigns wrong text validation for max character input \n",
      "70  bug admin portal change password is disabled on first login after user created step to reproduce create new user through adminportal login using new user on adminportal verify email address go to menu my ac unt manage change password button is disabled acceptance criteria change password button is enabled \n",
      "71  stg ap search bar the texts will overlap with search button if input long characters notes occurs on campaign stores namespace orders entitlements walltes product keys \n",
      "72  ap no notification when admin create request for entitlement without mplete the field when admin requester create request to grant entitlement and not mplete to fill the field on grant item form there is no action or notification to mplete the field this issue only happens when admin did not fill the following fields source reason but when admin leave all the fields empty the notification to fill the field will appear image png thumbnail \n",
      "73  pp launcher ac unt verification pop up always appeared after login when user choose to verify later when user choose to verify later it will be saved to cache so the pop up only appear when user use the different browser \n",
      "74  backend basic custom attributes not support nested document bson nverter error \n",
      "75  gdpr add realm prefix in gpdr redis key name to prevent nflict with other realm add prefix in all gpdr redis key name to prevent nflict with other realm redis key this issue introduce bug in this feature gdpr ac unt deletion \n",
      "76  demo dialog pop up notification doesn displayed after user buy in game item \n",
      "77  iam change deployment yaml namespace from realm_name to s_ns and update wrong realm_name jenkins value need to update deployment yaml namespace from realm_name to s_ns iam service use wrong realm_name value cust name dev it should be cust name \n",
      "78  ap grant item form still appeared after admin successfully create request grant item form still appeared after admin successfully create request the form should disappeared after the requester successfully create request \n",
      "79  launcher default avatar on launcher is not same as on pp default avatar on both launcher and pp should be same the rrect one is the default avatar on pp \n",
      "80  pp notification to verify ac unt still appear after user logout when user login using not verified ac unt then logout the notification to verify ac unt still appear on pp \n",
      "81  fix date of birth format to utc fix date of birth format to utc \n",
      "82  mini launcher update object properties mini launcher mini launcher update object properties mini launcher \n",
      "83  backend lobby remove multi index in elasticsearch remove elasticsearch multi index to support latest supported es version \n",
      "84  bug iam email notification update email address return the same email for oldemailaddress and newemailaddress bug iam email notification update email address return the same email for oldemailaddress and newemailaddress \n",
      "85  bug ap statistic admin get error notification when create new nfiguration in statistic admin login in admin portal and reach statistic configuration menu then admin create new configuration when admin tap add button notice that admin get error please rrect the errors in the form to proceed step login to admin portal reach statistic configuration menu click create configuration button fill all form in popup click add button expected result admin success create new nfiguration in statistic actual result admin get error please rrect the errors in the form to proceed when check in nsole admin get response error please see attachment for more details thank you \n",
      "86  bug iam login with device id return same userid after upgrade headless ac unt how to reproduce user login with device id headless user upgrade their headless ac unt adding email user login with device id again expected behavior user get different user id as the first user id already have an email present behavior user get the same user id the same user id that already have an email \n",
      "87  make password glow depending on the regex of user password input make password glow depending on the regex of user password input \n",
      "88  adding eye n to show password when user fill password adding eye n to show password when user fill password \n",
      "89  backend legal non exists policy id policy version id or localized policy id can be accepted by bulk agreement the legal backend service doesn do any validation so that non exists policy can be accepted all accepted agreement should abide the existing policy id policy version id and localized policy id \n",
      "90  admin portal deployment script returns when assigning role manager in admin portal we have scripts that run in succession to create various iam entity needed by admin portal that is in order of execution client user role after creating role the script will attempt to assign newly created user as the manager of that role here the script returns \n",
      "91  change policy tos and nda into env var change policy tos and nda into env var \n",
      "92  dev ap wrong data show on total user arppu chart total user show how many transactions on arppu chart total user must show how many user have pay in that day how to reproduce user login in player portal and buy game user login in player portal and buy game admin login in admin portal and check dashboard arrpu chart arrpu chart show total user \n",
      "93  adding logout button adding logout button \n",
      "94  pp blank page when open player portal using mozilla firefox user get blank page when open player portal using mozilla firefox there an error typeerror justice_playerpo al_zendesk_subdomain zendesk is not valid url \n",
      "95  status page service return status page service return \n",
      "96  matchmaking getting channel nfig but the matching flexing rules data always null how to reproduce create channel nfig with full ruleset matchingrules and flexingrules from matchmaking service dev versusevil accelbyte io matchmaking apidocs matchmaking createchannelhandler get the created channel nfig dev versusevil accelbyte io matchmaking apidocs matchmaking getsinglematchmakingchannel actual response body return null data in matchingrule and flexingrule expected response body show the match data with data when it created creatematchmakingconfig png thumbnail getmatchmakingconfig png thumbnail \n",
      "97  stg pp launcher input age from the age restrictions can mplete the registration form scenario admin set barbados to for age restrictions user register on barbados and input january the age will be note user unable to proceed if change the year to the age will be \n",
      "98  stg pp launcher login page is not translated to chinese \n",
      "99  if ac unt already upgraded nsider it as success instead of an error if ac unt already upgraded nsider it as success instead of an error \n",
      "100  stg pp launcher wrong error message when purchase bundle with max limit purchase per users \n",
      "101  stg demo game can find match when using channel with existing matching rules and flexing rules pre ndition need two players to play the ab shooter game step to reproduce login to admin portal change namespace to game namespace click matchmaking click create channel with this nfiguration channel name vs namespace shooter game click add in rule set section set alliance number and symmetric party number click add matching rule with this nfiguration attribute mmr criteria distance reference click add click add flexing rule with this nfiguration attribute mmr criteria distance reference duration click add open launcher then play ab shooter click lobby create party click start play expected result players should be able to play multiplayer match without any issue after channel is setup to have matching rule and flexing rule actual result player can play multiplayer match matchmaking service end up unavailable notes further reference is in this discussion accelbyte slack archives cnz bbq accelbyte slack archives cnz bbq \n",
      "102  change date of birth picker to be same with login website change date of birth picker to be same with login website and fix ui styling \n",
      "103  login page misformatted json on healthz endpoint response returning invalid json trailing mma it should be no trailing mma in the response \n",
      "104  stg ap pp launcher player can redeem game by de after admin disabled player owned game \n",
      "105  stg ap can click back to search panel in order menu \n",
      "106  stg launcher user unable to sign up using steam the issue doesn occurs on player portal already tested using newly un linked steam acc attached log from fiddler \n",
      "107  stg ap search feature by email and user id doesn work in ac unt deletion request \n",
      "108  pp legal web legal document not found when user want to see legal document detail _pre ndition _ admin portal publish legal document for seelcted untry default untry step to reproduce user reaches registration page user select untry on registration form _ g indonesia _ user click legal document link user is redirected to new window for legal website expected result the legal document in legal website is displayed rrectly actual result legal document not found is appeared on legal website image png thumbnail \n",
      "109  pp change the link fb twitter instagram and dis rd to athlon ac unt step to reproduce go to player portal navigate to footer on homepage click on social media link fb twitter instagram and dis rd expected result the social media ns is linked to athlon ac unt actual result the social media ns is not linked to athlon ac unt image png thumbnail \n",
      "110  ap clients iam calls these uris whenever user already authenticated pop up remain displayed when admin preview from the field box \n",
      "111  pp launcher support can upload file with less than kb size on the ntact support attachment note size of the file is kb on windows explorer \n",
      "112  stg pp launcher homepage and launcher will be messy when there is news ntent with long title \n",
      "113  email template admin receive email ac unt deletion failed from mandrill step to reproduce _pre ndition add admin ac unt using tester email and email to selected admin on email recepients configuration from gdpr configuration admin notification _ login to admin portal go to user ac unt search specific user on user details page click _delete _ on user detail section admin that is registered on pre ndition step will receive ac unt deletion failed email expected result ac unt deletion failed mail template using athlon games template mailed by sendgrid actual result ac unt deletion failed email template still using accelbyte mailed by mandrill \n",
      "114  admin portal pop up deletion nfirmation after user login is not rrect step to reproduce login to admin portal go to _user ac unt _ search specific user on user details page click _delete_ on user detail section user login to pp launcher using the deleted ac unt expected result date on ac unt deletion confirmation pop up is rrect actual result date on ac unt deletion confirmation pop up is not rrect it displays th december even though the deletion started at th december \n",
      "115  stg pp launcher support attachments ntent are not translated when change the language during open ntact our support form note occurs on following texts attachments add up to files the file is too big please attach files that are less than mb you have already reached the limit of attachments \n",
      "116  stg pp launcher user doesn get informative notification error in redeem this issue also occurs when user redeem an invalid de user redeem an inactive de user redeem used de user reach maximum redeem per user user reach maximum redeem per de \n",
      "117  stg pp launcher redeem code change password failed pop up are not translated to chinese \n",
      "118  admin portal legal unable to load version locale on first load unable to load version locale on first load \n",
      "119  admin portal legal locale section on verison detail is blank after successfully upload md file step to reproduce admin click _ legal management _ admin select one document then click _ view _ admin select one version then click _ view _ admin click _ create new _ on version details page admin select language and upload file with md extension admin click _ create _ expected result admin successfully upload md file and able to see the text at the locale section on version details page actual result the text is not appeared at locale section on version details page \n",
      "120  stg pp launcher news support the searched text will be spammed after adding keyword on the search box \n",
      "121  stg old user doesn receive email notification about policy update \n",
      "122  backend statistic get user statitem by userid return unfiltered data admin namespaces accelbytetesting users userid statitems return unfiltered that data ntains other than userid \n",
      "123  dev ap continuous loading when select date after change date to this current selected date ntinuous loading is not mplete and chart never shown step to reproduce login ap as admin select dashboard menu edit date before current date and choose date that has been selected before \n",
      "124  stg ap failed notification pop up appear when create document in legal management but actually the document is created this issue also occurs when admin create version create new localization \n",
      "125  stg ap namespace currency can input characters to the localization description note admin only able add max up to characters on the descriptions based on the nput validation assessment docs google spreadsheets wa dgzfadcu gcvrugykcduggd wck zlk gygy edit pli gid docs the max value of the localization descriptions is \n",
      "126  ap namespace means unlimited amount pop up remain displayed when admin preview from the field box \n",
      "127  backend statistic fix swagger put public namespaces namespace statitems value bulk public bulk increase statitem value replace with public bulk update multiple user statitems value \n",
      "128  stg pp launcher there is typo in stumer that should be customer \n",
      "129  stg ap demo game the expire date for dis unt items using gmt instead of utc note promo dis unt items won retrieved if admin set the we expire date using utc e utc gmt \n",
      "130  stg ap user doesn get email notify when admin change player untry \n",
      "131  iam publisher user id cannot be queried when create user using steam open id using game namespace client steps to reproduce login using steam open id and game namespace client dev versusevil accelbyte io iam apidocs oauth platformtokengrantv dev versusevil accelbyte io iam apidocs oauth platformtokengrantv on registration success game user id is created get publisher user id using the game user id dev versusevil accelbyte io iam apidocs users getpublisheruser dev versusevil accelbyte io iam apidocs users getpublisheruser get user by user id on publisher namespace using retrieved publisher user id actual result get user id failed return search user id using steam display name success expected result get user id success search user id using steam display name success notes game namespace accelbytetesting game user id bbf fb eb ddbed publiser user id f fe e fdc dc generate steam ticket using this one steam mmunity openid login openid ax mode fetch_request openid ax required fullname cfirstname clastname cemail openid ax type email http f faxschema org ntact femail openid ax type firstname http f faxschema org fnameperson ffirst openid ax type fullname http f faxschema org fnameperson openid ax type lastname http f faxschema org fnameperson flast openid claimed_id http f fspecs openid net fauth fidentifier_select openid identity http f fspecs openid net fauth fidentifier_select openid mode checkid_setup openid ns http f fspecs openid net fauth openid ns ax http f fopenid net fsrv fax openid ns sreg http f fopenid net fextensions fsreg openid realm http f flocalhost openid return_to http f flocalhost openid sreg optional nickname cemail cfullname cdob cgender cpost de untry clanguage ctimezone steam mmunity openid login openid ax mode fetch_request openid ax required fullname cfirstname clastname cemail openid ax type email http f faxschema org ntact femail openid ax type firstname http f faxschema org fnameperson ffirst openid ax type fullname http f faxschema org fnameperson openid ax type lastname http f faxschema org fnameperson flast openid claimed_id http f fspecs openid net fauth fidentifier_select openid identity http f fspecs openid net fauth fidentifier_select openid mode checkid_setup openid ns http f fspecs openid net fauth openid ns ax http f fopenid net fsrv fax openid ns sreg http f fopenid net fextensions fsreg openid realm http f flocalhost openid return_to http f flocalhost openid sreg optional nickname cemail cfullname cdob cgender cpost de untry clanguage ctimezone client id used for authorization ffb ba b aba \n",
      "132  backend gdpr change sender email address domain name we need to update the sender email address domain name to client name instead of using accelbyte domain name \n",
      "133  backend iam change sender email address domain name we need to update the sender email address domain name to client name instead of using accelbyte \n",
      "134  stg player display name not displayed in player email after admin change player date of birth \n",
      "135  stg ab shooter lobby demo game crash when user try to add friend with an invalid ids \n",
      "136  launcher launcher created mmand to download byte block rare occurrence on launcher download process causes launcher to get stuck on and hindering launcher to set the download progress to finished it is caused by launcher generating byte blocks pointing to nonexistent file in this caused launcher to attempt to download non existing bytes from which will always fail this fix ignores those byte blocks and proceed to next task fix is done in this mmit bitbucket org accelbyte justice launcher mmits ee dfa cc df da \n",
      "137  dev launcher teks and button in unistall game nfirmation too close \n",
      "138  launcher specific game can not be downloaded if there is more than item in the store specific game can be downloaded if there is more than item in the store pre ndition user already has game entitlement more than item steps to reproduce run mini launcher by following this documentation accelbyte atlassian net wiki spaces pj pages how to use mini launcher creator cli accelbyte atlassian net wiki spaces pj pages how to use mini launcher creator cli smart link actual result game is not downloaded expected result game is downloaded \n",
      "139  dev launcher there is no progress bar when user updating game \n",
      "140  launcher launcher is not showing when running in the background launcher can be launched sometimes displaying blank page when closing the window and run the mini launcher again launcher is still running in the background and will close properly only when we close it from the system tray notification area pre ndition launcher is running in the background process steps to reproduce run mini launcher by following this documentation accelbyte atlassian net wiki spaces pj pages how to use mini launcher creator cli accelbyte atlassian net wiki spaces pj pages how to use mini launcher creator cli smart link actual result launcher didn show up expected result launcher is displayed \n",
      "141  dev launcher not showing message when user lost nnection during download game process \n",
      "142  launcher launcher didn redirect to store page launcher didn redirect to the store page when the user running mini launcher for specific games when they don have entitlement pre ndition user doesn have game entitlement steps to reproduce run mini launcher by following this documentation accelbyte atlassian net wiki spaces pj pages how to use mini launcher creator cli accelbyte atlassian net wiki spaces pj pages how to use mini launcher creator cli smart link login to the launcher actual result launcher keep displaying library page expected result display the store page with specific game purchased \n",
      "143  stg ap monitoring different wording of the warning texts with figma when admin failed to fetch the data \n",
      "144  text in button send when disabled is white instead of gray expected result the text lor should be hex a rgb could be checked in style guide in figma \n",
      "145  launcher can scroll up and show all of months in launcher when users click my profile and change date of birth in launcher users can scroll up all of the months in launcher \n",
      "146  ap title on topbar at template menu isn refreshable when access it from other menu \n",
      "147  ab web arrow in blog drop navigation arrow list was misaligned arrow bullet in blog navigation were misaligned needed to fix \n",
      "148  add text de ration underline on hover for see his story on leadership section who we are page add text de ration underline on hover on text see his her story on leadership section who we are setion page \n",
      "149  opening bundles page text should be loading bundles image png thumbnail when opening bundle page the loading text should be loading bundles \n",
      "150  steam credentials got replaced even though the steam lives in another namespace prerequisites steam credentials in particular namespace is setup let call it namespace accelbyte steps to reproduce login as user who has this permission admin namespace namespace platform platformid client create using swagger add another steam credentials in namespace gladiator and platformid steam demo accelbyte io iam apidocs third_party_credential addthirdpartyloginplatformcredentialv demo accelbyte io iam apidocs third_party_credential addthirdpartyloginplatformcredentialv call the demo accelbyte io iam apidocs third_party_credential addthirdpartyloginplatformcredentialv demo accelbyte io iam apidocs third_party_credential addthirdpartyloginplatformcredentialv expected result there are two steam credentials live in two different namespace in accelbyte and gladiator actual result there is only one steam credentials live in gladiator namespace \n",
      "151  bug generate token with steam platform using publisher client but show in game namespace fix the token generate result to publisher namespace instead of game namespace how to reproduce login headless with steam ac unt using game client login again with publisher namespace \n",
      "152  ab web some n in why use accelbyte cloud section not match with design in figma n that need to change no need to worry attractive default operations \n",
      "153  statistic global statistic stat config user statistic required response all endpoints in statistic actual success get response with namespace ntains special character without authorization expected all response must be when we don define authorization \n",
      "154  blog some blog post width area breaking due pre tag blocking work post are breaking due pre tag wont resize expectation it should resize and fit like other blog post \n",
      "155  statistic user statistic error endpoints get admin namespaces namespace users userid statitems get public namespaces namespace users userid statitems actual error when hit the endpoints without define statcodes expected statcodes should be optional based on api spec \n",
      "156  bug admin portal log in view edit history display empty admin login to ap then manage ac unt when user edit their ac unt and then open view edit history notice that log in view edit history display empty steps admin click my ac unt section admin edit personal info admin click view edit history issue there is no display edit history after success edit ac unt expected result edit history information should displayed rrectly see attachment for details \n",
      "157  bug admin portal statistic admin failed to create new statistics admin access ve admin portal then open statistic menu when admin create new nfiguration notice that admin can create new statistics and view them on the list always show error notification steps admin login to ap click statistics configurations on the left panel click create configuration admin fill the form admin click add issue admin can create statistics error message is invalid audience expected result admin can create new statistics and view them on the list see attachment for details \n",
      "158  button back to top right bottom always visible even in top of the page current state button back to top right bottom always visible even in top of the page expectation it should have hidden if on top of the page position and will visible if page was scrolled \n",
      "159  opening featured ingame item in homepage result in error page not found opening featured ingame item via homepage will redirect to cust name dev accelbyte io store apps cfad cb ac e expected url cust name dev accelbyte io store in game items cfad cb ac e \n",
      "160  bug fix version is not showing in the right place in statistic service as sdet want get the service version instead of unknown how to reproduce go to dev versusevil accelbyte io statistic version \n",
      "161  backend prod add rs domain to deplotment script add rs domain to deplotment script so it sync with prod env \n",
      "162  get user eligibilities timed out when there are data endpoint get public eligibilities namespaces namespace untries untrycode clients clientid users userid link to raised bug in slack accelbyte slack archives cr pmx initial suspicion suspect this because in this func bitbucket org accelbyte justice legal service src ae ebf df efc bae cf legal src main java net accelbyte platform legal inmem redisrepositoryimpl java lines it will get all the multimap value hgetall iterate all of them and then smembers but m not too sure about this since m not familiar with redisson and java but if that assumption is rrect it means legal will iterate through users policies iterations if we have policies and users that already accept the agreement \n",
      "163  shows login instead of login website in the services uptime dashboard steps to reproduce login to the admin portal using an admin ac unt click the monitoring side bar menu action result the admin portal shows login as the service name expected result the admin portal shows login website as the service name \n",
      "164  stg lw continue button doesn redirect to anywhere when create new ac unt by login with steam summary user would like to login using rd party steam since current implementation force user to create non headless ac unt user fill the form step to reproduce go to login website pp or launcher click login with steam enter username and password then click sign in enter email for upgrading headless ac unt fill the verification de display name dob and password click continue actual result user is not redirected to anywhere expected result user is redirected to homepage attachment _justice_staging_admin portal_continue button doesn redirect to anywhere when create new ac unt by login with steam png width height notes click continue button doesn have any reaction and network inspection shows nothing no error de nor xx de is there \n",
      "165  stg ap typographical error when search item in store by using filter by search summary admin try to find an item but the result is empty the message that was written is wrong but minor problem step to reproduce login to admin portal go to stores select one draft store by click view click items tab search item by title that is not exist in store actual result the message of the empty list is there is no item yet expected result the message should be different from when the item is empty and when admin search an item in the list message ntent should be no item found or there is no such item and something similar attachment _justice_staging_admin portal_typographical error when search item in store by using filter by search png thumbnail \n",
      "166  wrong ip address re rded for game server our server management service are reading forwarded for attribute in request header the service will check for the first public ip found in that attribute the problem we had is that attribute sometime ntains public ip address beside not the game server ip address and that ip address checked before the game server ip address therefore the server management service re rded the wrong ip address for the game server our temporary fix would be ignoring ip address with format xxx xxx xxx that would be safe for now since the ip address of our current game servers does not having that format still need to find better solution for that \n",
      "167  pp carousel doesn translated into chinese descriptions user visited player portal and change the language into chinese then they browse the carousel menu steps to repro open player portal change the language into chinese observe the carousel actual result carousel ntent still displayed in english when user change the language into chinese expected result carousel ntent are translated into chinese workaround a \n",
      "168  iam rd party platform credentials wrong primary key current primary key of rd party platform credential is only platformid it causes bug when user trying to store same platformid in different namespace the primary key should be platformid and namespace acceptance criteria work in the justice re repository directly run the test in justice dev environment deploy from re repository directly bring the works to the customer repository after the deployment is mpleted \n",
      "169  launcher the speed status change to infinity when user set to max value descriptions user login from launcher and go to settings they changed the speed limit to maximum in this case value steps to repro open launcher login using registered acc and open settings change the speed limit to maximum value actual result the speed limit change to infinity when user set to max expected result the speed limit should be shows the actual value when user set to max workaround a note this issue will cause user can delete the infinity speed value unless perform select all ctrl on it then press delete backspace \n",
      "170  basic service return when anonymizing if firstname or lastname is null basic service return when firstname or lastname is null effected feature ac unt deletion gdpr service \n",
      "171  launcher my profile the descriptions mentioned null instead of mail on open external url pop up descriptions user launch the launcher and login into their ac unt then they proceed to profile my profile and click on hyperlink _ lor afe hello accelbyte io lor _ steps to repro login using registered acc on launcher go to profile my profile click on hello accelbyte io actual result the descriptions mentioned null on open external url pop up expected result the descriptions should be mentioned _mail email _ on open external url pop up workaround a \n",
      "172  dev regression ap cannot create app item steps to reproduce login to ap go to store page open one of the draft store click tab item create item create new item select itemtype app click add expected result ap creates item actual result ap doesn create item \n",
      "173  launcher settings show the address bar when accessing web view remain checked when user mmit reset to defaults setting descriptions user logged in and go to settings he made changes on the settings and click on the reset to default button step to repro login using registered acc on launcher go to settings make changes show the address bar when accessing web view checked on the settings click on reset to defaults button actual result the show the address bar when accessing web view remain checked when user click on reset to defaults button expected result the show the address bar when accessing web view should be unchecked when user click on reset to defaults button workaround a \n",
      "174  dev buildinfo buildutil unable to upload game details occasional s buildutil is running on windows game size is about mb \n",
      "175  dev pp document on privacy re rds menu not similar with documents that are checked in register headless ac unt process step to reproduce login with steam ac unt complete registration by fill finish ac unt setup check document testing policies and end user licence agreement and testing marketing preference and privacy policy and policy test for demo and asd testing detail indo select ntinue and reach privacy re rds menu notice only see policy test for demo document expected result user able to see testing policies and end user licence agreement and testing marketing preference and privacy policy and policy test for demo and asd testing detail indo document on privacy re rds menu actual result user only see policy test for demo document on privacy re rds menu attachment image png thumbnail image png thumbnail \n",
      "176  change the invalid password error message in registration page into please enter valid password steps to reproduce go to the login website click the create new ac unt button start typing the password in the password field actual result shows please provide valid password format expected result shows please enter valid password software version login website alpha \n",
      "177  website shown dashboard without sidebar website shown dashboard without sidebar \n",
      "178  in admin portal there should be py button next to athlon user id step to reproduce login admin portal reach detail user page notice no display py button next to athlon user id actual result py button should be display when user click py button display toast message bandicam jpg thumbnail attachment bandicam jpg thumbnail bandicam jpg thumbnail \n",
      "179  got error when access the platform and service uptime after lost nnection step to reproduce login admin portal select monitoring and reach uptime page disable nnection select monitoring and reach uptime page enable nnection and select refresh page notice got error attachment bandicam mp \n",
      "180  demo pp user can purchase in game item or bundle ntain game in game item from player portal if user never played the game once summary user would like to purchase an in game item or bundle ntaining game in game item in this case user haven buy the game or play it for once when ntinue to payment user got an error that his ac unt is not exist step to reproduce login to player portal go to stores select game to view game detail page omega nebula select in game item click buy now continue to payment actual result when purchased bundle with virtual currency error message showed that user doesn exist when purchased bundle or in game item with real currency the payment is showed successful but order history does not re rd the purchase user have no entitlement in admin portal and the order status is fulfill failed expected result user can purchase bundle ntain game in game item without having to play the game first to own the in game item attachment _justice_demo_player portal_user can purchase in game item from player portal if user never played the game once png thumbnail notes also occur when user purchase bundle ntain game in game item and purchased with \n",
      "181  sometimes the crash reporter client doesn showup sometimes the crash reporter client doesn showup criteria of acceptance crash reporter client always show nsistently \n",
      "182  dev ap cannot edit payment nfiguration with namespace region steps to reproduce open justice dev accelbyte io admin payment nfigurations offset select payment provider with namespace region edit expected result payment nfiguration can be edited actual result payment nfiguration cannot be edited \n",
      "183  api gw cloud storage slot public get slot not returned content length when trying to get slot data using this endpoint justice stg accelbyte io binary store apidocs slot getslotdatausingget it returns ntent length in the response header but when we try to hit the endpoint through api gateway it doesn return ntent length in the response header related discussion bitbucket org accelbyte justice apigateway service pull requests socp api gw testcloud storage service diff mment \n",
      "184  stg ap admin didn receive email when user request personal data summary admin is set as recipients whenever user request personal data like personal data request and ac unt deletion however admin didn receive any email regarding personal data request made by user step to reproduce _admin portal _ click gdpr configuration admin notification select one email from available admin list click add _pp or launcher _ login to pp or launcher go to my profile click personal data enter password then click send request actual result admin didn received any email when user create personal data request expected result admin should have receive an email when user request personal data attachment _justice_staging_admin portal_admin didn receive email when user request personal data mp \n",
      "185  stg ap resolution is displayed as for all images instead of the actual size summary when user uploads image for specific item in the store user notices that the resolution is written as instead of the actual resolution pre ndition prepare an image to upload steps to reproduce admin login to admin portal admin click stores admin click view on selected draft store admin click view on selected item admin click images on pricing section admin click upload button admin select the image and proceed until the image is uploaded notice that the resolution is displayed as for all images instead of the actual size actual result resolution is displayed as expected result resolution is displayed as the actual size workaround there is no workaround for this issue \n",
      "186  launcher pp verification de pop up remain displayed when user proceed to change an email address summary user trying to login on player portal using steam ac unt when they input an email and proceed to finish ac unt setup notice that verification de pop up remain displayed when user proceed to change an email address step to reproduce open player portal or ab launcher choose to login with steam enter an email address on finish ac unt setup notice that the verfication de pop up are displayed don close the pop up and proceed to change an email address actual result verification de pop up remain displayed after user proceed to change an email address expected result the verification de pop up should not be displayed after user move to change an email address section workaround there no workaround for this issue note this issue occurs on player portal ab launcher \n",
      "187  stg ap the warning sentence doesn have mma in the price if admin set dis unt greater than the actual price summary when user set dis unt by amount greater than the actual price notice that the warning sentence doesn have mma in the price pre ndition steps to reproduce admin login to admin portal admin click stores admin click view on selected draft store admin click view on selected item admin click view on pricing section admin fill dis unt by amount by price higher than the actual price notice that the warning sentence doesn have mma in the price if admin set dis unt greater than the actual price actual result the warning sentence doesn have mma in the price if admin set dis unt greater than the actual price expected result the warning sentence should have mma in the price if admin set dis unt greater than the actual price workaround there is no workaround for this issue \n",
      "188  dev api gateway admin get code info query parameters don work the endpoint get admin namespaces namespace des de has query parameter redeemable with default value false to test the negative case that has response de we need to get the de info that not redeemable with query parameter redeemable set as true it work as expected on direct but it don in api gateway actual response de expected response de attachment on the error report is included failed_api gw png width height testapigatewayadmingetcodeinfo html \n",
      "189  stg launcher text cursor on username password are missing when trying to login via steam summary when user run the launcher and choose to login via steam notice that text cursor on username password are missing when trying to login via steam step to reproduce run the ab launcher click on login with steam navigate to steam username password field box actual result there no text cursor on the username password field box expected result the text cursor are visible when user tap on the username password field box workaround change to another tab then back again to ab launcher will makes the text cursor visible \n",
      "190  stg ap in game item have no item title on user entitlement list in game namespace summary player purchase an in game item for specific game after purchase admin check user entitlement of the in game item through game namespace pre ndition user have purchased an in game item for certain game ex ab shooter step to reproduce login to admin portal change namespace to game namespace ex ab shooter admin click entitlements admin enter user email actual result all item is written untitled item for it title expected result items have it title showed rrectly attachment _justice_staging_admin portal_in game item have no item title on user entitlement list in game namespace png thumbnail \n",
      "191  stg ap password indicator is not working step to reproduce user reaches login page in admin portal fill in with email which already in use fill in with invalid email address e endah accelbyte net check password streght check use poor password to register fill in birth date as underage user g july actual result see notification provide valid password format expected result when user input invalid email address user should be able to receive error message please input valid email adrress when user input registered email address user should be able to receive error message email is already registered when user input poor user should be able to see et of acceptance rule for the password and unable to register when user is underage user should see age restriction warning sorry we are unable to process this request workaround there is no workaround \n",
      "192  multiple game studios shared the same steam platform login credentials as right now the steam platform login credentials can be shared with multiple game studios as the credentials only valid for one app id steps to reproduce create steam platform client credentials in the publisher namespace example noformat appid clientid namespace versusevil platformid steamopenid redirecturi http secret steam web api key isactive true noformat steam login from game client client who lives int he game namespace by calling the dev versusevil accelbyte io iam apidocs dev versusevil accelbyte io iam apidocs oauth platformtokengrant with steam as the platformid and the platform_token as the steam ticket actual results it returns an error _sorry forgot to capture the error log _ expected results it successfully returns the game access tokens how to test delete the publisher namespace steam credentials in demo add the abshooter or game namesapce steam credentials in demo by calling this endpoint demo accelbyte io iam apidocs third_party_credential addthirdpartyloginplatformcredentialv demo accelbyte io iam apidocs third_party_credential addthirdpartyloginplatformcredentialv open launcher login with sample game distrubuted in the steam \n",
      "193  cloud storage invalid date time format in slot endpoints currently our date time format in slot endpoints is unix timestamp the rrect format is rfc z this is the response when create slot cloud storage png thumbnail \n",
      "194  stg ap demo game player can purchase an dis unted item with release date but no expire date in game store summary admin set an item to have dis unt and the price will be updated at certain time with release date dis unt will not expired after item is set player purchase the item pre ndition the item never been set to have release date and expire date for it dis unt before step to reproduce _in admin portal _ go to store in game namespace ex ab shooter select one store by click view in the dot dropdown menu click items tab select one item by click view click view for item price in pricing section set dis unt and dis unt release date _in demo game _ login to launcher play ab shooter by accessing library go to store purchase the dis unted item actual result item price is not dis unted player receive error message order price mismatch expected result item price can have dis unt without expiration date workaround admin also set the dis unt expire date attachment _justice_staging_admin portal_demo game_player can purchase an dis unted item with release date but no expire date in game store png thumbnail \n",
      "195  stg ap out of bound label on entitlements page description when accessing the entitlements page on admin portal after admin search for some entitlement you can see that the history label on the right side of the screen is out of bound steps to repro login to ap as super user click entitlements on the left side of the screen change to dropdown to by email then search guido steam accelbyte net actual result the letter on history label is out of bound expected result the label should be inside of the border \n",
      "196  stg ap demo game buy button and price still shown after item price is expired in game store summary admin set the price of an item for game store to be expired at certain time after the item is expired player can see the item along with the price and buy button step to reproduce _in admin portal _ go to stores in game namespace ex ab shooter select one store by click view from dot dropdown menu click items tab select one item by click view click view of price in pricing section set expire date in price section to current date time _in demo game _ login to launcher play ab shooter go to store buy item that was set to expire earlier actual result player can still click buy button and see the item price player receive error order price mismatch expected result buy button and item price can be seen and set item price to not available or something similar attachment _justice_staging_admin portal_demo game_buy button and price still shown after item price is expired in game store png thumbnail \n",
      "197  stg ap store information list spilled out of it frame summary when checking on store information list by admin portal notice that the display spills out of its area pre ndition step to reproduce login to admin portal go to stores click view on any draft store or published store notice that the display spills out of its area actual result store information list spills out of its area expected result the information is displayed inside of the box \n",
      "198  stg disabled item missing from my games and library description after admin disable an item from user entitlement the item should still be available on their item list my games section and library but they shouldn be able to run the item pre ndition user already have an app type item in their library steps login to ap as super user find the specific user go to entitlement section on user overview disable the specific item from user entitlement list open pp and launcher check the user my games list and user library actual result item is missing from the list expected result item should be visible on the list \n",
      "199  stg pp unable to purchase item with error exceed item max unt of per user step to reproduce _on admin portal _ create item g game on draft store publish store view item detail page from draft store view item detail page from published store _on player portal _ login go to store select game that added on previous step on admin portal click _ buy now _ click pay now if purchase using virtual currency or _ continue to payment _ if purchase using real currency actual result user unable to purchase item with errormessage exceed item max unt of per user when admin view item detail page on published store limit purchase ac unt field still appeared but when admin view item detail on draft store the field is not appeared expected result user ableto purchase item with errormessage exceed item max unt of per user when admin view item detail page on published store and draft store limit purchase ac unt field still is not appeared \n"
     ]
    }
   ],
   "source": [
    "for i in range(0, len(processed_tweets)):\n",
    "    print(i, processed_tweets[i])"
   ]
  },
  {
   "cell_type": "markdown",
   "metadata": {},
   "source": [
    "# Remove data"
   ]
  },
  {
   "cell_type": "code",
   "execution_count": 11,
   "metadata": {},
   "outputs": [],
   "source": [
    "#remove duplicate\n",
    "seen = set()\n",
    "result = []\n",
    "for item in processed_tweets:\n",
    "    if item not in seen:\n",
    "        seen.add(item)\n",
    "        result.append(item)"
   ]
  },
  {
   "cell_type": "code",
   "execution_count": 12,
   "metadata": {},
   "outputs": [
    {
     "data": {
      "text/plain": [
       "200"
      ]
     },
     "execution_count": 12,
     "metadata": {},
     "output_type": "execute_result"
    }
   ],
   "source": [
    "len(result)"
   ]
  },
  {
   "cell_type": "code",
   "execution_count": 13,
   "metadata": {},
   "outputs": [],
   "source": [
    "# #remove unused data\n",
    "# remove = [' alexsandria wa langsung bikin scajul yuk no php no hoax hayalanjomblo pijatenak ztcwd btlt ',\n",
    "        \n",
    "#          ' won ni muslim ni halimat emi gan shey wolimat ',\n",
    "#          ' buat yg mau sesi bodypressure amazonlady dripda tnya bb tb endingnya hoax silahkan dilihat dgn seksama selama bb ewt vazy ',\n",
    "#          ' availonly vcs member info rr dm wa naylaa tunggu yaa bisa test vc ba hoax auto block siuzms cau ',\n",
    "#          ' pak kwteeac ',\n",
    "#          ' bantu temen open perawan yang serius aja minat hub gak basa basi jual perawan open bo perawan real ma h reegeat ',\n",
    "#          ' o ugbojs ']\n",
    "\n",
    "# final = list(set(result).difference(set(remove)))\n",
    "\n",
    "# print(len(final))"
   ]
  },
  {
   "cell_type": "code",
   "execution_count": 14,
   "metadata": {},
   "outputs": [],
   "source": [
    "#remove unused data\n",
    "# final = list(np.delete(result, [[2,4,6,7,8,12,13,16,17,18,\n",
    "#                            19,20,22,24,25,30,31,32,33,37,\n",
    "#                            38,39,42,46,48,51,54,56,57,58,\n",
    "#                            62,63,64,66,67,70,71,75,76,77,\n",
    "#                            79,82,83,87,92,93,95,98,99,106,\n",
    "#                            109,112,113,118,119,120,121,122,123,125,\n",
    "#                            128,132,134,135,138,139,140,146,151,153,\n",
    "#                            156,160,164,165,167,169,172,174,175,177,\n",
    "#                            180,184,185,]], axis=0))\n",
    "# print(len(final))"
   ]
  },
  {
   "cell_type": "code",
   "execution_count": 13,
   "metadata": {},
   "outputs": [],
   "source": [
    "# for i in range(0, len(final)):\n",
    "#     print(i, final[i])"
   ]
  },
  {
   "cell_type": "markdown",
   "metadata": {},
   "source": [
    "# Change word"
   ]
  },
  {
   "cell_type": "code",
   "execution_count": 16,
   "metadata": {},
   "outputs": [],
   "source": [
    "# #dict word that will change\n",
    "# dic = {\n",
    "#     'yg':'yang', 'gitu':'begitu', 'tak':'tidak', 'kalo':'kalau', 'emng':'memang','awmu':'kamu',\n",
    "#     'km':'kamu', 'khan':'kan', 'mulu' : 'melulu', 'aja' : 'saja', 'atut' : 'takut',\n",
    "#     'fulang' : 'pulang', 'koq' : 'kok', 'fpiexpired' : 'fpi expired', 'ngakui' : 'mengakui',\n",
    "#     'klo' : 'kalau', 'jado' : 'jadi', 'tangkep' : 'tangkap', 'pake' : 'pakai', 'lo' : 'kamu',\n",
    "#     'gebleg' : 'bodoh', 'kemakan' : 'termakan', 'gua' : 'saya', 'gedeg' : 'kesal', 'liat' : 'lihat',\n",
    "#     'hoa' : 'hoax', 'clear' : 'selesai', 'bgt' : 'banget', 'kerana' : 'karena', 'anatara' : 'antara',\n",
    "#     'rakan' : 'rekan', 'jgn' : 'jangan', 'nnti' : 'nanti', 'gue':'saya', 'shambar':'sambar',\n",
    "#     'mentri' : 'menteri', 'ajjh' : 'aja', 'gk' : 'tidak', 'botaq' : 'botak', 'gak' : 'tidak',\n",
    "#     'jokowitakutfpi' : 'jokowi takut fpi', 'skrg' : 'sekarang', 'doang' : 'saja', 'kontem' : 'konten',\n",
    "#     'ngga' : 'tidak', 'menyebr' : 'menyebar', 'up' : 'naikkan', 'rumot' : 'rumor', 'mrk':'mereka',\n",
    "#     'polit' : 'politik', 'sarat' : 'sara', 'ledekan' : 'ejekan', 'mo' : 'mau', 'lu' : 'kamu',\n",
    "#     'ntar' : 'sebentar', 'mbibbb' : 'habib', 'hobby' : 'hobi', 'gabisa' : 'tidak bisa',\n",
    "#     'bertelingan':'bertelinga', 'emank':'memang', 'knp':'kenapa', 'hrs':'harus', 'taonan':'tahunan',\n",
    "#     'ngk':'tidak', 'dr':'dari', 'syp':'siapa', 'nie':'nih', 'semataaa':'semata', 'ni':'ini',\n",
    "#     'ad':'ada', 'dblas':'dibalas', 'tau':'tahu', 'terkut':'terkutuk', 'negri':'negeri',\n",
    "#     'dg':'dengan', 'khormatan':'kehormatan', 'ngontrak':'mengontrak', 'anter':'antar', 'pke':'pakai',\n",
    "#     'eagl':'elang', 'khilap':'khilaf', 'abis':'habis', 'pic':'gambar', 'joged':'joget',\n",
    "#     'kali':'sekali', 'tu':'itu', 'sy':'saya', 'jg':'juga', 'cm':'cuma', 'ciptain':'ciptakan',\n",
    "#     'iyalaj':'iyalah', 'ak':'aku', 'etmin':'admin', 'blg':'bilang', 'gaada':'tidak ada',\n",
    "#     'inya':'nya', 'ga':'tidak', 'gus':'gusur', 'tolakhoaxdanprovokasi':'tolak hoax dan provokasi',\n",
    "#     'ngaku':'mengaku', 'sdh':'sudah', 'ttg':'tentang', 'jkw':'jokowi', 'trus':'terus',\n",
    "#     'kehorma':'kehormatan', 'gimana':'bagaimana', 'pann':'apaan', 'ngarangnya':'mengarangnya',\n",
    "#     'so':'jadi', 'please':'tolong', 'send':'kirim', 'your':'kamu', 'on':'di', 'descriptions':'deskripsi',\n",
    "#     'smw':'semua', 'jadiin':'jadikan', 'twt':'twitter', 'menggeneralisir':'menggeneralisasi',\n",
    "#     'tp':'tapi', 'knapa':'kenapa', 'kemarintidak':'kemarin tidak', 'tentan':'beredar',\n",
    "#     'riji':'rizieq', 'rijik':'rizieq', 'krn':'karena', 'neg':'negeri', 'alesan':'alasan'\n",
    "# }\n",
    "\n",
    "# result_final = [re.sub(r'\\b\\w+\\b', lambda m: dic.get(m.group(), m.group()), s) for s in final]"
   ]
  },
  {
   "cell_type": "code",
   "execution_count": 18,
   "metadata": {},
   "outputs": [
    {
     "name": "stdout",
     "output_type": "stream",
     "text": [
      "0  dev admin can add user permissions with end lon in resource value sdet tried to test endpoint for happy case post iam admin namespaces namespace users userid permissions on body request resource value inputed with end lon and able to add user permissions image png thumbnail \n",
      "1  dev missing input validation for endpoint admin add update user permissions sdet tried to test endpoint for negative case post iam admin namespaces namespace users userid permissions put iam admin namespaces namespace users userid permissions and found there are some failed test for following cases user not found failed unable to parse request body failed invalid namespace character user id less than characters user id more than characters user id with hypen user id with whitespace it caused by this endpoint not implemented input validation yet \n",
      "2  stg pp launcher recharge there ellipsis symbol in the buy for button in chinese language \n",
      "3  dev ap versusevil registered user not unt in daily active user after login registered user not unt in daily active user after login in player portal daily active user chart not increase how to reproduce login as admin portal in dev versusevil accelbyte io admin go to analytics dashboard and check daily active user value in latest date login as player that already registered before in player portal refresh analytics dashboard and check daily active user value isn increase daily active user must be increase if user get any activity in player portal for day \n",
      "4  dev fix issues for endpoint admin delete user roles sdet tried to test endpoint delete iam admin namespaces namespace users userid roles direct api gw and found there are some failed test for following cases platform ac unt not found unable to parse request body user not found role id not found roles not found empty role ids role id less than characters role id more than characters role id using hypen role id using whitespace \n",
      "5  pp back to profile button is not working when clicked and the position is overlap the page header when user change email and get the input verification de page the back to profile button on that page is not clickable and the position is overlap the page header image png thumbnail \n",
      "6  bug web registration error message for display name and password displayed not properly user open ve website and reach registration page when user left form registration blank then tick legal agreement there is displayed error message and notice that error message for display name and password displayed in bottom of text rule expected result please move error message for display name and password to above form text rule see attachment for details \n",
      "7  bug web registration registration form displayed not properly user open ve web and create new ac unt when user reach registration page notice that registration form displayed not properly label font size etc expected result update form in registration page and make same with form in complete beta registration reduce margin betwen ve n with top see attachment \n",
      "8  bug web registration take out login with steam button in registration page user open login page in ve website and then create new ac unt when user reach registration page there is displayed login with steam button expected result please take out login with steam button in registration page \n",
      "9  bug web forgot password forgot password displayed not ac rdance with design user open ve website then access login page when user click forgot password and reach the page notice that forgot password displayed not ac rdance with design issue letter for title forgot your password displayed not uppercase margin between text displayed in px instead px font weight for send verification code displayed in instead expected result need update margin between fields see attachment for update details \n",
      "10  bug web loading when access login register forgot password display in default grey user open ve website then click login button when user redirected to login page there is displayed loading and notic that loading when access login register forgot password display in default grey step open ve website click login button expected result loading when open login registration forgot password should display same with other loading in ve website \n",
      "11  stg ap demo game coins with in tag only show virtual currency price \n",
      "12  dev direct and api gw have different behaviour endpoint get iam public roles roleid this endpoint has different behaviour when test on direct it will success without bearer api gw get unauthorized result step to repro provide roleid hit the endpoint without bearer \n",
      "13  dev ap versusevil mau chart is larger than total user mau chart value is larger than total user value mau must show chart how many active user in month how to reproduce admin login in admin portal dev versusevil accelbyte io admin go to analytics dashboard and see the mau chart \n",
      "14  dev ap versusevil mau this month is larger than total user mau this month show but total user only show mau this month must show actual data from active user in month how to reproduce login as admin portal in dev versusevil accelbyte io admin goto analytics dasboard and check mau this month and total user \n",
      "15  launcher unable to typing on xsolla payment page after minimize maximize launher when user purchase item and redirected to xsolla payment page and type on field then user maximize minimize the launcher user unable to ntinue typing this issue is not happens on pp image png thumbnail note this issue happens on justice launcher checking on stg launcher version rc \n",
      "16  pp legal document detail is not appeared after admin change the legal ntent from ap after admin change the legal document ntent from ap user will see the legal document not found on legal web image png thumbnail but if admin edit the ntent to be the original ntent the legal detail will be appeared on the legal web normally note this issue also happens on justice checking on stg justice legal website rc justice legal service rc accelbyte playerportal rc justice adminportal website rc \n",
      "17  dev missing input validation for endpoint admin public get user login histories sdet tried to test endpoint for negative case get iam admin namespaces namespace users userid logins histories get iam public namespaces namespace users userid logins histories direct api gw and found there are some failed test for following cases user not found user id less than characters user id more than characters user id with hypen user id with whitespace it caused by this endpoint not implemented input validation yet \n",
      "18  stg demo game player didn receive error message when purchase ins above max balance for certain currency after check it again this is also happen when admin set max amount transaction and max transaction amount day to or \n",
      "19  launcher list of game server is not appeared when user want to send item to game using distribution receiver feature when user want to send items to game user can not see the list of game server on the dropdown image png thumbnail \n",
      "20  wordpress customization privacy policy url on footer acceptance criteria the footer should get based policy and published localized policy data for the based policy id specified the footer policy link should display url to published localized policy id based on based policy id specified \n",
      "21  bug iam fetch user steam return how to reproduce login with steam on versus evil dev dev versusevil accelbyte io after login the login website redirect user to page iam log de java time z level warning msg unable to authenticate user unable to get player identity platform server returned amzn trace id client_id ad b ac ae bdf mponent_id iam event_id log_type event module oauth namespace versusevil osin_flag realm versusevil resp source_ip user_id time z level info msg jan get iam platforms steamopenid authenticate openid assoc_handle openid claimed_id f fsteam mmunity fopenid fid openid identity f fsteam mmunity fopenid fid openid mode id_res openid ns http f fspecs openid net fauth openid op_endpoint f fsteam mmunity fopenid flogin openid response_nonce a z pux usrzxol npcn spkpf openid return_to f fapi dev versusevil accelbyte io fiam fv fplatforms fsteamopenid fauthenticate fstate df ec e eee openid sig mmavulig nxsyblwvphhy jfq openid signed signed cop_endpoint cclaimed_id cidentity creturn_to cresponse_nonce cassoc_handle state d ec e eee http de acceptance criteria login with steam should work properly \n",
      "22  dev missing input validation for endpoint public get user bans sdet tried to test endpoint get iam public namespaces namespace users userid bans direct api gw and found there are some failed test for following cases user not found invalid namespace character user id less than characters user id more than characters user id with hypen user id with whitespace it caused by this endpoint not implemented input validation yet \n",
      "23  api gateway content length header is not propagated to the service when we hit justice dev accelbyte io iam apidocs oauth platformtokengrantv using content type text plain it will return unsupported media type but when we hit the endpoint through api gateway it returns not acceptable this happened because of the body already read so when apigateway sent the request to the service the body is empty acceptance criteria for all proxy method that read the ntent body set request body to the state it can be read before sent to the service \n",
      "24  bug sendgrid template suspicious activty send empty subject and empty name this is report from kukuh accelbyte slack archives cpyuzs p the send grid also showed empty subject \n",
      "25  bug web delete ac unt user auto get expired session popup after delete ac unt from my ac unt user login to ve web then open ac unt deletion menu in my ac unt after that user input password in form ac unt deletion when user click delete my ac unt button notice that user get popup session expired after delete ac unt and auto direct to homepage steps login to ve website reach ac unt deletion menu in my ac unt input password in form click delete my ac unt button expected result after delete ac unt user should dispaly ac unt deletion message user ac unt not auto get expired session see attachment for details \n",
      "26  stg ap ac unt deletion request no internet nnection pop up is displayed when input an invalid date \n",
      "27  bug web delete ac unt page direct to other url when login using ac unt that deleted from admin portal admin open admin portal then login after that admin open user ac unt and delete it when user open web then try login using ac unt that delete by admin notice that when user try to login page redirected from dev versusevil accelbyte io dev versusevil accelbyte io to stage versusevil error access_denied error_description the user is disabled error_uri stage versusevil error access_denied error_description the user is disabled error_uri step admin login to admin portal then reach user management admin delete one user ac unt user open ve website user login using ac unt that deleted by admin expected result page not redirected to _ stage versusevil error access_denied error_description the user is disabled error_uri_ stage versusevil error access_denied error_description the user is disabled error_uri see attchment for details \n",
      "28  bug web login with steam user get error page when sign in using steam ac unt user open ve website and click login button when user click login with steam then sign in using steam ac unt notice that page auto redirect to error page after sign in using steam ac unt step open ve website reach login page click login with steam sign in using steam ac unt expected user should can login using steam ac unt will be direct to upgrade headles ac unt page when first time login using steam will direct to homepage when steam ac unt has been upgrade before see attachment for details \n",
      "29  bug web change email user get error message when verify de in change email user access ve web andlogin then user go to my profile after that user send verification to change email with click change button user cek email for verification de when user input that de and verify it notice that user get error messag something went wrong for more information please ntact our support at hello accelbyte io when verify de from email step open ve website and login reach my profile click change button cek email for verification de paste in verify form and click the button expected user can verify the de to proccess change email see attachment for details \n",
      "30  bug registration user not auto redirect to homepage when success verification ac unt user access ve website then create new ac unt after that user success create and verify the ac unt when user login using that ac unt notice that user direct to error page first then redirect to homepage steps user access ve website then reach login page open create new ac unt and create one finish it with verify the ac unt login using that new ac unt expected result after success verification page should auto redirect to homepage see attachment for details \n",
      "31  automation test get while the error should be when sending verification de to verified user on the automation test when targeting post iam admin namespaces namespace users userid de request end point there a case where the the endpoint was called to send verification de to verified user for this case the error was handled by error de user verified but instead the endpoint send error de user id not match this also happened when hitting the post iam public namespaces namespace users me de request endpoint \n",
      "32  pp launcher change email after user input new email form to input verification de on old email is appeared again when user change email using not verified ac unt and input new email address user will be redirected again to the input verification de for old email address page after input new email address user should be redirected to input verification de for new email complete step on actual result user receive pop up to input verification de on old email user input verification de form to input new email is appeared after user input new email form to input verification de on old email is appeared again user ac unt will be verified after the email successfully changed \n",
      "33  launcher error page when download game paused when user download game and then pause the download an error page will appear image png thumbnail after user click try again and resume the download the game will ntinue to be downloaded \n",
      "34  build info add realm prefix in buildinfo redis key name to prevent nflict with other realm add prefix in all buildinfo redis key name to prevent nflict with other realm redis key \n",
      "35  api gateway add realm prefix in apigateway redis key name to prevent nflict with other realm add realm prefix in apigateway redis key name to prevent nflict with other realm \n",
      "36  legal update wrong app_legal_s _base_path_url jenkins value update wrong app_legal_s _base_path_url jenkins value it should have in the end of the string \n",
      "37  bug login website make any unregistered error from server redirect user to page error make any unregistered error from server redirect user to page error \n",
      "38  bug ve website wordpress loading indicator should last longer acceptance criteria the loading screen should be displayed until react script loaded \n",
      "39  legal add realm prefix in legal redis key name to prevent nflict with other realm add realm prefix in all legal service redis key name to prevent nflict with other realm redis key \n",
      "40  bug web login user get error respons manifest json in login page user access ve website then open login page when user inspect nsole the page notice that user get error respon manifest jason in login page steps access ve website open login page and inspect element expected result should not display error manifest json see attachment for details \n",
      "41  bug web registration field year in dob change to email when fill password from suggestion user access login page then create new ac unt when user click field password and select from browser suggestion notice that form years auto filled with email from suggestion password step access login page in ve website open create new ac unt page click on password field browser will display email password suggestion select one that email password expectred result email suggestion should display in field email see attachment for details \n",
      "42  backend iam publisher user id cannot be queried when create user using third party platform using game namespace client publisher user id cannot be queried when create user using third party platform using game namespace for the further information please refer to the linked issue in this ticker \n",
      "43  iam add realm prefix in iam redis key name to prevent nflict with other realm add realm prefix in all iam redis key name to prevent nflict with other realm redis key \n",
      "44  stg ap wallet can debit credit if input characters on the reason field notes based on input validation sheet docs google spreadsheets wa dgzfadcu gcvrugykcduggd wck zlk gygy edit pli gid range the max value of the reason is \n",
      "45  stg ap admin can access debit menu although the cursor displayed as forbidden there is also another issue where the debit button lor is still gray even if the debit button can be clicked not forbidden \n",
      "46  verification de email going to spam instead of inbox based on slack accelbyte slack archives grar eccf verification de email going to spam instead of inbox in dev environment references herentpath rarelogic blog how to prevent emails from going to spam \n",
      "47  stg launcher success verified pop up appears twice after change mail and verify de \n",
      "48  ap no action when grant entitlement from admin super user when admin portal super user grant item from _users_ page without create request after admin fill the form and click _grant_ there is no action and the entitlement did not granted to user \n",
      "49  stg pp launcher my profile the change email button are enabled eventhough there no input on the new email field notes there a warning validation when click on the change email field left empty _please rrect the errors in the form to proceed _ which are not quite informative and nfusing \n",
      "50  player portal add realm prefix in pp redis key name to prevent nflict with other realm add prefix in all player portal redis key name to prevent nflict with other realm redis key this issue introduce bug in this feature cms adapter didn get the latest ntentful data since the redis cache is replaced by the other realm pp \n",
      "51  stg pp after redeem code field didn clear \n",
      "52  launcher display avatar on top right of the launcher did not change when change avatar using not verified ac unt when user login to launcher using not verified ac unt then change avatar the avatar on top right of the launcher did not changed image png thumbnail \n",
      "53  user email not updated before verifying old email endpoint put iam public namespaces namespace users me create user with first_email example then verify the email then log in to change the email with se nd_email example then log out user login using se nd_email example before verifying it then change an email to third_email example then logout user can not log in using third_email example but can log in using se nd_email example \n",
      "54  stg pp launcher wrong error message when user purchase exceed max amount transaction max transaction amount day max balance amount \n",
      "55  stg ap input invalid numbers in max amount transaction max transaction amount day and max balance amount is treated as empty field \n",
      "56  stg launcher success verified pop up appears twice after verify login for the first time \n",
      "57  launcher launcher doesn open game page and popup download modal when running in background launcher doesn open game page and popup download modal when running in the background after running the mini launcher \n",
      "58  launcher launcher doesn open game page and popup download modal launcher doesn automatically go to the specific game and show the download popup after the launcher installation \n",
      "59  logrotator not clean and backup jaeger logs logrotator not clean and backup jaeger logs \n",
      "60  fix bug ap login admin portal logged in using non email and password mbination ex superuser there is an lor red enter valid email address lor alert below the email text box but we can click the login button \n",
      "61  stg ap deprecated client should be deleted from list \n",
      "62  no purchase logic for mock game item summary due to the absence of mock up data that needs to be fetched currencymap entitlement availableiteminfo fetchwalletmap the purchase logic can be created steps to reproduce actual result expected result \n",
      "63  test for fetch in game item ready state failed summary the test for fetching in game items ready state failed the failure is caused by the absence of the mock up data that needs to be fetched currencymap entitlement availableiteminfo fetchwalletmap steps to reproduce added network call mock in the unit test actual result expected result successfully run the test and able to get the expected result \n",
      "64  ap request grant entitlement for ins is not increase user in when requester create request grant entitlement and reviewer approve the request the number of ins on target user wallet is not increased as the ins on approved request compared to grant item feature without using admin review when admin grant item and choose ins the number of ins on target user wallet will be increased as the granted ins \n",
      "65  stg ap gdpr config admin notif double click on empty space within the email list box will trigger the updating email list notes this issue also occurs when _click on the add remove button _ without making any selection on the email \n",
      "66  pp build ntentful error when no support ntent published build ntentful error when no support ntent published \n",
      "67  ap admin able to create request for game entitlement with the quantity value is when admin create request for game entitlement and fill the quantity value is g the request still able to be created for game type the request shouldn be created if the quantity value is image png thumbnail \n",
      "68  stg pp launcher registration can sign up if input year on dob between _ notes _ user able to sign up on year or above inspect result will get error unable to create user validation error userid undefined details dateofbirth does not validate as date unable to create user validation error userid undefined details date of birth out of range \n",
      "69  stg campaigns wrong text validation for max character input \n",
      "70  bug admin portal change password is disabled on first login after user created step to reproduce create new user through adminportal login using new user on adminportal verify email address go to menu my ac unt manage change password button is disabled acceptance criteria change password button is enabled \n",
      "71  stg ap search bar the texts will overlap with search button if input long characters notes occurs on campaign stores namespace orders entitlements walltes product keys \n",
      "72  ap no notification when admin create request for entitlement without mplete the field when admin requester create request to grant entitlement and not mplete to fill the field on grant item form there is no action or notification to mplete the field this issue only happens when admin did not fill the following fields source reason but when admin leave all the fields empty the notification to fill the field will appear image png thumbnail \n",
      "73  pp launcher ac unt verification pop up always appeared after login when user choose to verify later when user choose to verify later it will be saved to cache so the pop up only appear when user use the different browser \n",
      "74  backend basic custom attributes not support nested document bson nverter error \n",
      "75  gdpr add realm prefix in gpdr redis key name to prevent nflict with other realm add prefix in all gpdr redis key name to prevent nflict with other realm redis key this issue introduce bug in this feature gdpr ac unt deletion \n",
      "76  demo dialog pop up notification doesn displayed after user buy in game item \n",
      "77  iam change deployment yaml namespace from realm_name to s_ns and update wrong realm_name jenkins value need to update deployment yaml namespace from realm_name to s_ns iam service use wrong realm_name value cust name dev it should be cust name \n",
      "78  ap grant item form still appeared after admin successfully create request grant item form still appeared after admin successfully create request the form should disappeared after the requester successfully create request \n",
      "79  launcher default avatar on launcher is not same as on pp default avatar on both launcher and pp should be same the rrect one is the default avatar on pp \n",
      "80  pp notification to verify ac unt still appear after user logout when user login using not verified ac unt then logout the notification to verify ac unt still appear on pp \n",
      "81  fix date of birth format to utc fix date of birth format to utc \n",
      "82  mini launcher update object properties mini launcher mini launcher update object properties mini launcher \n",
      "83  backend lobby remove multi index in elasticsearch remove elasticsearch multi index to support latest supported es version \n",
      "84  bug iam email notification update email address return the same email for oldemailaddress and newemailaddress bug iam email notification update email address return the same email for oldemailaddress and newemailaddress \n",
      "85  bug ap statistic admin get error notification when create new nfiguration in statistic admin login in admin portal and reach statistic configuration menu then admin create new configuration when admin tap add button notice that admin get error please rrect the errors in the form to proceed step login to admin portal reach statistic configuration menu click create configuration button fill all form in popup click add button expected result admin success create new nfiguration in statistic actual result admin get error please rrect the errors in the form to proceed when check in nsole admin get response error please see attachment for more details thank you \n",
      "86  bug iam login with device id return same userid after upgrade headless ac unt how to reproduce user login with device id headless user upgrade their headless ac unt adding email user login with device id again expected behavior user get different user id as the first user id already have an email present behavior user get the same user id the same user id that already have an email \n",
      "87  make password glow depending on the regex of user password input make password glow depending on the regex of user password input \n",
      "88  adding eye n to show password when user fill password adding eye n to show password when user fill password \n",
      "89  backend legal non exists policy id policy version id or localized policy id can be accepted by bulk agreement the legal backend service doesn do any validation so that non exists policy can be accepted all accepted agreement should abide the existing policy id policy version id and localized policy id \n",
      "90  admin portal deployment script returns when assigning role manager in admin portal we have scripts that run in succession to create various iam entity needed by admin portal that is in order of execution client user role after creating role the script will attempt to assign newly created user as the manager of that role here the script returns \n",
      "91  change policy tos and nda into env var change policy tos and nda into env var \n",
      "92  dev ap wrong data show on total user arppu chart total user show how many transactions on arppu chart total user must show how many user have pay in that day how to reproduce user login in player portal and buy game user login in player portal and buy game admin login in admin portal and check dashboard arrpu chart arrpu chart show total user \n",
      "93  adding logout button adding logout button \n",
      "94  pp blank page when open player portal using mozilla firefox user get blank page when open player portal using mozilla firefox there an error typeerror justice_playerpo al_zendesk_subdomain zendesk is not valid url \n",
      "95  status page service return status page service return \n",
      "96  matchmaking getting channel nfig but the matching flexing rules data always null how to reproduce create channel nfig with full ruleset matchingrules and flexingrules from matchmaking service dev versusevil accelbyte io matchmaking apidocs matchmaking createchannelhandler get the created channel nfig dev versusevil accelbyte io matchmaking apidocs matchmaking getsinglematchmakingchannel actual response body return null data in matchingrule and flexingrule expected response body show the match data with data when it created creatematchmakingconfig png thumbnail getmatchmakingconfig png thumbnail \n",
      "97  stg pp launcher input age from the age restrictions can mplete the registration form scenario admin set barbados to for age restrictions user register on barbados and input january the age will be note user unable to proceed if change the year to the age will be \n",
      "98  stg pp launcher login page is not translated to chinese \n",
      "99  if ac unt already upgraded nsider it as success instead of an error if ac unt already upgraded nsider it as success instead of an error \n",
      "100  stg pp launcher wrong error message when purchase bundle with max limit purchase per users \n",
      "101  stg demo game can find match when using channel with existing matching rules and flexing rules pre ndition need two players to play the ab shooter game step to reproduce login to admin portal change namespace to game namespace click matchmaking click create channel with this nfiguration channel name vs namespace shooter game click add in rule set section set alliance number and symmetric party number click add matching rule with this nfiguration attribute mmr criteria distance reference click add click add flexing rule with this nfiguration attribute mmr criteria distance reference duration click add open launcher then play ab shooter click lobby create party click start play expected result players should be able to play multiplayer match without any issue after channel is setup to have matching rule and flexing rule actual result player can play multiplayer match matchmaking service end up unavailable notes further reference is in this discussion accelbyte slack archives cnz bbq accelbyte slack archives cnz bbq \n",
      "102  change date of birth picker to be same with login website change date of birth picker to be same with login website and fix ui styling \n",
      "103  login page misformatted json on healthz endpoint response returning invalid json trailing mma it should be no trailing mma in the response \n",
      "104  stg ap pp launcher player can redeem game by de after admin disabled player owned game \n",
      "105  stg ap can click back to search panel in order menu \n",
      "106  stg launcher user unable to sign up using steam the issue doesn occurs on player portal already tested using newly un linked steam acc attached log from fiddler \n",
      "107  stg ap search feature by email and user id doesn work in ac unt deletion request \n",
      "108  pp legal web legal document not found when user want to see legal document detail _pre ndition _ admin portal publish legal document for seelcted untry default untry step to reproduce user reaches registration page user select untry on registration form _ g indonesia _ user click legal document link user is redirected to new window for legal website expected result the legal document in legal website is displayed rrectly actual result legal document not found is appeared on legal website image png thumbnail \n",
      "109  pp change the link fb twitter instagram and dis rd to athlon ac unt step to reproduce go to player portal navigate to footer on homepage click on social media link fb twitter instagram and dis rd expected result the social media ns is linked to athlon ac unt actual result the social media ns is not linked to athlon ac unt image png thumbnail \n",
      "110  ap clients iam calls these uris whenever user already authenticated pop up remain displayed when admin preview from the field box \n",
      "111  pp launcher support can upload file with less than kb size on the ntact support attachment note size of the file is kb on windows explorer \n",
      "112  stg pp launcher homepage and launcher will be messy when there is news ntent with long title \n",
      "113  email template admin receive email ac unt deletion failed from mandrill step to reproduce _pre ndition add admin ac unt using tester email and email to selected admin on email recepients configuration from gdpr configuration admin notification _ login to admin portal go to user ac unt search specific user on user details page click _delete _ on user detail section admin that is registered on pre ndition step will receive ac unt deletion failed email expected result ac unt deletion failed mail template using athlon games template mailed by sendgrid actual result ac unt deletion failed email template still using accelbyte mailed by mandrill \n",
      "114  admin portal pop up deletion nfirmation after user login is not rrect step to reproduce login to admin portal go to _user ac unt _ search specific user on user details page click _delete_ on user detail section user login to pp launcher using the deleted ac unt expected result date on ac unt deletion confirmation pop up is rrect actual result date on ac unt deletion confirmation pop up is not rrect it displays th december even though the deletion started at th december \n",
      "115  stg pp launcher support attachments ntent are not translated when change the language during open ntact our support form note occurs on following texts attachments add up to files the file is too big please attach files that are less than mb you have already reached the limit of attachments \n",
      "116  stg pp launcher user doesn get informative notification error in redeem this issue also occurs when user redeem an invalid de user redeem an inactive de user redeem used de user reach maximum redeem per user user reach maximum redeem per de \n",
      "117  stg pp launcher redeem code change password failed pop up are not translated to chinese \n",
      "118  admin portal legal unable to load version locale on first load unable to load version locale on first load \n",
      "119  admin portal legal locale section on verison detail is blank after successfully upload md file step to reproduce admin click _ legal management _ admin select one document then click _ view _ admin select one version then click _ view _ admin click _ create new _ on version details page admin select language and upload file with md extension admin click _ create _ expected result admin successfully upload md file and able to see the text at the locale section on version details page actual result the text is not appeared at locale section on version details page \n",
      "120  stg pp launcher news support the searched text will be spammed after adding keyword on the search box \n",
      "121  stg old user doesn receive email notification about policy update \n",
      "122  backend statistic get user statitem by userid return unfiltered data admin namespaces accelbytetesting users userid statitems return unfiltered that data ntains other than userid \n",
      "123  dev ap continuous loading when select date after change date to this current selected date ntinuous loading is not mplete and chart never shown step to reproduce login ap as admin select dashboard menu edit date before current date and choose date that has been selected before \n",
      "124  stg ap failed notification pop up appear when create document in legal management but actually the document is created this issue also occurs when admin create version create new localization \n",
      "125  stg ap namespace currency can input characters to the localization description note admin only able add max up to characters on the descriptions based on the nput validation assessment docs google spreadsheets wa dgzfadcu gcvrugykcduggd wck zlk gygy edit pli gid docs the max value of the localization descriptions is \n",
      "126  ap namespace means unlimited amount pop up remain displayed when admin preview from the field box \n",
      "127  backend statistic fix swagger put public namespaces namespace statitems value bulk public bulk increase statitem value replace with public bulk update multiple user statitems value \n",
      "128  stg pp launcher there is typo in stumer that should be customer \n",
      "129  stg ap demo game the expire date for dis unt items using gmt instead of utc note promo dis unt items won retrieved if admin set the we expire date using utc e utc gmt \n",
      "130  stg ap user doesn get email notify when admin change player untry \n",
      "131  iam publisher user id cannot be queried when create user using steam open id using game namespace client steps to reproduce login using steam open id and game namespace client dev versusevil accelbyte io iam apidocs oauth platformtokengrantv dev versusevil accelbyte io iam apidocs oauth platformtokengrantv on registration success game user id is created get publisher user id using the game user id dev versusevil accelbyte io iam apidocs users getpublisheruser dev versusevil accelbyte io iam apidocs users getpublisheruser get user by user id on publisher namespace using retrieved publisher user id actual result get user id failed return search user id using steam display name success expected result get user id success search user id using steam display name success notes game namespace accelbytetesting game user id bbf fb eb ddbed publiser user id f fe e fdc dc generate steam ticket using this one steam mmunity openid login openid ax mode fetch_request openid ax required fullname cfirstname clastname cemail openid ax type email http f faxschema org ntact femail openid ax type firstname http f faxschema org fnameperson ffirst openid ax type fullname http f faxschema org fnameperson openid ax type lastname http f faxschema org fnameperson flast openid claimed_id http f fspecs openid net fauth fidentifier_select openid identity http f fspecs openid net fauth fidentifier_select openid mode checkid_setup openid ns http f fspecs openid net fauth openid ns ax http f fopenid net fsrv fax openid ns sreg http f fopenid net fextensions fsreg openid realm http f flocalhost openid return_to http f flocalhost openid sreg optional nickname cemail cfullname cdob cgender cpost de untry clanguage ctimezone steam mmunity openid login openid ax mode fetch_request openid ax required fullname cfirstname clastname cemail openid ax type email http f faxschema org ntact femail openid ax type firstname http f faxschema org fnameperson ffirst openid ax type fullname http f faxschema org fnameperson openid ax type lastname http f faxschema org fnameperson flast openid claimed_id http f fspecs openid net fauth fidentifier_select openid identity http f fspecs openid net fauth fidentifier_select openid mode checkid_setup openid ns http f fspecs openid net fauth openid ns ax http f fopenid net fsrv fax openid ns sreg http f fopenid net fextensions fsreg openid realm http f flocalhost openid return_to http f flocalhost openid sreg optional nickname cemail cfullname cdob cgender cpost de untry clanguage ctimezone client id used for authorization ffb ba b aba \n",
      "132  backend gdpr change sender email address domain name we need to update the sender email address domain name to client name instead of using accelbyte domain name \n",
      "133  backend iam change sender email address domain name we need to update the sender email address domain name to client name instead of using accelbyte \n",
      "134  stg player display name not displayed in player email after admin change player date of birth \n",
      "135  stg ab shooter lobby demo game crash when user try to add friend with an invalid ids \n",
      "136  launcher launcher created mmand to download byte block rare occurrence on launcher download process causes launcher to get stuck on and hindering launcher to set the download progress to finished it is caused by launcher generating byte blocks pointing to nonexistent file in this caused launcher to attempt to download non existing bytes from which will always fail this fix ignores those byte blocks and proceed to next task fix is done in this mmit bitbucket org accelbyte justice launcher mmits ee dfa cc df da \n",
      "137  dev launcher teks and button in unistall game nfirmation too close \n",
      "138  launcher specific game can not be downloaded if there is more than item in the store specific game can be downloaded if there is more than item in the store pre ndition user already has game entitlement more than item steps to reproduce run mini launcher by following this documentation accelbyte atlassian net wiki spaces pj pages how to use mini launcher creator cli accelbyte atlassian net wiki spaces pj pages how to use mini launcher creator cli smart link actual result game is not downloaded expected result game is downloaded \n",
      "139  dev launcher there is no progress bar when user updating game \n",
      "140  launcher launcher is not showing when running in the background launcher can be launched sometimes displaying blank page when closing the window and run the mini launcher again launcher is still running in the background and will close properly only when we close it from the system tray notification area pre ndition launcher is running in the background process steps to reproduce run mini launcher by following this documentation accelbyte atlassian net wiki spaces pj pages how to use mini launcher creator cli accelbyte atlassian net wiki spaces pj pages how to use mini launcher creator cli smart link actual result launcher didn show up expected result launcher is displayed \n",
      "141  dev launcher not showing message when user lost nnection during download game process \n",
      "142  launcher launcher didn redirect to store page launcher didn redirect to the store page when the user running mini launcher for specific games when they don have entitlement pre ndition user doesn have game entitlement steps to reproduce run mini launcher by following this documentation accelbyte atlassian net wiki spaces pj pages how to use mini launcher creator cli accelbyte atlassian net wiki spaces pj pages how to use mini launcher creator cli smart link login to the launcher actual result launcher keep displaying library page expected result display the store page with specific game purchased \n",
      "143  stg ap monitoring different wording of the warning texts with figma when admin failed to fetch the data \n",
      "144  text in button send when disabled is white instead of gray expected result the text lor should be hex a rgb could be checked in style guide in figma \n",
      "145  launcher can scroll up and show all of months in launcher when users click my profile and change date of birth in launcher users can scroll up all of the months in launcher \n",
      "146  ap title on topbar at template menu isn refreshable when access it from other menu \n",
      "147  ab web arrow in blog drop navigation arrow list was misaligned arrow bullet in blog navigation were misaligned needed to fix \n",
      "148  add text de ration underline on hover for see his story on leadership section who we are page add text de ration underline on hover on text see his her story on leadership section who we are setion page \n",
      "149  opening bundles page text should be loading bundles image png thumbnail when opening bundle page the loading text should be loading bundles \n",
      "150  steam credentials got replaced even though the steam lives in another namespace prerequisites steam credentials in particular namespace is setup let call it namespace accelbyte steps to reproduce login as user who has this permission admin namespace namespace platform platformid client create using swagger add another steam credentials in namespace gladiator and platformid steam demo accelbyte io iam apidocs third_party_credential addthirdpartyloginplatformcredentialv demo accelbyte io iam apidocs third_party_credential addthirdpartyloginplatformcredentialv call the demo accelbyte io iam apidocs third_party_credential addthirdpartyloginplatformcredentialv demo accelbyte io iam apidocs third_party_credential addthirdpartyloginplatformcredentialv expected result there are two steam credentials live in two different namespace in accelbyte and gladiator actual result there is only one steam credentials live in gladiator namespace \n",
      "151  bug generate token with steam platform using publisher client but show in game namespace fix the token generate result to publisher namespace instead of game namespace how to reproduce login headless with steam ac unt using game client login again with publisher namespace \n",
      "152  ab web some n in why use accelbyte cloud section not match with design in figma n that need to change no need to worry attractive default operations \n",
      "153  statistic global statistic stat config user statistic required response all endpoints in statistic actual success get response with namespace ntains special character without authorization expected all response must be when we don define authorization \n",
      "154  blog some blog post width area breaking due pre tag blocking work post are breaking due pre tag wont resize expectation it should resize and fit like other blog post \n",
      "155  statistic user statistic error endpoints get admin namespaces namespace users userid statitems get public namespaces namespace users userid statitems actual error when hit the endpoints without define statcodes expected statcodes should be optional based on api spec \n",
      "156  bug admin portal log in view edit history display empty admin login to ap then manage ac unt when user edit their ac unt and then open view edit history notice that log in view edit history display empty steps admin click my ac unt section admin edit personal info admin click view edit history issue there is no display edit history after success edit ac unt expected result edit history information should displayed rrectly see attachment for details \n",
      "157  bug admin portal statistic admin failed to create new statistics admin access ve admin portal then open statistic menu when admin create new nfiguration notice that admin can create new statistics and view them on the list always show error notification steps admin login to ap click statistics configurations on the left panel click create configuration admin fill the form admin click add issue admin can create statistics error message is invalid audience expected result admin can create new statistics and view them on the list see attachment for details \n",
      "158  button back to top right bottom always visible even in top of the page current state button back to top right bottom always visible even in top of the page expectation it should have hidden if on top of the page position and will visible if page was scrolled \n",
      "159  opening featured ingame item in homepage result in error page not found opening featured ingame item via homepage will redirect to cust name dev accelbyte io store apps cfad cb ac e expected url cust name dev accelbyte io store in game items cfad cb ac e \n",
      "160  bug fix version is not showing in the right place in statistic service as sdet want get the service version instead of unknown how to reproduce go to dev versusevil accelbyte io statistic version \n",
      "161  backend prod add rs domain to deplotment script add rs domain to deplotment script so it sync with prod env \n",
      "162  get user eligibilities timed out when there are data endpoint get public eligibilities namespaces namespace untries untrycode clients clientid users userid link to raised bug in slack accelbyte slack archives cr pmx initial suspicion suspect this because in this func bitbucket org accelbyte justice legal service src ae ebf df efc bae cf legal src main java net accelbyte platform legal inmem redisrepositoryimpl java lines it will get all the multimap value hgetall iterate all of them and then smembers but m not too sure about this since m not familiar with redisson and java but if that assumption is rrect it means legal will iterate through users policies iterations if we have policies and users that already accept the agreement \n",
      "163  shows login instead of login website in the services uptime dashboard steps to reproduce login to the admin portal using an admin ac unt click the monitoring side bar menu action result the admin portal shows login as the service name expected result the admin portal shows login website as the service name \n",
      "164  stg lw continue button doesn redirect to anywhere when create new ac unt by login with steam summary user would like to login using rd party steam since current implementation force user to create non headless ac unt user fill the form step to reproduce go to login website pp or launcher click login with steam enter username and password then click sign in enter email for upgrading headless ac unt fill the verification de display name dob and password click continue actual result user is not redirected to anywhere expected result user is redirected to homepage attachment _justice_staging_admin portal_continue button doesn redirect to anywhere when create new ac unt by login with steam png width height notes click continue button doesn have any reaction and network inspection shows nothing no error de nor xx de is there \n",
      "165  stg ap typographical error when search item in store by using filter by search summary admin try to find an item but the result is empty the message that was written is wrong but minor problem step to reproduce login to admin portal go to stores select one draft store by click view click items tab search item by title that is not exist in store actual result the message of the empty list is there is no item yet expected result the message should be different from when the item is empty and when admin search an item in the list message ntent should be no item found or there is no such item and something similar attachment _justice_staging_admin portal_typographical error when search item in store by using filter by search png thumbnail \n",
      "166  wrong ip address re rded for game server our server management service are reading forwarded for attribute in request header the service will check for the first public ip found in that attribute the problem we had is that attribute sometime ntains public ip address beside not the game server ip address and that ip address checked before the game server ip address therefore the server management service re rded the wrong ip address for the game server our temporary fix would be ignoring ip address with format xxx xxx xxx that would be safe for now since the ip address of our current game servers does not having that format still need to find better solution for that \n",
      "167  pp carousel doesn translated into chinese descriptions user visited player portal and change the language into chinese then they browse the carousel menu steps to repro open player portal change the language into chinese observe the carousel actual result carousel ntent still displayed in english when user change the language into chinese expected result carousel ntent are translated into chinese workaround a \n",
      "168  iam rd party platform credentials wrong primary key current primary key of rd party platform credential is only platformid it causes bug when user trying to store same platformid in different namespace the primary key should be platformid and namespace acceptance criteria work in the justice re repository directly run the test in justice dev environment deploy from re repository directly bring the works to the customer repository after the deployment is mpleted \n",
      "169  launcher the speed status change to infinity when user set to max value descriptions user login from launcher and go to settings they changed the speed limit to maximum in this case value steps to repro open launcher login using registered acc and open settings change the speed limit to maximum value actual result the speed limit change to infinity when user set to max expected result the speed limit should be shows the actual value when user set to max workaround a note this issue will cause user can delete the infinity speed value unless perform select all ctrl on it then press delete backspace \n",
      "170  basic service return when anonymizing if firstname or lastname is null basic service return when firstname or lastname is null effected feature ac unt deletion gdpr service \n",
      "171  launcher my profile the descriptions mentioned null instead of mail on open external url pop up descriptions user launch the launcher and login into their ac unt then they proceed to profile my profile and click on hyperlink _ lor afe hello accelbyte io lor _ steps to repro login using registered acc on launcher go to profile my profile click on hello accelbyte io actual result the descriptions mentioned null on open external url pop up expected result the descriptions should be mentioned _mail email _ on open external url pop up workaround a \n",
      "172  dev regression ap cannot create app item steps to reproduce login to ap go to store page open one of the draft store click tab item create item create new item select itemtype app click add expected result ap creates item actual result ap doesn create item \n",
      "173  launcher settings show the address bar when accessing web view remain checked when user mmit reset to defaults setting descriptions user logged in and go to settings he made changes on the settings and click on the reset to default button step to repro login using registered acc on launcher go to settings make changes show the address bar when accessing web view checked on the settings click on reset to defaults button actual result the show the address bar when accessing web view remain checked when user click on reset to defaults button expected result the show the address bar when accessing web view should be unchecked when user click on reset to defaults button workaround a \n",
      "174  dev buildinfo buildutil unable to upload game details occasional s buildutil is running on windows game size is about mb \n",
      "175  dev pp document on privacy re rds menu not similar with documents that are checked in register headless ac unt process step to reproduce login with steam ac unt complete registration by fill finish ac unt setup check document testing policies and end user licence agreement and testing marketing preference and privacy policy and policy test for demo and asd testing detail indo select ntinue and reach privacy re rds menu notice only see policy test for demo document expected result user able to see testing policies and end user licence agreement and testing marketing preference and privacy policy and policy test for demo and asd testing detail indo document on privacy re rds menu actual result user only see policy test for demo document on privacy re rds menu attachment image png thumbnail image png thumbnail \n",
      "176  change the invalid password error message in registration page into please enter valid password steps to reproduce go to the login website click the create new ac unt button start typing the password in the password field actual result shows please provide valid password format expected result shows please enter valid password software version login website alpha \n",
      "177  website shown dashboard without sidebar website shown dashboard without sidebar \n",
      "178  in admin portal there should be py button next to athlon user id step to reproduce login admin portal reach detail user page notice no display py button next to athlon user id actual result py button should be display when user click py button display toast message bandicam jpg thumbnail attachment bandicam jpg thumbnail bandicam jpg thumbnail \n",
      "179  got error when access the platform and service uptime after lost nnection step to reproduce login admin portal select monitoring and reach uptime page disable nnection select monitoring and reach uptime page enable nnection and select refresh page notice got error attachment bandicam mp \n",
      "180  demo pp user can purchase in game item or bundle ntain game in game item from player portal if user never played the game once summary user would like to purchase an in game item or bundle ntaining game in game item in this case user haven buy the game or play it for once when ntinue to payment user got an error that his ac unt is not exist step to reproduce login to player portal go to stores select game to view game detail page omega nebula select in game item click buy now continue to payment actual result when purchased bundle with virtual currency error message showed that user doesn exist when purchased bundle or in game item with real currency the payment is showed successful but order history does not re rd the purchase user have no entitlement in admin portal and the order status is fulfill failed expected result user can purchase bundle ntain game in game item without having to play the game first to own the in game item attachment _justice_demo_player portal_user can purchase in game item from player portal if user never played the game once png thumbnail notes also occur when user purchase bundle ntain game in game item and purchased with \n",
      "181  sometimes the crash reporter client doesn showup sometimes the crash reporter client doesn showup criteria of acceptance crash reporter client always show nsistently \n",
      "182  dev ap cannot edit payment nfiguration with namespace region steps to reproduce open justice dev accelbyte io admin payment nfigurations offset select payment provider with namespace region edit expected result payment nfiguration can be edited actual result payment nfiguration cannot be edited \n",
      "183  api gw cloud storage slot public get slot not returned content length when trying to get slot data using this endpoint justice stg accelbyte io binary store apidocs slot getslotdatausingget it returns ntent length in the response header but when we try to hit the endpoint through api gateway it doesn return ntent length in the response header related discussion bitbucket org accelbyte justice apigateway service pull requests socp api gw testcloud storage service diff mment \n",
      "184  stg ap admin didn receive email when user request personal data summary admin is set as recipients whenever user request personal data like personal data request and ac unt deletion however admin didn receive any email regarding personal data request made by user step to reproduce _admin portal _ click gdpr configuration admin notification select one email from available admin list click add _pp or launcher _ login to pp or launcher go to my profile click personal data enter password then click send request actual result admin didn received any email when user create personal data request expected result admin should have receive an email when user request personal data attachment _justice_staging_admin portal_admin didn receive email when user request personal data mp \n",
      "185  stg ap resolution is displayed as for all images instead of the actual size summary when user uploads image for specific item in the store user notices that the resolution is written as instead of the actual resolution pre ndition prepare an image to upload steps to reproduce admin login to admin portal admin click stores admin click view on selected draft store admin click view on selected item admin click images on pricing section admin click upload button admin select the image and proceed until the image is uploaded notice that the resolution is displayed as for all images instead of the actual size actual result resolution is displayed as expected result resolution is displayed as the actual size workaround there is no workaround for this issue \n",
      "186  launcher pp verification de pop up remain displayed when user proceed to change an email address summary user trying to login on player portal using steam ac unt when they input an email and proceed to finish ac unt setup notice that verification de pop up remain displayed when user proceed to change an email address step to reproduce open player portal or ab launcher choose to login with steam enter an email address on finish ac unt setup notice that the verfication de pop up are displayed don close the pop up and proceed to change an email address actual result verification de pop up remain displayed after user proceed to change an email address expected result the verification de pop up should not be displayed after user move to change an email address section workaround there no workaround for this issue note this issue occurs on player portal ab launcher \n",
      "187  stg ap the warning sentence doesn have mma in the price if admin set dis unt greater than the actual price summary when user set dis unt by amount greater than the actual price notice that the warning sentence doesn have mma in the price pre ndition steps to reproduce admin login to admin portal admin click stores admin click view on selected draft store admin click view on selected item admin click view on pricing section admin fill dis unt by amount by price higher than the actual price notice that the warning sentence doesn have mma in the price if admin set dis unt greater than the actual price actual result the warning sentence doesn have mma in the price if admin set dis unt greater than the actual price expected result the warning sentence should have mma in the price if admin set dis unt greater than the actual price workaround there is no workaround for this issue \n",
      "188  dev api gateway admin get code info query parameters don work the endpoint get admin namespaces namespace des de has query parameter redeemable with default value false to test the negative case that has response de we need to get the de info that not redeemable with query parameter redeemable set as true it work as expected on direct but it don in api gateway actual response de expected response de attachment on the error report is included failed_api gw png width height testapigatewayadmingetcodeinfo html \n",
      "189  stg launcher text cursor on username password are missing when trying to login via steam summary when user run the launcher and choose to login via steam notice that text cursor on username password are missing when trying to login via steam step to reproduce run the ab launcher click on login with steam navigate to steam username password field box actual result there no text cursor on the username password field box expected result the text cursor are visible when user tap on the username password field box workaround change to another tab then back again to ab launcher will makes the text cursor visible \n",
      "190  stg ap in game item have no item title on user entitlement list in game namespace summary player purchase an in game item for specific game after purchase admin check user entitlement of the in game item through game namespace pre ndition user have purchased an in game item for certain game ex ab shooter step to reproduce login to admin portal change namespace to game namespace ex ab shooter admin click entitlements admin enter user email actual result all item is written untitled item for it title expected result items have it title showed rrectly attachment _justice_staging_admin portal_in game item have no item title on user entitlement list in game namespace png thumbnail \n",
      "191  stg ap password indicator is not working step to reproduce user reaches login page in admin portal fill in with email which already in use fill in with invalid email address e endah accelbyte net check password streght check use poor password to register fill in birth date as underage user g july actual result see notification provide valid password format expected result when user input invalid email address user should be able to receive error message please input valid email adrress when user input registered email address user should be able to receive error message email is already registered when user input poor user should be able to see et of acceptance rule for the password and unable to register when user is underage user should see age restriction warning sorry we are unable to process this request workaround there is no workaround \n",
      "192  multiple game studios shared the same steam platform login credentials as right now the steam platform login credentials can be shared with multiple game studios as the credentials only valid for one app id steps to reproduce create steam platform client credentials in the publisher namespace example noformat appid clientid namespace versusevil platformid steamopenid redirecturi http secret steam web api key isactive true noformat steam login from game client client who lives int he game namespace by calling the dev versusevil accelbyte io iam apidocs dev versusevil accelbyte io iam apidocs oauth platformtokengrant with steam as the platformid and the platform_token as the steam ticket actual results it returns an error _sorry forgot to capture the error log _ expected results it successfully returns the game access tokens how to test delete the publisher namespace steam credentials in demo add the abshooter or game namesapce steam credentials in demo by calling this endpoint demo accelbyte io iam apidocs third_party_credential addthirdpartyloginplatformcredentialv demo accelbyte io iam apidocs third_party_credential addthirdpartyloginplatformcredentialv open launcher login with sample game distrubuted in the steam \n",
      "193  cloud storage invalid date time format in slot endpoints currently our date time format in slot endpoints is unix timestamp the rrect format is rfc z this is the response when create slot cloud storage png thumbnail \n",
      "194  stg ap demo game player can purchase an dis unted item with release date but no expire date in game store summary admin set an item to have dis unt and the price will be updated at certain time with release date dis unt will not expired after item is set player purchase the item pre ndition the item never been set to have release date and expire date for it dis unt before step to reproduce _in admin portal _ go to store in game namespace ex ab shooter select one store by click view in the dot dropdown menu click items tab select one item by click view click view for item price in pricing section set dis unt and dis unt release date _in demo game _ login to launcher play ab shooter by accessing library go to store purchase the dis unted item actual result item price is not dis unted player receive error message order price mismatch expected result item price can have dis unt without expiration date workaround admin also set the dis unt expire date attachment _justice_staging_admin portal_demo game_player can purchase an dis unted item with release date but no expire date in game store png thumbnail \n",
      "195  stg ap out of bound label on entitlements page description when accessing the entitlements page on admin portal after admin search for some entitlement you can see that the history label on the right side of the screen is out of bound steps to repro login to ap as super user click entitlements on the left side of the screen change to dropdown to by email then search guido steam accelbyte net actual result the letter on history label is out of bound expected result the label should be inside of the border \n",
      "196  stg ap demo game buy button and price still shown after item price is expired in game store summary admin set the price of an item for game store to be expired at certain time after the item is expired player can see the item along with the price and buy button step to reproduce _in admin portal _ go to stores in game namespace ex ab shooter select one store by click view from dot dropdown menu click items tab select one item by click view click view of price in pricing section set expire date in price section to current date time _in demo game _ login to launcher play ab shooter go to store buy item that was set to expire earlier actual result player can still click buy button and see the item price player receive error order price mismatch expected result buy button and item price can be seen and set item price to not available or something similar attachment _justice_staging_admin portal_demo game_buy button and price still shown after item price is expired in game store png thumbnail \n",
      "197  stg ap store information list spilled out of it frame summary when checking on store information list by admin portal notice that the display spills out of its area pre ndition step to reproduce login to admin portal go to stores click view on any draft store or published store notice that the display spills out of its area actual result store information list spills out of its area expected result the information is displayed inside of the box \n",
      "198  stg disabled item missing from my games and library description after admin disable an item from user entitlement the item should still be available on their item list my games section and library but they shouldn be able to run the item pre ndition user already have an app type item in their library steps login to ap as super user find the specific user go to entitlement section on user overview disable the specific item from user entitlement list open pp and launcher check the user my games list and user library actual result item is missing from the list expected result item should be visible on the list \n",
      "199  stg pp unable to purchase item with error exceed item max unt of per user step to reproduce _on admin portal _ create item g game on draft store publish store view item detail page from draft store view item detail page from published store _on player portal _ login go to store select game that added on previous step on admin portal click _ buy now _ click pay now if purchase using virtual currency or _ continue to payment _ if purchase using real currency actual result user unable to purchase item with errormessage exceed item max unt of per user when admin view item detail page on published store limit purchase ac unt field still appeared but when admin view item detail on draft store the field is not appeared expected result user ableto purchase item with errormessage exceed item max unt of per user when admin view item detail page on published store and draft store limit purchase ac unt field still is not appeared \n"
     ]
    }
   ],
   "source": [
    "for i in range(0, len(result)):\n",
    "    print(i, result[i])"
   ]
  },
  {
   "cell_type": "markdown",
   "metadata": {},
   "source": [
    "# Stemming"
   ]
  },
  {
   "cell_type": "code",
   "execution_count": 16,
   "metadata": {},
   "outputs": [],
   "source": [
    "from Sastrawi.Stemmer.StemmerFactory import StemmerFactory\n",
    "\n",
    "factory = StemmerFactory()\n",
    "stemmer = factory.create_stemmer()"
   ]
  },
  {
   "cell_type": "code",
   "execution_count": 17,
   "metadata": {},
   "outputs": [],
   "source": [
    "steam = []\n",
    "for w in result_final:\n",
    "    word = stemmer.stem(w)\n",
    "    steam.append(word)"
   ]
  },
  {
   "cell_type": "code",
   "execution_count": 19,
   "metadata": {},
   "outputs": [
    {
     "ename": "AttributeError",
     "evalue": "'list' object has no attribute 'apply'",
     "output_type": "error",
     "traceback": [
      "\u001b[1;31m---------------------------------------------------------------------------\u001b[0m",
      "\u001b[1;31mAttributeError\u001b[0m                            Traceback (most recent call last)",
      "\u001b[1;32m<ipython-input-19-0fb1bb57bbb0>\u001b[0m in \u001b[0;36m<module>\u001b[1;34m\u001b[0m\n\u001b[0;32m      3\u001b[0m \u001b[1;32mfrom\u001b[0m \u001b[0mnltk\u001b[0m\u001b[1;33m.\u001b[0m\u001b[0mstem\u001b[0m \u001b[1;32mimport\u001b[0m \u001b[0mWordNetLemmatizer\u001b[0m\u001b[1;33m\u001b[0m\u001b[1;33m\u001b[0m\u001b[0m\n\u001b[0;32m      4\u001b[0m \u001b[0mwordnet\u001b[0m \u001b[1;33m=\u001b[0m \u001b[0mWordNetLemmatizer\u001b[0m\u001b[1;33m(\u001b[0m\u001b[1;33m)\u001b[0m\u001b[1;33m\u001b[0m\u001b[1;33m\u001b[0m\u001b[0m\n\u001b[1;32m----> 5\u001b[1;33m \u001b[0mresult_final\u001b[0m \u001b[1;33m=\u001b[0m \u001b[0mresult\u001b[0m\u001b[1;33m.\u001b[0m\u001b[0mapply\u001b[0m\u001b[1;33m(\u001b[0m\u001b[1;32mlambda\u001b[0m \u001b[0mx\u001b[0m\u001b[1;33m:\u001b[0m\u001b[1;33m[\u001b[0m\u001b[0mwordnet\u001b[0m\u001b[1;33m.\u001b[0m\u001b[0mlemmatize\u001b[0m\u001b[1;33m(\u001b[0m\u001b[0mi\u001b[0m\u001b[1;33m,\u001b[0m\u001b[0mpos\u001b[0m\u001b[1;33m=\u001b[0m\u001b[1;34m'v'\u001b[0m\u001b[1;33m)\u001b[0m \u001b[1;32mfor\u001b[0m \u001b[0mi\u001b[0m \u001b[1;32min\u001b[0m \u001b[0mx\u001b[0m\u001b[1;33m]\u001b[0m\u001b[1;33m)\u001b[0m\u001b[1;33m\u001b[0m\u001b[1;33m\u001b[0m\u001b[0m\n\u001b[0m",
      "\u001b[1;31mAttributeError\u001b[0m: 'list' object has no attribute 'apply'"
     ]
    }
   ],
   "source": [
    "# for i in range(0, len(steam)):\n",
    "#     print(i, steam[i])\n",
    "from nltk.stem import WordNetLemmatizer\n",
    "wordnet = WordNetLemmatizer()\n",
    "result_final = result.apply(lambda x:[wordnet.lemmatize(i,pos='v') for i in x])"
   ]
  },
  {
   "cell_type": "markdown",
   "metadata": {},
   "source": [
    "# Stopword"
   ]
  },
  {
   "cell_type": "code",
   "execution_count": 19,
   "metadata": {},
   "outputs": [],
   "source": [
    "#proses stopword\n",
    "data = open('stopword_indo.txt', 'r')\n",
    "text_stop = data.read()\n",
    "stopword = text_stop.split()\n",
    "\n",
    "stop_extends = ['cc', 't', 'cbrdz', 'ap', 'nga', 'ya', 'lha', 'mena', 'htt', 'rzp', 'an', 'tm',\n",
    "               'axocyagfq', 'cluwz', 'opma', 'u', 'kxcyd', 'zpro', 'fqiupnjc', 'yekan', 'men',\n",
    "               'ba', 'puan', 'oala', 'mf', 'iwoocucico', 'gm', 'vmhqhrc', 'bighit', 'xd', 'js',\n",
    "               'je', 'tqwglygzp', 'ch', 'vcgnvv', 'br', 'vilive', 'fanart', 'fancafe', 'me',\n",
    "               'k', 'yk', 'row', 'bxb', 'spmjombgxj', 'f', 'cv', 'nwfi', 'wag', 'stm', 'lxac', \n",
    "               'dffat', 'sp', 'fbmxgyos', 'rdwn', 'riaz', 'tns', 'sqsfc', 'moknrteiz', 'suk',\n",
    "               'swixsvm', 'ah', 'fuja', 'wvwc', 'ptl', 'ngtpcoopdd', 'woiiiy', 'wooiii',\n",
    "               'wqbccyhbh', 'lozhixiv', 'jinjja', 'bwakakakakakak', 'wkwk', 'kiquf', 'dufs',\n",
    "               'sanak', 'hehehe', 'aiqguim', 'ww', 'lohh', 'an', 'eh', 'ppg', 'wwwapk',\n",
    "               'wlsbbfjzhw', 'sg', 'rqsv', 'ggd', 'w', 'obe', 'sim', 'a', 'hfe', 'ylr', 'gz',\n",
    "               'wfa', 'sfs', 'sn', 'fcrlb', 'hmwxqlen', 'epjlap', 'dto', 'jhsrarisif', 'bzvouzyfvv',\n",
    "               'hhlldg', 'uov', 'laah', 'bebaskanlutfhi', 'bebaskanluthfi', 'dll', 'sih', 'nih',\n",
    "               'nya']\n",
    "\n",
    "for i in stop_extends:\n",
    "    stopword.append(i)\n",
    "\n",
    "#delete important word from stopword\n",
    "stop_remove = [\"jangan\", \"tidak\", 'bisa', 'jawab', 'bukan']\n",
    "\n",
    "for i in stop_remove:\n",
    "    stopword.remove(i)"
   ]
  },
  {
   "cell_type": "code",
   "execution_count": 20,
   "metadata": {},
   "outputs": [],
   "source": [
    "word_tokens = [word_tokenize(i) for i in steam]"
   ]
  },
  {
   "cell_type": "code",
   "execution_count": 21,
   "metadata": {},
   "outputs": [],
   "source": [
    "filter = []\n",
    "for i in range(0, len(word_tokens)):\n",
    "    new_words = [word for word in word_tokens[i] if word not in stopword]\n",
    "    filter.append(new_words)"
   ]
  },
  {
   "cell_type": "code",
   "execution_count": 22,
   "metadata": {},
   "outputs": [
    {
     "name": "stdout",
     "output_type": "stream",
     "text": [
      "0 ['oknum', 'polisi', 'brutal', 'kabar', 'oknum', 'aparat', 'sebar', 'hoax', 'kabar']\n",
      "1 ['hoax', 'ala', 'kampret', 'ketua', 'kpk', 'agus', 'raharjo', 'tube', 'tidak', 'bukti', 'duga']\n",
      "2 ['lho', 'aktivis', 'tuju', 'hoax']\n",
      "3 ['hoax']\n",
      "4 ['hoax', 'bener', 'ngetik']\n",
      "5 ['hahaha', 'hoax', 'lagu', 'nyanyi']\n",
      "6 ['fpi', 'kerja', 'bikin', 'onar', 'provokasi', 'fitnah', 'hoax', 'melulu', 'ketua', 'takut', 'pulang', 'fpi', 'expired']\n",
      "7 ['kasat', 'reskrimnya', 'bilang', 'hoax', 'kapolresnya', 'maaf', 'kapolres', 'binjai']\n",
      "8 ['arti', 'hoax', 'dm', 'dm', 'sebar']\n",
      "9 ['arang', 'bagus', 'mah', 'hoax', 'tangkap', 'cemar', 'nama']\n",
      "10 ['orang', 'bikin', 'hoax', 'islam', 'pas', 'maaf', 'pakai', 'kopiah', 'biar', 'anggap']\n",
      "11 ['alas', 'enak', 'banget', 'aparat', 'bikin', 'hoax', 'dasar', 'bodoh']\n",
      "12 ['perhati', 'jangan', 'makan', 'hoax', 'hembus', 'tidak', 'negosiasi']\n",
      "13 ['metro', 'tipu', 'pantes', 'temen', 'kesal', 'lihat', 'metro', 'nyata', 'alas', 'bikin', 'fitnah', 'hoax']\n",
      "14 ['maaf', 'selesai', 'sebar', 'hoax', 'adil', 'banget', 'negeri', 'indonesia']\n",
      "15 ['lapor', 'polisi', 'hoax']\n",
      "16 ['hoax', 'banget']\n",
      "17 ['henti', 'hoax', 'henti', 'fitnah', 'mohon', 'tidak', 'bicara', 'dasar', 'henti', 'fitnah']\n",
      "18 ['jangan', 'percaya', 'hoax', 'jangan', 'hoax', 'hubung', 'rekan', 'serum', 'malaysia', 'indonesia', 'pecah', 'belah']\n",
      "19 ['kabar', 'tim', 'sambar', 'hoax']\n",
      "20 ['nyata', 'fakta', 'buah', 'hoax', 'jangan']\n",
      "21 ['tuan', 'menteri', 'sebar', 'propaganda', 'ambil', 'hati', 'publik', 'malaysia']\n",
      "22 ['hoax', 'aja']\n",
      "23 ['malih', 'tidak', 'sebar', 'berita', 'hoax', 'bayi', 'tular', 'hiv', 'aids']\n",
      "24 ['jangan', 'sebar', 'hoax', 'botak']\n",
      "25 ['hoax', 'mbah', 'uti']\n",
      "26 ['daftar', 'babi', 'babi', 'haram', 'babi', 'rakus', 'apbn', 'apbd', 'babi', 'rakus', 'bumn', 'bumd', 'babi', 'koruptor', 'babi', 'rakus', 'fitnah', 'babi', 'rakus']\n",
      "27 ['hoax', 'tingkat', 'dewa']\n",
      "28 ['cekal', 'nyata', 'hoax', 'izin', 'hoax', 'tidak', 'jokowi', 'takut', 'fpi']\n",
      "29 ['hoax']\n",
      "30 ['hukum', 'terap', 'hoax', 'ambulans', 'ade', 'armando', 'denny', 'siregar', 'diam', 'koruptor']\n",
      "31 ['benernya', 'bela', 'geng', 'hoax', 'anggar', 'udah', 'maaf']\n",
      "32 ['sebar', 'hoax', 'bandung']\n",
      "33 ['larang', 'oot', 'larang', 'pancing', 'ribut', 'larang', 'sebar', 'hoax', 'larang', 'kirim', 'konten', 'nsfw']\n",
      "34 ['akun', 'tidak', 'mati', 'tidak', 'hoax', 'akun']\n",
      "35 ['jangan', 'sebar', 'konten', 'nsfw', 'jangan', 'hoax', 'bahas', 'oot', 'bahas', 'artis', 'missgendering']\n",
      "36 ['no', 'sara', 'politik', 'no', 'oot', 'pancing', 'ribut', 'missgendering', 'larang', 'sebar', 'hoax']\n",
      "37 ['jangan', 'sara', 'politik', 'missgendering', 'konten', 'oot', 'rumor', 'hoax']\n",
      "38 ['larang', 'oot', 'no', 'sara', 'politik', 'larang', 'pancing', 'ribut', 'larang', 'kirim', 'konten', 'hoax', 'larang']\n",
      "39 ['tidak', 'oot', 'sebar', 'hoax', 'sara', 'konten', 'konten']\n",
      "40 ['larang', 'oot', 'larang', 'picu', 'ribut', 'larang', 'kirim', 'konten', 'nsfw', 'larang', 'sara', 'politik']\n",
      "41 ['mimin', 'diam', 'murtadha', 'tangkap', 'hoax', 'chat']\n",
      "42 ['akun', 'sebar', 'hoax', 'eks', 'diam', 'tindak']\n",
      "43 ['prihatin', 'muslim', 'tidak', 'picu', 'ghirah', 'agama', 'postingan', 'hoax', 'sara', 'ejek', 'islam']\n",
      "44 ['pancasila', 'rumus', 'hoax', 'sukarno', 'hasil', 'orang', 'sukarno', 'rusak', 'pancasila', 'nasakom']\n",
      "45 ['aje', 'bangke', 'koar', 'hoax', 'temlen', 'mending', 'baca']\n",
      "46 ['boomer', 'konsumsi', 'hoax']\n",
      "47 ['bunuh', 'jangan', 'hoax', 'sebentar', 'tular', 'si', 'habib', 'hobi', 'hoax']\n",
      "48 ['status', 'harimau', 'hindar', 'hate', 'speech', 'hoax', 'media']\n",
      "49 ['tidak', 'bisa', 'ritwit', 'hoax']\n",
      "50 ['sifat', 'kadrun', 'serombolan', 'telinga', 'kadal', 'setip', 'nalar', 'kadal', 'lapor', 'bayi']\n",
      "51 ['halah', 'kontol', 'hoax']\n",
      "52 ['hoax', 'umroh']\n",
      "53 ['kayak', 'tidak', 'hoax', 'iman']\n",
      "54 ['hoax', 'tidak', 'bukti']\n",
      "55 ['broadcast', 'rektor', 'hoax']\n",
      "56 ['stop', 'hoax', 'lihat', 'mata', 'dengar', 'telinga', 'terkadang', 'bukan', 'stop', 'sebar', 'berita']\n",
      "57 ['hoax', 'bukti', 'ny', 'tidak', 'balas']\n",
      "58 ['sosmed', 'jahat', 'sosmed', 'tebar', 'hoax', 'fitnah', 'sebar', 'benci', 'tnssqsfc']\n",
      "59 ['pilih', 'cerdas', 'gali', 'informasi', 'berita', 'tidak']\n",
      "60 ['moga', 'allah', 'lindung', 'goda', 'ulama', 'ulama', 'su', 'sebar', 'hoax', 'hasut', 'benci', 'fitnah', 'kutuk']\n",
      "61 ['negeri', 'orang', 'suka', 'bohong', 'suka', 'sandiwara', 'suka', 'drama', 'suka', 'ribut', 'suka', 'onar']\n",
      "62 ['contoh', 'jangan', 'polemik', 'hoax', 'haram']\n",
      "63 ['hoax', 'tamu', 'hormat', 'raja', 'salman', 'kontrak', 'rumah', 'pulang', 'pakai', 'elang']\n",
      "64 ['bakat', 'kadrun', 'bani', 'togel', 'hti', 'jongos', 'rizieq']\n",
      "65 ['hoax', 'banget', 'bocah', 'edit', 'amatir', 'bro']\n",
      "66 ['hoax']\n",
      "67 ['anjing', 'hoax']\n",
      "68 ['hoax', 'percaya']\n",
      "69 ['hoax', 'banget']\n",
      "70 ['pandai', 'tebar', 'hoax']\n",
      "71 ['bukan', 'hoax', 'om']\n",
      "72 ['mending', 'tapir', 'salah', 'asli', 'hoax', 'berani', 'kecut', 'salam']\n",
      "73 ['khilaf', 'habis', 'makan', 'tinggal', 'pergi', 'no', 'gambar', 'hoax']\n",
      "74 ['rezim', 'fokus', 'kerja', 'tidak', 'sibuk', 'gaduh', 'hoax', 'radikal', 'radikul', 'joget', 'tiktokan', 'ekonomi', 'negeri']\n",
      "75 ['no', 'hoax']\n",
      "76 ['medsos', 'cerdas', 'bisa', 'beda', 'berita', 'hoax']\n",
      "77 ['cinta', 'hoax']\n",
      "78 ['jangan', 'gampang', 'hoax', 'telan']\n",
      "79 ['no', 'bukti', 'hoax']\n",
      "80 ['hoax', 'ngomongnya', 'kasar']\n",
      "81 ['nyebar', 'hoax', 'sebenernya']\n",
      "82 ['masuk', 'rizieq', 'shihab', 'zombie', 'peliharaanya']\n",
      "83 ['halu', 'deh', 'cipta', 'hoax']\n",
      "84 ['iya', 'admin', 'sebar', 'hoax']\n",
      "85 ['hoax', 'rumah', 'tapak', 'dp', 'hoax', 'oke', 'ngoceh', 'dimodalin', 'bilang']\n",
      "86 ['hoax']\n",
      "87 ['tidak', 'bukti', 'hoax']\n",
      "88 ['hoax', 'parah']\n",
      "89 ['hoax', 'rumah', 'dp', 'okeh', 'ngoceh', 'anti', 'banjir', 'tidak', 'gusur']\n",
      "90 ['hoax', 'lihat', 'besok', 'arab']\n",
      "91 ['sexy', 'kilers', 'kritik', 'anak', 'jokowi', 'gibran', 'rakabumi', 'usaha', 'batu', 'bara', 'milik']\n",
      "92 ['hoax', 'hoax', 'mari', 'bijak', 'media', 'sosial']\n",
      "93 ['bijak', 'media', 'sosial', 'jangan', 'mudah', 'provokasi', 'berita', 'hoax', 'medsos', 'tolak', 'hoax', 'provokasi']\n",
      "94 ['hoax', 'bukti', 'bukti', 'kabur', 'tidak', 'cekal']\n",
      "95 ['nyapres', 'edar', 'isu', 'kubu', 'jokowi', 'cina', 'bukti', 'nyata', 'bukan']\n",
      "96 ['tidak', 'hoax', 'tidak', 'makan']\n",
      "97 ['rizieq', 'pergi', 'rizieq', 'bilang', 'umroh', 'songong', 'bilang', 'tamu', 'hormat']\n",
      "98 ['hoax', 'isi', 'berita', 'sri', 'mulyani', 'tidak', 'bisa', 'jawab']\n",
      "99 ['hoax', 'mah']\n",
      "100 ['twit', 'nyata', 'hoax', 'tidak', 'link', 'tolong', 'kirim', 'link', 'deskripsi']\n",
      "101 ['jangan', 'twitter', 'ladang', 'hoax']\n",
      "102 ['bukan', 'generalisasi', 'mesti', 'orang', 'benci', 'otak', 'tidak', 'kerja', 'optimal']\n",
      "103 ['hubung', 'politik', 'indonesia', 'pilih', 'presiden', 'kemarin', 'tidak', 'berita', 'hoax', 'edar']\n"
     ]
    }
   ],
   "source": [
    "for i in range(0, len(filter)):\n",
    "    print(i, filter[i])"
   ]
  },
  {
   "cell_type": "markdown",
   "metadata": {},
   "source": [
    "# Labeling sentiment"
   ]
  },
  {
   "cell_type": "code",
   "execution_count": 23,
   "metadata": {},
   "outputs": [],
   "source": [
    "#list sentiment\n",
    "labels = ['negatif', 'negatif', 'negatif', 'negatif', 'negatif', 'negatif', 'negatif', 'positif', 'negatif', 'negatif', 'negatif',\n",
    "        'negatif', 'positif', 'negatif', 'negatif', 'positif', 'positif', 'positif', 'positif', 'negatif', 'positif',\n",
    "        'negatif', 'positif', 'positif', 'negatif', 'positif', 'negatif', 'positif', 'negatif', 'positif', 'negatif',\n",
    "        'negatif', 'positif', 'positif', 'negatif', 'positif', 'positif', 'positif', 'positif', 'positif', 'positif',\n",
    "        'negatif', 'positif', 'positif', 'negatif', 'negatif', 'negatif', 'negatif', 'positif', 'negatif', 'negatif',\n",
    "        'negatif', 'negatif', 'negatif', 'positif', 'negatif', 'positif', 'positif', 'negatif', 'positif', 'positif',\n",
    "        'negatif', 'negatif', 'negatif', 'negatif', 'negatif', 'positif', 'negatif', 'negatif', 'positif', 'negatif',\n",
    "        'positif', 'negatif', 'positif', 'negatif', 'positif', 'positif', 'negatif', 'positif', 'positif', 'negatif',\n",
    "        'negatif', 'negatif', 'negatif', 'negatif', 'negatif', 'positif', 'positif', 'positif', 'negatif', 'negatif',\n",
    "        'negatif', 'positif', 'positif', 'negatif', 'negatif', 'negatif', 'negatif', 'negatif', 'positif', 'positif',\n",
    "        'positif', 'negatif', 'negatif']"
   ]
  },
  {
   "cell_type": "code",
   "execution_count": 24,
   "metadata": {},
   "outputs": [
    {
     "data": {
      "text/plain": [
       "104"
      ]
     },
     "execution_count": 24,
     "metadata": {},
     "output_type": "execute_result"
    }
   ],
   "source": [
    "len(labels)"
   ]
  },
  {
   "cell_type": "code",
   "execution_count": 25,
   "metadata": {},
   "outputs": [
    {
     "data": {
      "text/plain": [
       "Counter({'negatif': 60, 'positif': 44})"
      ]
     },
     "execution_count": 25,
     "metadata": {},
     "output_type": "execute_result"
    }
   ],
   "source": [
    "from collections import Counter\n",
    "\n",
    "Counter(labels)"
   ]
  },
  {
   "cell_type": "code",
   "execution_count": 26,
   "metadata": {},
   "outputs": [],
   "source": [
    "import seaborn as sns\n",
    "import matplotlib.pyplot as plt"
   ]
  },
  {
   "cell_type": "code",
   "execution_count": 27,
   "metadata": {},
   "outputs": [
    {
     "data": {
      "image/png": "[encoded data removed]",
      "text/plain": [
       "<Figure size 432x288 with 1 Axes>"
      ]
     },
     "metadata": {
      "needs_background": "light"
     },
     "output_type": "display_data"
    }
   ],
   "source": [
    "plt.hist(labels, bins=4)\n",
    "plt.show()"
   ]
  },
  {
   "cell_type": "code",
   "execution_count": 28,
   "metadata": {},
   "outputs": [
    {
     "name": "stdout",
     "output_type": "stream",
     "text": [
      "['negatif', 'positif']\n"
     ]
    }
   ],
   "source": [
    "from sklearn import preprocessing\n",
    "le = preprocessing.LabelEncoder()\n",
    "le.fit(list(set(labels)))\n",
    "print(list(le.classes_))\n",
    "num_labels = le.transform(labels) "
   ]
  },
  {
   "cell_type": "markdown",
   "metadata": {},
   "source": [
    "# Bag of Words"
   ]
  },
  {
   "cell_type": "code",
   "execution_count": 29,
   "metadata": {},
   "outputs": [],
   "source": [
    "from sklearn.feature_extraction.text import CountVectorizer"
   ]
  },
  {
   "cell_type": "code",
   "execution_count": 30,
   "metadata": {},
   "outputs": [
    {
     "name": "stdout",
     "output_type": "stream",
     "text": [
      "Jumlah stop words: 866\n"
     ]
    }
   ],
   "source": [
    "stopword_new = set([w for w in stopword])\n",
    "print (\"Jumlah stop words:\", len(stopword))"
   ]
  },
  {
   "cell_type": "code",
   "execution_count": 31,
   "metadata": {},
   "outputs": [
    {
     "name": "stderr",
     "output_type": "stream",
     "text": [
      "C:\\Users\\Reza Pahlevi Sofyan\\Anaconda3\\lib\\site-packages\\sklearn\\feature_extraction\\text.py:300: UserWarning: Your stop_words may be inconsistent with your preprocessing. Tokenizing the stop words generated tokens ['baiknya', 'berkali', 'kali', 'kurangnya', 'mata', 'olah', 'sekurang', 'setidak', 'tama', 'tidaknya'] not in stop_words.\n",
      "  'stop_words.' % sorted(inconsistent))\n"
     ]
    }
   ],
   "source": [
    "count_vect = CountVectorizer(ngram_range=(1,1), stop_words=stopword)\n",
    "tweet_result = count_vect.fit_transform(steam)"
   ]
  },
  {
   "cell_type": "code",
   "execution_count": 32,
   "metadata": {},
   "outputs": [
    {
     "name": "stdout",
     "output_type": "stream",
     "text": [
      "(78, 344)\n"
     ]
    }
   ],
   "source": [
    "from sklearn.model_selection import train_test_split\n",
    "X_train, X_test, y_train, y_test = train_test_split(tweet_result, num_labels, test_size=0.25, random_state=16)\n",
    "print(X_train.shape)"
   ]
  },
  {
   "cell_type": "code",
   "execution_count": 33,
   "metadata": {},
   "outputs": [],
   "source": [
    "from sklearn.naive_bayes import MultinomialNB\n",
    "from sklearn.metrics import accuracy_score\n",
    "from sklearn.metrics import precision_score\n",
    "from sklearn.metrics import recall_score\n",
    "from sklearn.metrics import f1_score\n",
    "from sklearn.metrics import confusion_matrix\n",
    "\n",
    "clf1 = MultinomialNB().fit(X_train, y_train)\n",
    "Predict = clf1.predict(X_test)"
   ]
  },
  {
   "cell_type": "code",
   "execution_count": 34,
   "metadata": {},
   "outputs": [
    {
     "name": "stdout",
     "output_type": "stream",
     "text": [
      "Accuracy pada test data: 0.5769230769230769\n",
      "Precision baseline pada test data: 0.4444444444444444\n",
      "Recall baseline pada test data: 0.4\n",
      "F1 baseline pada test data: 0.4210526315789474\n",
      "TPR baseline: 0.4 dan FRP baseline: 0.3125\n"
     ]
    }
   ],
   "source": [
    "print (\"Accuracy pada test data:\", accuracy_score(Predict, y_test))\n",
    "print (\"Precision baseline pada test data:\", precision_score(Predict, y_test))\n",
    "print (\"Recall baseline pada test data:\", recall_score(Predict, y_test))\n",
    "print (\"F1 baseline pada test data:\", f1_score(Predict, y_test))\n",
    "tn_dev, fp_dev, fn_dev, tp_dev = confusion_matrix(Predict, y_test).ravel()\n",
    "TPR_dev = tp_dev/(tp_dev+fn_dev)\n",
    "FPR_dev = fp_dev/(fp_dev+tn_dev)\n",
    "print(\"TPR baseline:\", TPR_dev, \"dan FRP baseline:\", FPR_dev)"
   ]
  },
  {
   "cell_type": "markdown",
   "metadata": {},
   "source": [
    "# TF_IDF"
   ]
  },
  {
   "cell_type": "code",
   "execution_count": 35,
   "metadata": {},
   "outputs": [],
   "source": [
    "from sklearn.feature_extraction.text import TfidfVectorizer "
   ]
  },
  {
   "cell_type": "code",
   "execution_count": 36,
   "metadata": {},
   "outputs": [
    {
     "name": "stderr",
     "output_type": "stream",
     "text": [
      "C:\\Users\\Reza Pahlevi Sofyan\\Anaconda3\\lib\\site-packages\\sklearn\\feature_extraction\\text.py:300: UserWarning: Your stop_words may be inconsistent with your preprocessing. Tokenizing the stop words generated tokens ['baiknya', 'berkali', 'kali', 'kurangnya', 'mata', 'olah', 'sekurang', 'setidak', 'tama', 'tidaknya'] not in stop_words.\n",
      "  'stop_words.' % sorted(inconsistent))\n"
     ]
    }
   ],
   "source": [
    "tfidf_vectorizer=TfidfVectorizer(ngram_range=(1,1), stop_words=stopword_new)\n",
    " \n",
    "tfidf_result=tfidf_vectorizer.fit_transform(steam)"
   ]
  },
  {
   "cell_type": "code",
   "execution_count": 37,
   "metadata": {},
   "outputs": [
    {
     "name": "stdout",
     "output_type": "stream",
     "text": [
      "(78, 344)\n"
     ]
    }
   ],
   "source": [
    "x_train, x_test, Y_train, Y_test = train_test_split(tfidf_result, num_labels, test_size=0.25, random_state=28)\n",
    "print(x_train.shape)"
   ]
  },
  {
   "cell_type": "code",
   "execution_count": 38,
   "metadata": {},
   "outputs": [],
   "source": [
    "#Naive Bayes\n",
    "clf1 = MultinomialNB().fit(x_train, Y_train)\n",
    "Predict1 = clf1.predict(x_test)"
   ]
  },
  {
   "cell_type": "code",
   "execution_count": 39,
   "metadata": {},
   "outputs": [
    {
     "name": "stdout",
     "output_type": "stream",
     "text": [
      "Accuracy pada test data: 0.7307692307692307\n",
      "Precision baseline pada test data: 0.46153846153846156\n",
      "Recall baseline pada test data: 1.0\n",
      "F1 baseline pada test data: 0.631578947368421\n",
      "TPR baseline: 1.0 dan FRP baseline: 0.35\n"
     ]
    }
   ],
   "source": [
    "print (\"Accuracy pada test data:\", accuracy_score(Predict1, Y_test))\n",
    "print (\"Precision baseline pada test data:\", precision_score(Predict1, Y_test))\n",
    "print (\"Recall baseline pada test data:\", recall_score(Predict1, Y_test))\n",
    "print (\"F1 baseline pada test data:\", f1_score(Predict1, Y_test))\n",
    "tn_dev, fp_dev, fn_dev, tp_dev = confusion_matrix(Predict1, Y_test).ravel()\n",
    "TPR_dev = tp_dev/(tp_dev+fn_dev)\n",
    "FPR_dev = fp_dev/(fp_dev+tn_dev)\n",
    "print(\"TPR baseline:\", TPR_dev, \"dan FRP baseline:\", FPR_dev)"
   ]
  },
  {
   "cell_type": "code",
   "execution_count": null,
   "metadata": {},
   "outputs": [],
   "source": []
  }
 ],
 "metadata": {
  "kernelspec": {
   "display_name": "Python 3",
   "language": "python",
   "name": "python3"
  },
  "language_info": {
   "codemirror_mode": {
    "name": "ipython",
    "version": 3
   },
   "file_extension": ".py",
   "mimetype": "text/x-python",
   "name": "python",
   "nbconvert_exporter": "python",
   "pygments_lexer": "ipython3",
   "version": "3.8.5"
  }
 },
 "nbformat": 4,
 "nbformat_minor": 4
}
