{
 "cells": [
  {
   "cell_type": "code",
   "execution_count": 1,
   "metadata": {
    "_cell_guid": "b1076dfc-b9ad-4769-8c92-a6c4dae69d19",
    "_uuid": "8f2839f25d086af736a60e9eeb907d3b93b6e0e5"
   },
   "outputs": [
    {
     "name": "stdout",
     "output_type": "stream",
     "text": [
      "['.ipynb_checkpoints', '951967.zip', 'Bug report 10.csv', 'Bug report 100.csv', 'Bug report.csv', 'JIRA-ALL.csv', 'JIRA-BUG.csv', 'JIRA.csv', 'preprocessed_data.csv']\n"
     ]
    }
   ],
   "source": [
    "#Importing all the neccesary libraries\n",
    "import numpy as np \n",
    "import pandas as pd \n",
    "import csv\n",
    "\n",
    "import os\n",
    "print(os.listdir(\"input\"))\n",
    "\n",
    "import regex as re\n",
    "import string\n",
    "from nltk.corpus import stopwords\n",
    "from nltk.tokenize import word_tokenize\n",
    "from nltk.stem import WordNetLemmatizer\n",
    "from nltk.stem import SnowballStemmer\n",
    "\n",
    "\n",
    "# viz\n",
    "import matplotlib.pyplot as plt\n",
    "%matplotlib inline\n",
    "import sys\n",
    "\n",
    "# for clustering\n",
    "from scipy.cluster.hierarchy import ward, dendrogram, fcluster, single, complete, average, weighted\n",
    "from sklearn.metrics.pairwise import cosine_similarity\n",
    "from scipy.spatial.distance import squareform\n",
    "from sklearn.metrics import silhouette_score"
   ]
  },
  {
   "cell_type": "code",
   "execution_count": 2,
   "metadata": {
    "_cell_guid": "79c7e3d0-c299-4dcb-8224-4455121ee9b0",
    "_uuid": "d629ff2d2480ee46fbb7e2d37f6b5fab8052498a"
   },
   "outputs": [
    {
     "data": {
      "text/html": [
       "<div>\n",
       "<style scoped>\n",
       "    .dataframe tbody tr th:only-of-type {\n",
       "        vertical-align: middle;\n",
       "    }\n",
       "\n",
       "    .dataframe tbody tr th {\n",
       "        vertical-align: top;\n",
       "    }\n",
       "\n",
       "    .dataframe thead th {\n",
       "        text-align: right;\n",
       "    }\n",
       "</style>\n",
       "<table border=\"1\" class=\"dataframe\">\n",
       "  <thead>\n",
       "    <tr style=\"text-align: right;\">\n",
       "      <th></th>\n",
       "      <th>index</th>\n",
       "      <th>Summary</th>\n",
       "      <th>Bug Location</th>\n",
       "      <th>Issue key</th>\n",
       "      <th>Issue id</th>\n",
       "      <th>Issue Type</th>\n",
       "      <th>Status</th>\n",
       "      <th>Project key</th>\n",
       "      <th>Project name</th>\n",
       "      <th>Project type</th>\n",
       "      <th>...</th>\n",
       "      <th>Comment.64</th>\n",
       "      <th>Comment.65</th>\n",
       "      <th>Comment.66</th>\n",
       "      <th>Comment.67</th>\n",
       "      <th>Comment.68</th>\n",
       "      <th>Comment.69</th>\n",
       "      <th>Comment.70</th>\n",
       "      <th>Parent</th>\n",
       "      <th>Parent summary</th>\n",
       "      <th>Status Category</th>\n",
       "    </tr>\n",
       "  </thead>\n",
       "  <tbody>\n",
       "    <tr>\n",
       "      <th>0</th>\n",
       "      <td>0</td>\n",
       "      <td>[Dev][Demo][Admin Portal][Edit Bundle items]: ...</td>\n",
       "      <td>Admin Portal</td>\n",
       "      <td>CORE-4396</td>\n",
       "      <td>57063</td>\n",
       "      <td>Bug</td>\n",
       "      <td>To Do</td>\n",
       "      <td>CORE</td>\n",
       "      <td>Justice - Core Team</td>\n",
       "      <td>software</td>\n",
       "      <td>...</td>\n",
       "      <td>NaN</td>\n",
       "      <td>NaN</td>\n",
       "      <td>NaN</td>\n",
       "      <td>NaN</td>\n",
       "      <td>NaN</td>\n",
       "      <td>NaN</td>\n",
       "      <td>NaN</td>\n",
       "      <td>NaN</td>\n",
       "      <td>NaN</td>\n",
       "      <td>To Do</td>\n",
       "    </tr>\n",
       "    <tr>\n",
       "      <th>1</th>\n",
       "      <td>1</td>\n",
       "      <td>[Dev][Admin Portal][Create New][Create From ex...</td>\n",
       "      <td>Admin Portal</td>\n",
       "      <td>CORE-4385</td>\n",
       "      <td>57039</td>\n",
       "      <td>Bug</td>\n",
       "      <td>In Progress</td>\n",
       "      <td>CORE</td>\n",
       "      <td>Justice - Core Team</td>\n",
       "      <td>software</td>\n",
       "      <td>...</td>\n",
       "      <td>NaN</td>\n",
       "      <td>NaN</td>\n",
       "      <td>NaN</td>\n",
       "      <td>NaN</td>\n",
       "      <td>NaN</td>\n",
       "      <td>NaN</td>\n",
       "      <td>NaN</td>\n",
       "      <td>NaN</td>\n",
       "      <td>NaN</td>\n",
       "      <td>In Progress</td>\n",
       "    </tr>\n",
       "    <tr>\n",
       "      <th>2</th>\n",
       "      <td>2</td>\n",
       "      <td>Duplicate items while using Search items by ke...</td>\n",
       "      <td>Automation Test</td>\n",
       "      <td>CORE-4377</td>\n",
       "      <td>57007</td>\n",
       "      <td>Bug</td>\n",
       "      <td>To Do</td>\n",
       "      <td>CORE</td>\n",
       "      <td>Justice - Core Team</td>\n",
       "      <td>software</td>\n",
       "      <td>...</td>\n",
       "      <td>NaN</td>\n",
       "      <td>NaN</td>\n",
       "      <td>NaN</td>\n",
       "      <td>NaN</td>\n",
       "      <td>NaN</td>\n",
       "      <td>NaN</td>\n",
       "      <td>NaN</td>\n",
       "      <td>NaN</td>\n",
       "      <td>NaN</td>\n",
       "      <td>To Do</td>\n",
       "    </tr>\n",
       "    <tr>\n",
       "      <th>3</th>\n",
       "      <td>3</td>\n",
       "      <td>[AP] Default language and default region of st...</td>\n",
       "      <td>Admin Portal</td>\n",
       "      <td>CORE-4366</td>\n",
       "      <td>56971</td>\n",
       "      <td>Bug</td>\n",
       "      <td>QA</td>\n",
       "      <td>CORE</td>\n",
       "      <td>Justice - Core Team</td>\n",
       "      <td>software</td>\n",
       "      <td>...</td>\n",
       "      <td>NaN</td>\n",
       "      <td>NaN</td>\n",
       "      <td>NaN</td>\n",
       "      <td>NaN</td>\n",
       "      <td>NaN</td>\n",
       "      <td>NaN</td>\n",
       "      <td>NaN</td>\n",
       "      <td>NaN</td>\n",
       "      <td>NaN</td>\n",
       "      <td>In Progress</td>\n",
       "    </tr>\n",
       "    <tr>\n",
       "      <th>4</th>\n",
       "      <td>4</td>\n",
       "      <td>[Unity][SDK] Single draft store makes subscrip...</td>\n",
       "      <td>SDK</td>\n",
       "      <td>CORE-4365</td>\n",
       "      <td>56960</td>\n",
       "      <td>Bug</td>\n",
       "      <td>To Do</td>\n",
       "      <td>CORE</td>\n",
       "      <td>Justice - Core Team</td>\n",
       "      <td>software</td>\n",
       "      <td>...</td>\n",
       "      <td>NaN</td>\n",
       "      <td>NaN</td>\n",
       "      <td>NaN</td>\n",
       "      <td>NaN</td>\n",
       "      <td>NaN</td>\n",
       "      <td>NaN</td>\n",
       "      <td>NaN</td>\n",
       "      <td>NaN</td>\n",
       "      <td>NaN</td>\n",
       "      <td>To Do</td>\n",
       "    </tr>\n",
       "  </tbody>\n",
       "</table>\n",
       "<p>5 rows × 220 columns</p>\n",
       "</div>"
      ],
      "text/plain": [
       "   index                                            Summary     Bug Location  \\\n",
       "0      0  [Dev][Demo][Admin Portal][Edit Bundle items]: ...     Admin Portal   \n",
       "1      1  [Dev][Admin Portal][Create New][Create From ex...     Admin Portal   \n",
       "2      2  Duplicate items while using Search items by ke...  Automation Test   \n",
       "3      3  [AP] Default language and default region of st...     Admin Portal   \n",
       "4      4  [Unity][SDK] Single draft store makes subscrip...              SDK   \n",
       "\n",
       "   Issue key  Issue id Issue Type       Status Project key  \\\n",
       "0  CORE-4396     57063        Bug        To Do        CORE   \n",
       "1  CORE-4385     57039        Bug  In Progress        CORE   \n",
       "2  CORE-4377     57007        Bug        To Do        CORE   \n",
       "3  CORE-4366     56971        Bug           QA        CORE   \n",
       "4  CORE-4365     56960        Bug        To Do        CORE   \n",
       "\n",
       "          Project name Project type  ... Comment.64 Comment.65  Comment.66  \\\n",
       "0  Justice - Core Team     software  ...        NaN        NaN         NaN   \n",
       "1  Justice - Core Team     software  ...        NaN        NaN         NaN   \n",
       "2  Justice - Core Team     software  ...        NaN        NaN         NaN   \n",
       "3  Justice - Core Team     software  ...        NaN        NaN         NaN   \n",
       "4  Justice - Core Team     software  ...        NaN        NaN         NaN   \n",
       "\n",
       "  Comment.67 Comment.68 Comment.69 Comment.70 Parent Parent summary  \\\n",
       "0        NaN        NaN        NaN        NaN    NaN            NaN   \n",
       "1        NaN        NaN        NaN        NaN    NaN            NaN   \n",
       "2        NaN        NaN        NaN        NaN    NaN            NaN   \n",
       "3        NaN        NaN        NaN        NaN    NaN            NaN   \n",
       "4        NaN        NaN        NaN        NaN    NaN            NaN   \n",
       "\n",
       "  Status Category  \n",
       "0           To Do  \n",
       "1     In Progress  \n",
       "2           To Do  \n",
       "3     In Progress  \n",
       "4           To Do  \n",
       "\n",
       "[5 rows x 220 columns]"
      ]
     },
     "execution_count": 2,
     "metadata": {},
     "output_type": "execute_result"
    }
   ],
   "source": [
    "data=pd.read_csv('Input/JIRA-BUG.csv')\n",
    "data = data.reset_index()\n",
    "data.head()"
   ]
  },
  {
   "cell_type": "code",
   "execution_count": 3,
   "metadata": {},
   "outputs": [
    {
     "data": {
      "text/plain": [
       "(651, 220)"
      ]
     },
     "execution_count": 3,
     "metadata": {},
     "output_type": "execute_result"
    }
   ],
   "source": [
    "data.shape"
   ]
  },
  {
   "cell_type": "code",
   "execution_count": 4,
   "metadata": {},
   "outputs": [
    {
     "data": {
      "text/plain": [
       "index                0\n",
       "Summary              0\n",
       "Bug Location         0\n",
       "Issue key            0\n",
       "Issue id             0\n",
       "                  ... \n",
       "Comment.69         650\n",
       "Comment.70         650\n",
       "Parent             516\n",
       "Parent summary     516\n",
       "Status Category      0\n",
       "Length: 220, dtype: int64"
      ]
     },
     "execution_count": 4,
     "metadata": {},
     "output_type": "execute_result"
    }
   ],
   "source": [
    "data.isnull().sum()"
   ]
  },
  {
   "cell_type": "code",
   "execution_count": 5,
   "metadata": {},
   "outputs": [
    {
     "name": "stdout",
     "output_type": "stream",
     "text": [
      "(651, 6)\n"
     ]
    },
    {
     "data": {
      "text/html": [
       "<div>\n",
       "<style scoped>\n",
       "    .dataframe tbody tr th:only-of-type {\n",
       "        vertical-align: middle;\n",
       "    }\n",
       "\n",
       "    .dataframe tbody tr th {\n",
       "        vertical-align: top;\n",
       "    }\n",
       "\n",
       "    .dataframe thead th {\n",
       "        text-align: right;\n",
       "    }\n",
       "</style>\n",
       "<table border=\"1\" class=\"dataframe\">\n",
       "  <thead>\n",
       "    <tr style=\"text-align: right;\">\n",
       "      <th></th>\n",
       "      <th>Summary</th>\n",
       "      <th>Status</th>\n",
       "      <th>Description</th>\n",
       "      <th>Priority</th>\n",
       "      <th>Issue Type</th>\n",
       "      <th>Bug Location</th>\n",
       "    </tr>\n",
       "  </thead>\n",
       "  <tbody>\n",
       "    <tr>\n",
       "      <th>0</th>\n",
       "      <td>[Dev][Demo][Admin Portal][Edit Bundle items]: ...</td>\n",
       "      <td>To Do</td>\n",
       "      <td>This issue occurs on *Add new bundle items.*\\n...</td>\n",
       "      <td>P1</td>\n",
       "      <td>Bug</td>\n",
       "      <td>Admin Portal</td>\n",
       "    </tr>\n",
       "    <tr>\n",
       "      <th>1</th>\n",
       "      <td>[Dev][Admin Portal][Create New][Create From ex...</td>\n",
       "      <td>In Progress</td>\n",
       "      <td>This issue occurs on Create new Role and Creat...</td>\n",
       "      <td>P1</td>\n",
       "      <td>Bug</td>\n",
       "      <td>Admin Portal</td>\n",
       "    </tr>\n",
       "    <tr>\n",
       "      <th>2</th>\n",
       "      <td>Duplicate items while using Search items by ke...</td>\n",
       "      <td>To Do</td>\n",
       "      <td>While making script for cleanup, we found that...</td>\n",
       "      <td>P2</td>\n",
       "      <td>Bug</td>\n",
       "      <td>Automation Test</td>\n",
       "    </tr>\n",
       "    <tr>\n",
       "      <th>3</th>\n",
       "      <td>[AP] Default language and default region of st...</td>\n",
       "      <td>QA</td>\n",
       "      <td>When we open Stores menu and look at the store...</td>\n",
       "      <td>P1</td>\n",
       "      <td>Bug</td>\n",
       "      <td>Admin Portal</td>\n",
       "    </tr>\n",
       "    <tr>\n",
       "      <th>4</th>\n",
       "      <td>[Unity][SDK] Single draft store makes subscrip...</td>\n",
       "      <td>To Do</td>\n",
       "      <td>The restriction of single draft store makes su...</td>\n",
       "      <td>P1</td>\n",
       "      <td>Bug</td>\n",
       "      <td>SDK</td>\n",
       "    </tr>\n",
       "  </tbody>\n",
       "</table>\n",
       "</div>"
      ],
      "text/plain": [
       "                                             Summary       Status  \\\n",
       "0  [Dev][Demo][Admin Portal][Edit Bundle items]: ...        To Do   \n",
       "1  [Dev][Admin Portal][Create New][Create From ex...  In Progress   \n",
       "2  Duplicate items while using Search items by ke...        To Do   \n",
       "3  [AP] Default language and default region of st...           QA   \n",
       "4  [Unity][SDK] Single draft store makes subscrip...        To Do   \n",
       "\n",
       "                                         Description Priority Issue Type  \\\n",
       "0  This issue occurs on *Add new bundle items.*\\n...       P1        Bug   \n",
       "1  This issue occurs on Create new Role and Creat...       P1        Bug   \n",
       "2  While making script for cleanup, we found that...       P2        Bug   \n",
       "3  When we open Stores menu and look at the store...       P1        Bug   \n",
       "4  The restriction of single draft store makes su...       P1        Bug   \n",
       "\n",
       "      Bug Location  \n",
       "0     Admin Portal  \n",
       "1     Admin Portal  \n",
       "2  Automation Test  \n",
       "3     Admin Portal  \n",
       "4              SDK  "
      ]
     },
     "execution_count": 5,
     "metadata": {},
     "output_type": "execute_result"
    }
   ],
   "source": [
    "cols_of_interest=[\"Summary\", \"Status\",\"Description\",\"Priority\", \"Issue Type\", \"Bug Location\"]\n",
    "data=data[cols_of_interest]\n",
    "print(data.shape)\n",
    "data.head()"
   ]
  },
  {
   "cell_type": "code",
   "execution_count": 6,
   "metadata": {},
   "outputs": [
    {
     "data": {
      "text/plain": [
       "Summary          0\n",
       "Status           0\n",
       "Description     59\n",
       "Priority         0\n",
       "Issue Type       0\n",
       "Bug Location     0\n",
       "dtype: int64"
      ]
     },
     "execution_count": 6,
     "metadata": {},
     "output_type": "execute_result"
    }
   ],
   "source": [
    "data.isnull().sum()"
   ]
  },
  {
   "cell_type": "code",
   "execution_count": 7,
   "metadata": {},
   "outputs": [
    {
     "data": {
      "text/plain": [
       "Summary         0\n",
       "Status          0\n",
       "Description     0\n",
       "Priority        0\n",
       "Issue Type      0\n",
       "Bug Location    0\n",
       "dtype: int64"
      ]
     },
     "execution_count": 7,
     "metadata": {},
     "output_type": "execute_result"
    }
   ],
   "source": [
    "data.Description = data.Description.fillna(\"0\")\n",
    "data.isnull().sum()"
   ]
  },
  {
   "cell_type": "code",
   "execution_count": 8,
   "metadata": {},
   "outputs": [
    {
     "data": {
      "image/png": "[encoded data removed]",
      "text/plain": [
       "<Figure size 576x432 with 1 Axes>"
      ]
     },
     "metadata": {
      "needs_background": "light"
     },
     "output_type": "display_data"
    }
   ],
   "source": [
    "fig = plt.figure(figsize=(8,6))\n",
    "data.groupby('Bug Location').Summary.count().plot.bar(ylim=0)\n",
    "plt.show()"
   ]
  },
  {
   "cell_type": "markdown",
   "metadata": {
    "_uuid": "400e2b5f44187c1d32b0d65eb1ca48f0ee18f207"
   },
   "source": [
    "**Text data preprocessing steps**\n",
    "\n",
    "1- Data Cleaning(either using regex or BeautifulSoup): \n",
    "a) Removing HTML characters. \n",
    "b) Removing punctuation. \n",
    "c) Decoding encoded data.\n",
    "d) Split attached words.\n",
    "e) Removing URLs. \n",
    "f) Apostrophe removal.\n",
    "g) Removing Expressions. \n",
    "h) Uppercase & Lowercase letters \n",
    "i) Numbers such as amounts and data.\n",
    "\n",
    "2- Data Tokenization(using word_tokenize in nltk.tokenize) \n",
    "Segregation of text into individual words i.e tokens.\n",
    "\n",
    "3- Stopword Removal(using stopwords in nltk.corpus)\n",
    "Discarding too common words or words which are not going to be helpful in our analysis.\n",
    "\n",
    "4- Stemming(using WordNetLemmatizer in nltk.stem) \n",
    "Combining different variants of words into a single parent word that conveys same meaning."
   ]
  },
  {
   "cell_type": "code",
   "execution_count": 9,
   "metadata": {
    "_uuid": "366cb5190c19f8b61a194e823f5fd31e8504cec8"
   },
   "outputs": [],
   "source": [
    "stops = set(stopwords.words(\"english\"))"
   ]
  },
  {
   "cell_type": "code",
   "execution_count": 10,
   "metadata": {},
   "outputs": [],
   "source": [
    "dataConcat = pd.DataFrame()\n",
    "dataConcat = data.Summary +\" \"+ data.Description+\" \"+data[\"Bug Location\"]+\" \"+data.Status\n",
    "dataConcat.to_csv(\"./Output/data_concat.csv\")"
   ]
  },
  {
   "cell_type": "code",
   "execution_count": 11,
   "metadata": {},
   "outputs": [
    {
     "data": {
      "text/plain": [
       "0      [Dev][Demo][Admin Portal][Edit Bundle items]: ...\n",
       "1      [Dev][Admin Portal][Create New][Create From ex...\n",
       "2      Duplicate items while using Search items by ke...\n",
       "3      [AP] Default language and default region of st...\n",
       "4      [Unity][SDK] Single draft store makes subscrip...\n",
       "                             ...                        \n",
       "646    [STG][Launcher]Launcher didn't start automatic...\n",
       "647    [STG][Launcher]Setting didn't revert to last s...\n",
       "648    [STG][AP] Most of admin Portal features and co...\n",
       "649    [STG][AP] There is no option to update client ...\n",
       "650    [Backend]Can get the same user using different...\n",
       "Length: 651, dtype: object"
      ]
     },
     "execution_count": 11,
     "metadata": {},
     "output_type": "execute_result"
    }
   ],
   "source": [
    "dataConcat"
   ]
  },
  {
   "cell_type": "code",
   "execution_count": 12,
   "metadata": {
    "_uuid": "df95925dedb114edea40653aeba1ffb3a4b6d308"
   },
   "outputs": [],
   "source": [
    "def clean_Description(content):\n",
    "#     content = table.Description\n",
    "    #Converting text to lowercase characters\n",
    "    content = content.apply(lambda x: x.lower())\n",
    "    #Removing HTML tags\n",
    "    content = content.apply(lambda x: re.sub(r'\\<[^<>]*\\>','',x))\n",
    "    #Removing any character which does not match to letter,digit or underscore\n",
    "    content = content.apply(lambda x: re.sub(r'^\\W+|\\W+$',' ',x))\n",
    "    #Removing space,newline,tab\n",
    "    content = content.apply(lambda x: re.sub(r'\\s',' ',x))\n",
    "    #Removing punctuation\n",
    "    content = content.apply(lambda x: re.sub(r'[^a-zA-Z0-9]',' ',x))\n",
    "    #Removing numeric\n",
    "    content = content.apply(lambda x: re.sub(r'[0-9]','',x))\n",
    "    #Tokenizing data\n",
    "    content = content.apply(lambda x: word_tokenize(x))\n",
    "    #Removing stopwords\n",
    "    content = content.apply(lambda x: [i for i in x if i not in stops])\n",
    "    type(content)\n",
    "    return(content)"
   ]
  },
  {
   "cell_type": "code",
   "execution_count": 13,
   "metadata": {
    "_uuid": "5e2fdb2a2e006c1fd8cd70125bcc9d47f0f428ee"
   },
   "outputs": [],
   "source": [
    "dataClean = clean_Description(dataConcat)"
   ]
  },
  {
   "cell_type": "code",
   "execution_count": 14,
   "metadata": {
    "_uuid": "1aba74d7224c2b0bcbe5bc1b27b9491a6a05e51f"
   },
   "outputs": [
    {
     "data": {
      "text/plain": [
       "0    [dev, demo, portal, edit, bundle, items, add, ...\n",
       "1    [dev, portal, create, new, create, existing, a...\n",
       "2    [duplicate, items, using, search, items, keywo...\n",
       "3    [ap, default, language, default, region, store...\n",
       "4    [unity, sdk, single, draft, store, makes, subs...\n",
       "dtype: object"
      ]
     },
     "execution_count": 14,
     "metadata": {},
     "output_type": "execute_result"
    }
   ],
   "source": [
    "dataClean.head()"
   ]
  },
  {
   "cell_type": "markdown",
   "metadata": {},
   "source": [
    "## Stemming"
   ]
  },
  {
   "cell_type": "code",
   "execution_count": 15,
   "metadata": {},
   "outputs": [
    {
     "data": {
      "text/plain": [
       "dtype('O')"
      ]
     },
     "execution_count": 15,
     "metadata": {},
     "output_type": "execute_result"
    }
   ],
   "source": [
    "dataClean.dtypes"
   ]
  },
  {
   "cell_type": "code",
   "execution_count": 16,
   "metadata": {},
   "outputs": [],
   "source": [
    "wordnet = WordNetLemmatizer()"
   ]
  },
  {
   "cell_type": "code",
   "execution_count": 17,
   "metadata": {},
   "outputs": [],
   "source": [
    "# from Sastrawi.Stemmer.StemmerFactory import StemmerFactory\n",
    "\n",
    "# factory = StemmerFactory()\n",
    "# stemmer = WordNetLemmatizer()"
   ]
  },
  {
   "cell_type": "code",
   "execution_count": 18,
   "metadata": {},
   "outputs": [],
   "source": [
    "steam = []\n",
    "# dataFinal = np.array(dataFinal, dtype=str)\n",
    "# # steam = steam.astype(str)\n",
    "# for w in dataClean:\n",
    "#     word = wordnet.lemmatize(w)\n",
    "#     steam.append(word)\n",
    "steam = dataClean.apply(lambda x:[wordnet.lemmatize(i,pos='v') for i in x])"
   ]
  },
  {
   "cell_type": "code",
   "execution_count": 19,
   "metadata": {},
   "outputs": [
    {
     "name": "stdout",
     "output_type": "stream",
     "text": [
      "['AB Shooter', 'Admin Portal', 'Automation Test', 'Backend', 'Email', 'Launcher', 'Legal Website', 'Login Website', 'Player Portal', 'SDK']\n"
     ]
    }
   ],
   "source": [
    "from sklearn import preprocessing\n",
    "le = preprocessing.LabelEncoder()\n",
    "le.fit(list(set(data[\"Bug Location\"])))\n",
    "print(list(le.classes_))\n",
    "num_labels = le.transform(data[\"Bug Location\"]) "
   ]
  },
  {
   "cell_type": "markdown",
   "metadata": {},
   "source": [
    "# Bag of Words"
   ]
  },
  {
   "cell_type": "code",
   "execution_count": 20,
   "metadata": {},
   "outputs": [],
   "source": [
    "from sklearn.feature_extraction.text import CountVectorizer"
   ]
  },
  {
   "cell_type": "code",
   "execution_count": 21,
   "metadata": {},
   "outputs": [
    {
     "name": "stdout",
     "output_type": "stream",
     "text": [
      "Jumlah stop words: 361\n"
     ]
    }
   ],
   "source": [
    "stopword_new = set([w for w in stops])\n",
    "print (\"Jumlah stop words:\", len(stops))"
   ]
  },
  {
   "cell_type": "code",
   "execution_count": 22,
   "metadata": {},
   "outputs": [],
   "source": [
    "from nltk.tokenize.treebank import TreebankWordDetokenizer\n",
    "dataFinal = []\n",
    "for word in steam:\n",
    "    words = TreebankWordDetokenizer().detokenize(word)\n",
    "    dataFinal.append(words)"
   ]
  },
  {
   "cell_type": "code",
   "execution_count": 23,
   "metadata": {},
   "outputs": [
    {
     "name": "stdout",
     "output_type": "stream",
     "text": [
      "dev demo portal edit bundle items add item type code season subscription return error response issue occur add new bundle items already create item bundle type draft store view bundle items please notice add item type code season subscription return error response note also please provide suitable error message one show fail update item try accountid please see attachment detail portal\n"
     ]
    }
   ],
   "source": [
    "print(dataFinal[0])"
   ]
  },
  {
   "cell_type": "code",
   "execution_count": 24,
   "metadata": {},
   "outputs": [
    {
     "name": "stderr",
     "output_type": "stream",
     "text": [
      "C:\\Users\\GF\\anaconda3\\lib\\site-packages\\sklearn\\feature_extraction\\text.py:383: UserWarning: Your stop_words may be inconsistent with your preprocessing. Tokenizing the stop words generated tokens ['false', 'true'] not in stop_words.\n",
      "  warnings.warn('Your stop_words may be inconsistent with '\n"
     ]
    }
   ],
   "source": [
    "count_vect = CountVectorizer(ngram_range=(1,1), stop_words=stops)\n",
    "# steam = steam.astype(str)\n",
    "bug_result = count_vect.fit_transform(dataFinal)"
   ]
  },
  {
   "cell_type": "code",
   "execution_count": 25,
   "metadata": {},
   "outputs": [],
   "source": [
    "# print(steam)"
   ]
  },
  {
   "cell_type": "code",
   "execution_count": 26,
   "metadata": {},
   "outputs": [
    {
     "name": "stdout",
     "output_type": "stream",
     "text": [
      "(488, 2105)\n"
     ]
    }
   ],
   "source": [
    "from sklearn.model_selection import train_test_split\n",
    "X_train, X_test, y_train, y_test = train_test_split(bug_result, num_labels, test_size=0.25, random_state=16)\n",
    "print(X_train.shape)"
   ]
  },
  {
   "cell_type": "code",
   "execution_count": 27,
   "metadata": {},
   "outputs": [
    {
     "name": "stdout",
     "output_type": "stream",
     "text": [
      "[1 1 3 1 1 9 1 1 5 5 1 3 1 1 3 1 9 1 1 1 5 3 1 1 9 9 5 5 5 3 8 1 1 1 5 3 1\n",
      " 1 5 1 1 1 1 1 1 1 1 1 5 1 1 5 9 5 1 3 1 5 1 8 1 1 6 1 8 9 1 6 1 1 1 1 6 1\n",
      " 3 5 3 1 6 9 3 1 9 1 4 1 8 4 1 1 1 2 8 5 5 3 1 3 9 5 1 1 1 1 1 3 1 3 5 1 8\n",
      " 1 8 3 5 5 1 8 1 9 1 3 1 1 5 1 1 4 3 3 1 1 1 1 5 5 1 9 8 1 1 1 1 1 1 5 9 5\n",
      " 1 8 1 8 5 1 3 3 1 3 9 5 5 1 5]\n"
     ]
    }
   ],
   "source": [
    "print(y_test)"
   ]
  },
  {
   "cell_type": "markdown",
   "metadata": {},
   "source": [
    "# Naive Bayes"
   ]
  },
  {
   "cell_type": "code",
   "execution_count": 28,
   "metadata": {},
   "outputs": [],
   "source": [
    "from sklearn.naive_bayes import MultinomialNB\n",
    "from sklearn.metrics import accuracy_score\n",
    "from sklearn.metrics import precision_score\n",
    "from sklearn.metrics import recall_score\n",
    "from sklearn.metrics import f1_score\n",
    "from sklearn.metrics import confusion_matrix\n",
    "\n",
    "clf1 = MultinomialNB().fit(X_train, y_train)\n",
    "Predict = clf1.predict(X_test)"
   ]
  },
  {
   "cell_type": "code",
   "execution_count": 29,
   "metadata": {},
   "outputs": [
    {
     "name": "stdout",
     "output_type": "stream",
     "text": [
      "Accuracy pada test data: 0.7055214723926381\n",
      "Precision baseline pada test data: 0.7055214723926381\n",
      "Recall baseline pada test data: 0.7055214723926381\n",
      "F1 baseline pada test data: 0.7055214723926381\n"
     ]
    }
   ],
   "source": [
    "print (\"Accuracy pada test data:\", accuracy_score(Predict, y_test))\n",
    "print (\"Precision baseline pada test data:\", precision_score(Predict, y_test, average='micro'))\n",
    "print (\"Recall baseline pada test data:\", recall_score(Predict, y_test, average='micro'))\n",
    "print (\"F1 baseline pada test data:\", f1_score(Predict, y_test, average='micro'))\n"
   ]
  },
  {
   "cell_type": "markdown",
   "metadata": {},
   "source": [
    "# Logistic Regression"
   ]
  },
  {
   "cell_type": "code",
   "execution_count": 30,
   "metadata": {},
   "outputs": [],
   "source": [
    "from sklearn.linear_model import LogisticRegression"
   ]
  },
  {
   "cell_type": "code",
   "execution_count": 31,
   "metadata": {},
   "outputs": [
    {
     "name": "stderr",
     "output_type": "stream",
     "text": [
      "C:\\Users\\GF\\anaconda3\\lib\\site-packages\\sklearn\\linear_model\\_logistic.py:762: ConvergenceWarning: lbfgs failed to converge (status=1):\n",
      "STOP: TOTAL NO. of ITERATIONS REACHED LIMIT.\n",
      "\n",
      "Increase the number of iterations (max_iter) or scale the data as shown in:\n",
      "    https://scikit-learn.org/stable/modules/preprocessing.html\n",
      "Please also refer to the documentation for alternative solver options:\n",
      "    https://scikit-learn.org/stable/modules/linear_model.html#logistic-regression\n",
      "  n_iter_i = _check_optimize_result(\n"
     ]
    }
   ],
   "source": [
    "#Logistic Regression\n",
    "clf1 = LogisticRegression().fit(X_train, y_train)\n",
    "Predict1 = clf1.predict(X_test)"
   ]
  },
  {
   "cell_type": "code",
   "execution_count": 32,
   "metadata": {},
   "outputs": [
    {
     "name": "stdout",
     "output_type": "stream",
     "text": [
      "Accuracy pada test data: 0.8834355828220859\n",
      "Precision baseline pada test data: 0.8834355828220859\n",
      "Recall baseline pada test data: 0.8834355828220859\n",
      "F1 baseline pada test data: 0.8834355828220859\n"
     ]
    }
   ],
   "source": [
    "print (\"Accuracy pada test data:\", accuracy_score(Predict1, y_test))\n",
    "print (\"Precision baseline pada test data:\", precision_score(Predict1, y_test, average='micro'))\n",
    "print (\"Recall baseline pada test data:\", recall_score(Predict1, y_test, average='micro'))\n",
    "print (\"F1 baseline pada test data:\", f1_score(Predict1, y_test, average='micro'))"
   ]
  },
  {
   "cell_type": "markdown",
   "metadata": {},
   "source": [
    "# Random Forest"
   ]
  },
  {
   "cell_type": "code",
   "execution_count": 33,
   "metadata": {},
   "outputs": [],
   "source": [
    "from sklearn.ensemble import RandomForestClassifier"
   ]
  },
  {
   "cell_type": "code",
   "execution_count": 34,
   "metadata": {},
   "outputs": [],
   "source": [
    "#Random Forest\n",
    "clf1 = RandomForestClassifier(max_depth=35, random_state=2)\n",
    "clf1 = clf1.fit(X_train, y_train)\n",
    "Predict1 = clf1.predict(X_test)"
   ]
  },
  {
   "cell_type": "code",
   "execution_count": 35,
   "metadata": {},
   "outputs": [
    {
     "name": "stdout",
     "output_type": "stream",
     "text": [
      "Accuracy pada test data: 0.852760736196319\n",
      "Precision baseline pada test data: 0.852760736196319\n",
      "Recall baseline pada test data: 0.852760736196319\n",
      "F1 baseline pada test data: 0.852760736196319\n"
     ]
    }
   ],
   "source": [
    "print (\"Accuracy pada test data:\", accuracy_score(Predict1, y_test))\n",
    "print (\"Precision baseline pada test data:\", precision_score(Predict1, y_test, average='micro'))\n",
    "print (\"Recall baseline pada test data:\", recall_score(Predict1, y_test, average='micro'))\n",
    "print (\"F1 baseline pada test data:\", f1_score(Predict1, y_test, average='micro'))"
   ]
  },
  {
   "cell_type": "markdown",
   "metadata": {},
   "source": [
    "# Decision Tree"
   ]
  },
  {
   "cell_type": "code",
   "execution_count": 36,
   "metadata": {},
   "outputs": [],
   "source": [
    "from sklearn import tree\n",
    "\n",
    "clf1 = tree.DecisionTreeClassifier()\n",
    "clf1 = clf1.fit(X_train, y_train)\n",
    "Predict1 = clf1.predict(X_test)"
   ]
  },
  {
   "cell_type": "code",
   "execution_count": 37,
   "metadata": {},
   "outputs": [
    {
     "name": "stdout",
     "output_type": "stream",
     "text": [
      "Accuracy pada test data: 0.9141104294478528\n",
      "Precision baseline pada test data: 0.9141104294478528\n",
      "Recall baseline pada test data: 0.9141104294478528\n",
      "F1 baseline pada test data: 0.9141104294478528\n"
     ]
    }
   ],
   "source": [
    "print (\"Accuracy pada test data:\", accuracy_score(Predict1, y_test))\n",
    "print (\"Precision baseline pada test data:\", precision_score(Predict1, y_test, average='micro'))\n",
    "print (\"Recall baseline pada test data:\", recall_score(Predict1, y_test, average='micro'))\n",
    "print (\"F1 baseline pada test data:\", f1_score(Predict1, y_test, average='micro'))"
   ]
  },
  {
   "cell_type": "markdown",
   "metadata": {},
   "source": [
    "# TF_IDF"
   ]
  },
  {
   "cell_type": "markdown",
   "metadata": {},
   "source": [
    "# Naive Bayes"
   ]
  },
  {
   "cell_type": "code",
   "execution_count": 38,
   "metadata": {},
   "outputs": [],
   "source": [
    "from sklearn.feature_extraction.text import TfidfVectorizer "
   ]
  },
  {
   "cell_type": "code",
   "execution_count": 39,
   "metadata": {},
   "outputs": [
    {
     "name": "stderr",
     "output_type": "stream",
     "text": [
      "C:\\Users\\GF\\anaconda3\\lib\\site-packages\\sklearn\\feature_extraction\\text.py:383: UserWarning: Your stop_words may be inconsistent with your preprocessing. Tokenizing the stop words generated tokens ['false', 'true'] not in stop_words.\n",
      "  warnings.warn('Your stop_words may be inconsistent with '\n"
     ]
    }
   ],
   "source": [
    "tfidf_vectorizer=TfidfVectorizer(ngram_range=(1,1), stop_words=stops)\n",
    " \n",
    "tfidf_result=tfidf_vectorizer.fit_transform(dataFinal)"
   ]
  },
  {
   "cell_type": "code",
   "execution_count": 40,
   "metadata": {},
   "outputs": [
    {
     "name": "stdout",
     "output_type": "stream",
     "text": [
      "(488, 2105)\n"
     ]
    }
   ],
   "source": [
    "x_train, x_test, Y_train, Y_test = train_test_split(tfidf_result, num_labels, test_size=0.25, random_state=28)\n",
    "print(x_train.shape)"
   ]
  },
  {
   "cell_type": "code",
   "execution_count": 41,
   "metadata": {},
   "outputs": [],
   "source": [
    "#Naive Bayes\n",
    "clf1 = MultinomialNB().fit(x_train, Y_train)\n",
    "Predict1 = clf1.predict(x_test)"
   ]
  },
  {
   "cell_type": "code",
   "execution_count": 42,
   "metadata": {},
   "outputs": [
    {
     "name": "stdout",
     "output_type": "stream",
     "text": [
      "Accuracy pada test data: 0.5153374233128835\n",
      "Precision baseline pada test data: 0.5153374233128835\n",
      "Recall baseline pada test data: 0.5153374233128835\n",
      "F1 baseline pada test data: 0.5153374233128835\n"
     ]
    }
   ],
   "source": [
    "print (\"Accuracy pada test data:\", accuracy_score(Predict1, Y_test))\n",
    "print (\"Precision baseline pada test data:\", precision_score(Predict1, Y_test, average='micro'))\n",
    "print (\"Recall baseline pada test data:\", recall_score(Predict1, Y_test, average='micro'))\n",
    "print (\"F1 baseline pada test data:\", f1_score(Predict1, Y_test, average='micro'))"
   ]
  },
  {
   "cell_type": "markdown",
   "metadata": {},
   "source": [
    "# Logistic Regression"
   ]
  },
  {
   "cell_type": "code",
   "execution_count": 43,
   "metadata": {},
   "outputs": [],
   "source": [
    "from sklearn.linear_model import LogisticRegression"
   ]
  },
  {
   "cell_type": "code",
   "execution_count": 44,
   "metadata": {},
   "outputs": [],
   "source": [
    "#Logistic Regression\n",
    "clf1 = LogisticRegression().fit(x_train, Y_train)\n",
    "Predict1 = clf1.predict(x_test)"
   ]
  },
  {
   "cell_type": "code",
   "execution_count": 45,
   "metadata": {},
   "outputs": [
    {
     "name": "stdout",
     "output_type": "stream",
     "text": [
      "Accuracy pada test data: 0.6993865030674846\n",
      "Precision baseline pada test data: 0.6993865030674846\n",
      "Recall baseline pada test data: 0.6993865030674846\n",
      "F1 baseline pada test data: 0.6993865030674846\n"
     ]
    }
   ],
   "source": [
    "print (\"Accuracy pada test data:\", accuracy_score(Predict1, Y_test))\n",
    "print (\"Precision baseline pada test data:\", precision_score(Predict1, Y_test, average='micro'))\n",
    "print (\"Recall baseline pada test data:\", recall_score(Predict1, Y_test, average='micro'))\n",
    "print (\"F1 baseline pada test data:\", f1_score(Predict1, Y_test, average='micro'))"
   ]
  },
  {
   "cell_type": "markdown",
   "metadata": {},
   "source": [
    "# Random Forest"
   ]
  },
  {
   "cell_type": "code",
   "execution_count": 46,
   "metadata": {},
   "outputs": [],
   "source": [
    "from sklearn.ensemble import RandomForestClassifier"
   ]
  },
  {
   "cell_type": "code",
   "execution_count": 47,
   "metadata": {},
   "outputs": [],
   "source": [
    "#Random Forest\n",
    "clf1 = RandomForestClassifier(max_depth=50, random_state=2)\n",
    "clf1 = clf1.fit(x_train, Y_train)\n",
    "Predict1 = clf1.predict(x_test)"
   ]
  },
  {
   "cell_type": "code",
   "execution_count": 48,
   "metadata": {},
   "outputs": [
    {
     "name": "stdout",
     "output_type": "stream",
     "text": [
      "Accuracy pada test data: 0.9141104294478528\n",
      "Precision baseline pada test data: 0.9141104294478528\n",
      "Recall baseline pada test data: 0.9141104294478528\n",
      "F1 baseline pada test data: 0.9141104294478528\n"
     ]
    }
   ],
   "source": [
    "print (\"Accuracy pada test data:\", accuracy_score(Predict1, Y_test))\n",
    "print (\"Precision baseline pada test data:\", precision_score(Predict1, Y_test, average='micro'))\n",
    "print (\"Recall baseline pada test data:\", recall_score(Predict1, Y_test, average='micro'))\n",
    "print (\"F1 baseline pada test data:\", f1_score(Predict1, Y_test, average='micro'))"
   ]
  },
  {
   "cell_type": "markdown",
   "metadata": {},
   "source": [
    "# Decision Tree"
   ]
  },
  {
   "cell_type": "code",
   "execution_count": 49,
   "metadata": {},
   "outputs": [],
   "source": [
    "from sklearn import tree\n",
    "\n",
    "clf1 = tree.DecisionTreeClassifier()\n",
    "clf1 = clf1.fit(x_train, Y_train)\n",
    "Predict1 = clf1.predict(x_test)"
   ]
  },
  {
   "cell_type": "code",
   "execution_count": 50,
   "metadata": {},
   "outputs": [],
   "source": [
    "# tree.plot_tree(clf)"
   ]
  },
  {
   "cell_type": "code",
   "execution_count": 51,
   "metadata": {},
   "outputs": [
    {
     "name": "stdout",
     "output_type": "stream",
     "text": [
      "Accuracy pada test data: 0.9263803680981595\n",
      "Precision baseline pada test data: 0.9263803680981595\n",
      "Recall baseline pada test data: 0.9263803680981595\n",
      "F1 baseline pada test data: 0.9263803680981595\n"
     ]
    }
   ],
   "source": [
    "print (\"Accuracy pada test data:\", accuracy_score(Predict1, Y_test))\n",
    "print (\"Precision baseline pada test data:\", precision_score(Predict1, Y_test, average='micro'))\n",
    "print (\"Recall baseline pada test data:\", recall_score(Predict1, Y_test, average='micro'))\n",
    "print (\"F1 baseline pada test data:\", f1_score(Predict1, Y_test, average='micro'))"
   ]
  },
  {
   "cell_type": "code",
   "execution_count": null,
   "metadata": {},
   "outputs": [],
   "source": []
  }
 ],
 "metadata": {
  "kernelspec": {
   "display_name": "Python 3",
   "language": "python",
   "name": "python3"
  },
  "language_info": {
   "codemirror_mode": {
    "name": "ipython",
    "version": 3
   },
   "file_extension": ".py",
   "mimetype": "text/x-python",
   "name": "python",
   "nbconvert_exporter": "python",
   "pygments_lexer": "ipython3",
   "version": "3.8.5"
  }
 },
 "nbformat": 4,
 "nbformat_minor": 4
}
