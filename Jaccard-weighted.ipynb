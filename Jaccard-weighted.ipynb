{
 "cells": [
  {
   "cell_type": "code",
   "execution_count": 1,
   "metadata": {
    "_cell_guid": "b1076dfc-b9ad-4769-8c92-a6c4dae69d19",
    "_uuid": "8f2839f25d086af736a60e9eeb907d3b93b6e0e5"
   },
   "outputs": [
    {
     "name": "stdout",
     "output_type": "stream",
     "text": [
      "['.ipynb_checkpoints', '951967.zip', 'Bug report 10.csv', 'Bug report 100.csv', 'Bug report.csv', 'JIRA-ALL.csv', 'JIRA-BUG.csv', 'JIRA.csv', 'preprocessed_data.csv']\n"
     ]
    }
   ],
   "source": [
    "#Importing all the neccesary libraries\n",
    "import numpy as np \n",
    "import pandas as pd \n",
    "import csv\n",
    "\n",
    "import os\n",
    "print(os.listdir(\"input\"))\n",
    "\n",
    "import regex as re\n",
    "import string\n",
    "from nltk.corpus import stopwords\n",
    "from nltk.tokenize import word_tokenize\n",
    "from nltk.stem import WordNetLemmatizer\n",
    "from nltk.stem import SnowballStemmer\n",
    "\n",
    "\n",
    "# viz\n",
    "import matplotlib.pyplot as plt\n",
    "%matplotlib inline\n",
    "import sys\n",
    "\n",
    "# for clustering\n",
    "from scipy.cluster.hierarchy import ward, dendrogram, fcluster, single, complete, average, weighted\n",
    "from sklearn.metrics.pairwise import cosine_similarity\n",
    "from scipy.spatial.distance import squareform\n",
    "from sklearn.metrics import silhouette_score"
   ]
  },
  {
   "cell_type": "code",
   "execution_count": 2,
   "metadata": {
    "_cell_guid": "79c7e3d0-c299-4dcb-8224-4455121ee9b0",
    "_uuid": "d629ff2d2480ee46fbb7e2d37f6b5fab8052498a"
   },
   "outputs": [
    {
     "data": {
      "text/html": [
       "<div>\n",
       "<style scoped>\n",
       "    .dataframe tbody tr th:only-of-type {\n",
       "        vertical-align: middle;\n",
       "    }\n",
       "\n",
       "    .dataframe tbody tr th {\n",
       "        vertical-align: top;\n",
       "    }\n",
       "\n",
       "    .dataframe thead th {\n",
       "        text-align: right;\n",
       "    }\n",
       "</style>\n",
       "<table border=\"1\" class=\"dataframe\">\n",
       "  <thead>\n",
       "    <tr style=\"text-align: right;\">\n",
       "      <th></th>\n",
       "      <th>index</th>\n",
       "      <th>Summary</th>\n",
       "      <th>Bug Location</th>\n",
       "      <th>Issue key</th>\n",
       "      <th>Issue id</th>\n",
       "      <th>Issue Type</th>\n",
       "      <th>Status</th>\n",
       "      <th>Project key</th>\n",
       "      <th>Project name</th>\n",
       "      <th>Project type</th>\n",
       "      <th>...</th>\n",
       "      <th>Comment.64</th>\n",
       "      <th>Comment.65</th>\n",
       "      <th>Comment.66</th>\n",
       "      <th>Comment.67</th>\n",
       "      <th>Comment.68</th>\n",
       "      <th>Comment.69</th>\n",
       "      <th>Comment.70</th>\n",
       "      <th>Parent</th>\n",
       "      <th>Parent summary</th>\n",
       "      <th>Status Category</th>\n",
       "    </tr>\n",
       "  </thead>\n",
       "  <tbody>\n",
       "    <tr>\n",
       "      <th>0</th>\n",
       "      <td>0</td>\n",
       "      <td>[Dev][Demo][Admin Portal][Edit Bundle items]: ...</td>\n",
       "      <td>Admin Portal</td>\n",
       "      <td>CORE-4396</td>\n",
       "      <td>57063</td>\n",
       "      <td>Bug</td>\n",
       "      <td>To Do</td>\n",
       "      <td>CORE</td>\n",
       "      <td>Justice - Core Team</td>\n",
       "      <td>software</td>\n",
       "      <td>...</td>\n",
       "      <td>NaN</td>\n",
       "      <td>NaN</td>\n",
       "      <td>NaN</td>\n",
       "      <td>NaN</td>\n",
       "      <td>NaN</td>\n",
       "      <td>NaN</td>\n",
       "      <td>NaN</td>\n",
       "      <td>NaN</td>\n",
       "      <td>NaN</td>\n",
       "      <td>To Do</td>\n",
       "    </tr>\n",
       "    <tr>\n",
       "      <th>1</th>\n",
       "      <td>1</td>\n",
       "      <td>[Dev][Admin Portal][Create New][Create From ex...</td>\n",
       "      <td>Admin Portal</td>\n",
       "      <td>CORE-4385</td>\n",
       "      <td>57039</td>\n",
       "      <td>Bug</td>\n",
       "      <td>In Progress</td>\n",
       "      <td>CORE</td>\n",
       "      <td>Justice - Core Team</td>\n",
       "      <td>software</td>\n",
       "      <td>...</td>\n",
       "      <td>NaN</td>\n",
       "      <td>NaN</td>\n",
       "      <td>NaN</td>\n",
       "      <td>NaN</td>\n",
       "      <td>NaN</td>\n",
       "      <td>NaN</td>\n",
       "      <td>NaN</td>\n",
       "      <td>NaN</td>\n",
       "      <td>NaN</td>\n",
       "      <td>In Progress</td>\n",
       "    </tr>\n",
       "    <tr>\n",
       "      <th>2</th>\n",
       "      <td>2</td>\n",
       "      <td>Duplicate items while using Search items by ke...</td>\n",
       "      <td>Automation Test</td>\n",
       "      <td>CORE-4377</td>\n",
       "      <td>57007</td>\n",
       "      <td>Bug</td>\n",
       "      <td>To Do</td>\n",
       "      <td>CORE</td>\n",
       "      <td>Justice - Core Team</td>\n",
       "      <td>software</td>\n",
       "      <td>...</td>\n",
       "      <td>NaN</td>\n",
       "      <td>NaN</td>\n",
       "      <td>NaN</td>\n",
       "      <td>NaN</td>\n",
       "      <td>NaN</td>\n",
       "      <td>NaN</td>\n",
       "      <td>NaN</td>\n",
       "      <td>NaN</td>\n",
       "      <td>NaN</td>\n",
       "      <td>To Do</td>\n",
       "    </tr>\n",
       "    <tr>\n",
       "      <th>3</th>\n",
       "      <td>3</td>\n",
       "      <td>[AP] Default language and default region of st...</td>\n",
       "      <td>Admin Portal</td>\n",
       "      <td>CORE-4366</td>\n",
       "      <td>56971</td>\n",
       "      <td>Bug</td>\n",
       "      <td>QA</td>\n",
       "      <td>CORE</td>\n",
       "      <td>Justice - Core Team</td>\n",
       "      <td>software</td>\n",
       "      <td>...</td>\n",
       "      <td>NaN</td>\n",
       "      <td>NaN</td>\n",
       "      <td>NaN</td>\n",
       "      <td>NaN</td>\n",
       "      <td>NaN</td>\n",
       "      <td>NaN</td>\n",
       "      <td>NaN</td>\n",
       "      <td>NaN</td>\n",
       "      <td>NaN</td>\n",
       "      <td>In Progress</td>\n",
       "    </tr>\n",
       "    <tr>\n",
       "      <th>4</th>\n",
       "      <td>4</td>\n",
       "      <td>[Unity][SDK] Single draft store makes subscrip...</td>\n",
       "      <td>SDK</td>\n",
       "      <td>CORE-4365</td>\n",
       "      <td>56960</td>\n",
       "      <td>Bug</td>\n",
       "      <td>To Do</td>\n",
       "      <td>CORE</td>\n",
       "      <td>Justice - Core Team</td>\n",
       "      <td>software</td>\n",
       "      <td>...</td>\n",
       "      <td>NaN</td>\n",
       "      <td>NaN</td>\n",
       "      <td>NaN</td>\n",
       "      <td>NaN</td>\n",
       "      <td>NaN</td>\n",
       "      <td>NaN</td>\n",
       "      <td>NaN</td>\n",
       "      <td>NaN</td>\n",
       "      <td>NaN</td>\n",
       "      <td>To Do</td>\n",
       "    </tr>\n",
       "  </tbody>\n",
       "</table>\n",
       "<p>5 rows × 220 columns</p>\n",
       "</div>"
      ],
      "text/plain": [
       "   index                                            Summary     Bug Location  \\\n",
       "0      0  [Dev][Demo][Admin Portal][Edit Bundle items]: ...     Admin Portal   \n",
       "1      1  [Dev][Admin Portal][Create New][Create From ex...     Admin Portal   \n",
       "2      2  Duplicate items while using Search items by ke...  Automation Test   \n",
       "3      3  [AP] Default language and default region of st...     Admin Portal   \n",
       "4      4  [Unity][SDK] Single draft store makes subscrip...              SDK   \n",
       "\n",
       "   Issue key  Issue id Issue Type       Status Project key  \\\n",
       "0  CORE-4396     57063        Bug        To Do        CORE   \n",
       "1  CORE-4385     57039        Bug  In Progress        CORE   \n",
       "2  CORE-4377     57007        Bug        To Do        CORE   \n",
       "3  CORE-4366     56971        Bug           QA        CORE   \n",
       "4  CORE-4365     56960        Bug        To Do        CORE   \n",
       "\n",
       "          Project name Project type  ... Comment.64 Comment.65  Comment.66  \\\n",
       "0  Justice - Core Team     software  ...        NaN        NaN         NaN   \n",
       "1  Justice - Core Team     software  ...        NaN        NaN         NaN   \n",
       "2  Justice - Core Team     software  ...        NaN        NaN         NaN   \n",
       "3  Justice - Core Team     software  ...        NaN        NaN         NaN   \n",
       "4  Justice - Core Team     software  ...        NaN        NaN         NaN   \n",
       "\n",
       "  Comment.67 Comment.68 Comment.69 Comment.70 Parent Parent summary  \\\n",
       "0        NaN        NaN        NaN        NaN    NaN            NaN   \n",
       "1        NaN        NaN        NaN        NaN    NaN            NaN   \n",
       "2        NaN        NaN        NaN        NaN    NaN            NaN   \n",
       "3        NaN        NaN        NaN        NaN    NaN            NaN   \n",
       "4        NaN        NaN        NaN        NaN    NaN            NaN   \n",
       "\n",
       "  Status Category  \n",
       "0           To Do  \n",
       "1     In Progress  \n",
       "2           To Do  \n",
       "3     In Progress  \n",
       "4           To Do  \n",
       "\n",
       "[5 rows x 220 columns]"
      ]
     },
     "execution_count": 2,
     "metadata": {},
     "output_type": "execute_result"
    }
   ],
   "source": [
    "data=pd.read_csv('Input/JIRA-BUG.csv')\n",
    "data = data.reset_index()\n",
    "data.head()"
   ]
  },
  {
   "cell_type": "code",
   "execution_count": 3,
   "metadata": {},
   "outputs": [
    {
     "name": "stdout",
     "output_type": "stream",
     "text": [
      "(651, 7)\n"
     ]
    },
    {
     "data": {
      "text/html": [
       "<div>\n",
       "<style scoped>\n",
       "    .dataframe tbody tr th:only-of-type {\n",
       "        vertical-align: middle;\n",
       "    }\n",
       "\n",
       "    .dataframe tbody tr th {\n",
       "        vertical-align: top;\n",
       "    }\n",
       "\n",
       "    .dataframe thead th {\n",
       "        text-align: right;\n",
       "    }\n",
       "</style>\n",
       "<table border=\"1\" class=\"dataframe\">\n",
       "  <thead>\n",
       "    <tr style=\"text-align: right;\">\n",
       "      <th></th>\n",
       "      <th>Summary</th>\n",
       "      <th>Status</th>\n",
       "      <th>Description</th>\n",
       "      <th>Priority</th>\n",
       "      <th>Resolution</th>\n",
       "      <th>Issue Type</th>\n",
       "      <th>Bug Location</th>\n",
       "    </tr>\n",
       "  </thead>\n",
       "  <tbody>\n",
       "    <tr>\n",
       "      <th>0</th>\n",
       "      <td>[Dev][Demo][Admin Portal][Edit Bundle items]: ...</td>\n",
       "      <td>To Do</td>\n",
       "      <td>This issue occurs on *Add new bundle items.*\\n...</td>\n",
       "      <td>P1</td>\n",
       "      <td>NaN</td>\n",
       "      <td>Bug</td>\n",
       "      <td>Admin Portal</td>\n",
       "    </tr>\n",
       "    <tr>\n",
       "      <th>1</th>\n",
       "      <td>[Dev][Admin Portal][Create New][Create From ex...</td>\n",
       "      <td>In Progress</td>\n",
       "      <td>This issue occurs on Create new Role and Creat...</td>\n",
       "      <td>P1</td>\n",
       "      <td>NaN</td>\n",
       "      <td>Bug</td>\n",
       "      <td>Admin Portal</td>\n",
       "    </tr>\n",
       "    <tr>\n",
       "      <th>2</th>\n",
       "      <td>Duplicate items while using Search items by ke...</td>\n",
       "      <td>To Do</td>\n",
       "      <td>While making script for cleanup, we found that...</td>\n",
       "      <td>P2</td>\n",
       "      <td>NaN</td>\n",
       "      <td>Bug</td>\n",
       "      <td>Automation Test</td>\n",
       "    </tr>\n",
       "    <tr>\n",
       "      <th>3</th>\n",
       "      <td>[AP] Default language and default region of st...</td>\n",
       "      <td>QA</td>\n",
       "      <td>When we open Stores menu and look at the store...</td>\n",
       "      <td>P1</td>\n",
       "      <td>NaN</td>\n",
       "      <td>Bug</td>\n",
       "      <td>Admin Portal</td>\n",
       "    </tr>\n",
       "    <tr>\n",
       "      <th>4</th>\n",
       "      <td>[Unity][SDK] Single draft store makes subscrip...</td>\n",
       "      <td>To Do</td>\n",
       "      <td>The restriction of single draft store makes su...</td>\n",
       "      <td>P1</td>\n",
       "      <td>NaN</td>\n",
       "      <td>Bug</td>\n",
       "      <td>SDK</td>\n",
       "    </tr>\n",
       "  </tbody>\n",
       "</table>\n",
       "</div>"
      ],
      "text/plain": [
       "                                             Summary       Status  \\\n",
       "0  [Dev][Demo][Admin Portal][Edit Bundle items]: ...        To Do   \n",
       "1  [Dev][Admin Portal][Create New][Create From ex...  In Progress   \n",
       "2  Duplicate items while using Search items by ke...        To Do   \n",
       "3  [AP] Default language and default region of st...           QA   \n",
       "4  [Unity][SDK] Single draft store makes subscrip...        To Do   \n",
       "\n",
       "                                         Description Priority Resolution  \\\n",
       "0  This issue occurs on *Add new bundle items.*\\n...       P1        NaN   \n",
       "1  This issue occurs on Create new Role and Creat...       P1        NaN   \n",
       "2  While making script for cleanup, we found that...       P2        NaN   \n",
       "3  When we open Stores menu and look at the store...       P1        NaN   \n",
       "4  The restriction of single draft store makes su...       P1        NaN   \n",
       "\n",
       "  Issue Type     Bug Location  \n",
       "0        Bug     Admin Portal  \n",
       "1        Bug     Admin Portal  \n",
       "2        Bug  Automation Test  \n",
       "3        Bug     Admin Portal  \n",
       "4        Bug              SDK  "
      ]
     },
     "execution_count": 3,
     "metadata": {},
     "output_type": "execute_result"
    }
   ],
   "source": [
    "cols_of_interest=[\"Summary\", \"Status\",\"Description\",\"Priority\",\"Resolution\", \"Issue Type\", \"Bug Location\"]\n",
    "data=data[cols_of_interest]\n",
    "print(data.shape)\n",
    "data.head()"
   ]
  },
  {
   "cell_type": "code",
   "execution_count": 4,
   "metadata": {},
   "outputs": [
    {
     "data": {
      "text/plain": [
       "Summary          0\n",
       "Status           0\n",
       "Description     59\n",
       "Priority         0\n",
       "Resolution      97\n",
       "Issue Type       0\n",
       "Bug Location     0\n",
       "dtype: int64"
      ]
     },
     "execution_count": 4,
     "metadata": {},
     "output_type": "execute_result"
    }
   ],
   "source": [
    "data.isnull().sum()"
   ]
  },
  {
   "cell_type": "code",
   "execution_count": 5,
   "metadata": {},
   "outputs": [
    {
     "data": {
      "text/plain": [
       "Summary          0\n",
       "Status           0\n",
       "Description      0\n",
       "Priority         0\n",
       "Resolution      97\n",
       "Issue Type       0\n",
       "Bug Location     0\n",
       "dtype: int64"
      ]
     },
     "execution_count": 5,
     "metadata": {},
     "output_type": "execute_result"
    }
   ],
   "source": [
    "data.Description = data.Description.fillna(\"0\")\n",
    "data.isnull().sum()"
   ]
  },
  {
   "cell_type": "code",
   "execution_count": 6,
   "metadata": {},
   "outputs": [
    {
     "data": {
      "image/png": "[encoded data removed]",
      "text/plain": [
       "<Figure size 576x432 with 1 Axes>"
      ]
     },
     "metadata": {
      "needs_background": "light"
     },
     "output_type": "display_data"
    }
   ],
   "source": [
    "fig = plt.figure(figsize=(8,6))\n",
    "data.groupby('Bug Location').Summary.count().plot.bar(ylim=0)\n",
    "plt.show()"
   ]
  },
  {
   "cell_type": "markdown",
   "metadata": {
    "_uuid": "400e2b5f44187c1d32b0d65eb1ca48f0ee18f207"
   },
   "source": [
    "**Text data preprocessing steps**\n",
    "\n",
    "1- Data Cleaning(either using regex or BeautifulSoup): \n",
    "a) Removing HTML characters. \n",
    "b) Removing punctuation. \n",
    "c) Decoding encoded data.\n",
    "d) Split attached words.\n",
    "e) Removing URLs. \n",
    "f) Apostrophe removal.\n",
    "g) Removing Expressions. \n",
    "h) Uppercase & Lowercase letters \n",
    "i) Numbers such as amounts and data.\n",
    "\n",
    "2- Data Tokenization(using word_tokenize in nltk.tokenize) \n",
    "Segregation of text into individual words i.e tokens.\n",
    "\n",
    "3- Stopword Removal(using stopwords in nltk.corpus)\n",
    "Discarding too common words or words which are not going to be helpful in our analysis.\n",
    "\n",
    "4- Stemming(using WordNetLemmatizer in nltk.stem) \n",
    "Combining different variants of words into a single parent word that conveys same meaning."
   ]
  },
  {
   "cell_type": "code",
   "execution_count": 7,
   "metadata": {
    "_uuid": "366cb5190c19f8b61a194e823f5fd31e8504cec8"
   },
   "outputs": [],
   "source": [
    "stops = set(stopwords.words(\"english\"))"
   ]
  },
  {
   "cell_type": "code",
   "execution_count": 8,
   "metadata": {},
   "outputs": [],
   "source": [
    "dataConcat = pd.DataFrame()\n",
    "dataConcat = data.Summary +\" \"+data.Status +\" \"+ data.Description+\" \"+data[\"Bug Location\"]\n",
    "dataConcat.to_csv(\"./Output/data_concat.csv\")"
   ]
  },
  {
   "cell_type": "code",
   "execution_count": 9,
   "metadata": {},
   "outputs": [
    {
     "data": {
      "text/plain": [
       "0      [Dev][Demo][Admin Portal][Edit Bundle items]: ...\n",
       "1      [Dev][Admin Portal][Create New][Create From ex...\n",
       "2      Duplicate items while using Search items by ke...\n",
       "3      [AP] Default language and default region of st...\n",
       "4      [Unity][SDK] Single draft store makes subscrip...\n",
       "                             ...                        \n",
       "646    [STG][Launcher]Launcher didn't start automatic...\n",
       "647    [STG][Launcher]Setting didn't revert to last s...\n",
       "648    [STG][AP] Most of admin Portal features and co...\n",
       "649    [STG][AP] There is no option to update client ...\n",
       "650    [Backend]Can get the same user using different...\n",
       "Length: 651, dtype: object"
      ]
     },
     "execution_count": 9,
     "metadata": {},
     "output_type": "execute_result"
    }
   ],
   "source": [
    "dataConcat"
   ]
  },
  {
   "cell_type": "code",
   "execution_count": 10,
   "metadata": {
    "_uuid": "df95925dedb114edea40653aeba1ffb3a4b6d308"
   },
   "outputs": [],
   "source": [
    "def clean_Description(content):\n",
    "#     content = table.Description\n",
    "    #Converting text to lowercase characters\n",
    "    content = content.apply(lambda x: x.lower())\n",
    "    #Removing HTML tags\n",
    "    content = content.apply(lambda x: re.sub(r'\\<[^<>]*\\>','',x))\n",
    "    #Removing any character which does not match to letter,digit or underscore\n",
    "    content = content.apply(lambda x: re.sub(r'^\\W+|\\W+$',' ',x))\n",
    "    #Removing space,newline,tab\n",
    "    content = content.apply(lambda x: re.sub(r'\\s',' ',x))\n",
    "    #Removing punctuation\n",
    "    content = content.apply(lambda x: re.sub(r'[^a-zA-Z0-9]',' ',x))\n",
    "    #Removing numeric\n",
    "    content = content.apply(lambda x: re.sub(r'[0-9]','',x))\n",
    "    #Tokenizing data\n",
    "    content = content.apply(lambda x: word_tokenize(x))\n",
    "    #Removing stopwords\n",
    "    content = content.apply(lambda x: [i for i in x if i not in stops])\n",
    "    type(content)\n",
    "    return(content)"
   ]
  },
  {
   "cell_type": "code",
   "execution_count": 11,
   "metadata": {
    "_uuid": "5e2fdb2a2e006c1fd8cd70125bcc9d47f0f428ee"
   },
   "outputs": [],
   "source": [
    "dataClean = clean_Description(dataConcat)"
   ]
  },
  {
   "cell_type": "code",
   "execution_count": 12,
   "metadata": {
    "_uuid": "1aba74d7224c2b0bcbe5bc1b27b9491a6a05e51f"
   },
   "outputs": [
    {
     "data": {
      "text/plain": [
       "0    [dev, demo, portal, edit, bundle, items, add, ...\n",
       "1    [dev, portal, create, new, create, existing, a...\n",
       "2    [duplicate, items, using, search, items, keywo...\n",
       "3    [ap, default, language, default, region, store...\n",
       "4    [unity, sdk, single, draft, store, makes, subs...\n",
       "dtype: object"
      ]
     },
     "execution_count": 12,
     "metadata": {},
     "output_type": "execute_result"
    }
   ],
   "source": [
    "dataClean.head()"
   ]
  },
  {
   "cell_type": "markdown",
   "metadata": {},
   "source": [
    "## Stemming"
   ]
  },
  {
   "cell_type": "code",
   "execution_count": 13,
   "metadata": {},
   "outputs": [
    {
     "data": {
      "text/plain": [
       "Summary         object\n",
       "Status          object\n",
       "Description     object\n",
       "Priority        object\n",
       "Resolution      object\n",
       "Issue Type      object\n",
       "Bug Location    object\n",
       "dtype: object"
      ]
     },
     "execution_count": 13,
     "metadata": {},
     "output_type": "execute_result"
    }
   ],
   "source": [
    "data.dtypes"
   ]
  },
  {
   "cell_type": "code",
   "execution_count": 14,
   "metadata": {},
   "outputs": [],
   "source": [
    "wordnet = WordNetLemmatizer()\n",
    "dataClean = dataClean.apply(lambda x:[wordnet.lemmatize(i,pos='v') for i in x])\n",
    "\n",
    "# snowball = SnowballStemmer(\"porter\")\n",
    "# data.Concat = data.Concat.apply(lambda x:[snowball.stem(i) for i in x])"
   ]
  },
  {
   "cell_type": "code",
   "execution_count": 15,
   "metadata": {},
   "outputs": [
    {
     "data": {
      "text/plain": [
       "0    [dev, demo, portal, edit, bundle, items, add, ...\n",
       "1    [dev, portal, create, new, create, exist, able...\n",
       "2    [duplicate, items, use, search, items, keyword...\n",
       "3    [ap, default, language, default, region, store...\n",
       "4    [unity, sdk, single, draft, store, make, subsc...\n",
       "dtype: object"
      ]
     },
     "execution_count": 15,
     "metadata": {},
     "output_type": "execute_result"
    }
   ],
   "source": [
    "dataClean.head()"
   ]
  },
  {
   "cell_type": "code",
   "execution_count": 31,
   "metadata": {},
   "outputs": [
    {
     "data": {
      "text/plain": [
       "0      [dev, demo, portal, edit, bundle, items, add, ...\n",
       "1      [dev, portal, create, new, create, exist, able...\n",
       "2      [duplicate, items, use, search, items, keyword...\n",
       "3      [ap, default, language, default, region, store...\n",
       "4      [unity, sdk, single, draft, store, make, subsc...\n",
       "                             ...                        \n",
       "646    [stg, launcher, launcher, start, automaticaly,...\n",
       "647    [stg, launcher, set, revert, last, save, setti...\n",
       "648    [stg, ap, portal, feature, content, translate,...\n",
       "649    [stg, ap, option, update, client, secret, clie...\n",
       "650    [backend, get, use, different, namespace, summ...\n",
       "Length: 651, dtype: object"
      ]
     },
     "execution_count": 31,
     "metadata": {},
     "output_type": "execute_result"
    }
   ],
   "source": [
    "dataClean"
   ]
  },
  {
   "cell_type": "code",
   "execution_count": 16,
   "metadata": {},
   "outputs": [],
   "source": [
    "Summary = dataClean.astype(str)\n",
    "listOfSummary = list(dataClean)"
   ]
  },
  {
   "cell_type": "markdown",
   "metadata": {},
   "source": [
    "# Hiearchical Clustering"
   ]
  },
  {
   "cell_type": "markdown",
   "metadata": {},
   "source": [
    " # Hierarchical Clustering Using Jaccard Coefficient and IDF"
   ]
  },
  {
   "cell_type": "code",
   "execution_count": 17,
   "metadata": {},
   "outputs": [],
   "source": [
    "def calc_DF(tfDict):\n",
    "    count_DF = {}\n",
    "    # Run through each document's tf dictionary and increment countDict's (term, doc) pair\n",
    "    for document in tfDict:\n",
    "        for term in document:\n",
    "            if term in count_DF:\n",
    "                count_DF[term] += 1\n",
    "            else:\n",
    "                count_DF[term] = 1\n",
    "    return count_DF\n",
    "\n",
    "DF = calc_DF(listOfSummary)"
   ]
  },
  {
   "cell_type": "code",
   "execution_count": 18,
   "metadata": {},
   "outputs": [],
   "source": [
    "with open('./Output/MyDFDict.csv', 'w') as f:\n",
    "    for key in DF.keys():\n",
    "        f.write(\"%s,%s\\n\"%(key,DF[key]))"
   ]
  },
  {
   "cell_type": "code",
   "execution_count": 19,
   "metadata": {},
   "outputs": [],
   "source": [
    "n_document = len(listOfSummary)\n",
    "\n",
    "def calc_IDF(__n_document, __DF):\n",
    "    IDF_Dict = {}\n",
    "    for term in __DF:\n",
    "        IDF_Dict[term] = np.log(__n_document / (__DF[term] + 1))\n",
    "    return IDF_Dict\n",
    "  \n",
    "#Stores the idf dictionary\n",
    "IDF = calc_IDF(n_document, DF)"
   ]
  },
  {
   "cell_type": "code",
   "execution_count": 20,
   "metadata": {},
   "outputs": [],
   "source": [
    "with open('./Output/MyIDFDict.csv', 'w') as f:\n",
    "    for key in IDF.keys():\n",
    "        f.write(\"%s,%s\\n\"%(key,IDF[key]))"
   ]
  },
  {
   "cell_type": "code",
   "execution_count": 21,
   "metadata": {},
   "outputs": [],
   "source": [
    "def compute_jaccard(str1, str2):\n",
    "    himpunan1 = set(str1)\n",
    "    himpunan2 = set(str2)\n",
    "    irisan = himpunan1.intersection(himpunan2)\n",
    "    IDF_VAL = 0.0\n",
    "    for key in irisan:\n",
    "        IDF_VAL = IDF_VAL + IDF[key]\n",
    "    IDF_VAL = IDF_VAL/(len(irisan)+1)\n",
    "    gabungan = himpunan1.union(himpunan2)\n",
    "#     jaccard = IDF_VAL\n",
    "    jaccard = (len(irisan)/float(len(gabungan))) * IDF_VAL\n",
    "    \n",
    "    return jaccard"
   ]
  },
  {
   "cell_type": "code",
   "execution_count": 22,
   "metadata": {},
   "outputs": [],
   "source": [
    "import itertools\n",
    "\n",
    "sim_df = pd.DataFrame()\n",
    "\n",
    "for col_pair in itertools.combinations_with_replacement(listOfSummary,2):\n",
    "    strOfCol = str(col_pair)\n",
    "    \n",
    "    u0 = col_pair[0]\n",
    "    u1 = col_pair[1]\n",
    "    sim_df.loc[str(col_pair[0]), str(col_pair[1])] = compute_jaccard(u0, u1)"
   ]
  },
  {
   "cell_type": "code",
   "execution_count": 23,
   "metadata": {},
   "outputs": [],
   "source": [
    "sim_df = sim_df.fillna(0)"
   ]
  },
  {
   "cell_type": "code",
   "execution_count": 24,
   "metadata": {},
   "outputs": [
    {
     "name": "stdout",
     "output_type": "stream",
     "text": [
      "[[2.02804679 0.40845831 0.04811202 ... 0.06383067 0.11097362 0.07271771]\n",
      " [0.         1.80296947 0.09958111 ... 0.09139392 0.1200185  0.00971086]\n",
      " [0.         0.         3.04094274 ... 0.0286731  0.05651973 0.09445478]\n",
      " ...\n",
      " [0.         0.         0.         ... 2.3659199  0.67588811 0.29233256]\n",
      " [0.         0.         0.         ... 0.         2.32971873 0.25393221]\n",
      " [0.         0.         0.         ... 0.         0.         2.69650684]]\n"
     ]
    }
   ],
   "source": [
    "dist = np.array(sim_df)\n",
    "\n",
    "print(dist)"
   ]
  },
  {
   "cell_type": "code",
   "execution_count": 25,
   "metadata": {},
   "outputs": [],
   "source": [
    "sim_df.to_csv(\"./Output/jcidf_matrix.csv\")"
   ]
  },
  {
   "cell_type": "markdown",
   "metadata": {},
   "source": [
    "## Agglomerative Hierarchical Clustering"
   ]
  },
  {
   "cell_type": "code",
   "execution_count": 26,
   "metadata": {},
   "outputs": [],
   "source": [
    "linkage_matrix = weighted(dist) # replace with complete, single, or other scipy.cluster.hierarchical algorithms"
   ]
  },
  {
   "cell_type": "code",
   "execution_count": 32,
   "metadata": {},
   "outputs": [
    {
     "data": {
      "text/plain": [
       "array([[ 502.        ,  503.        ,    1.73577446,    2.        ],\n",
       "       [ 325.        ,  548.        ,    1.80168608,    2.        ],\n",
       "       [ 581.        ,  651.        ,    1.89496481,    3.        ],\n",
       "       ...,\n",
       "       [ 141.        , 1295.        ,    5.61748383,  643.        ],\n",
       "       [ 333.        , 1296.        ,    5.71079607,  644.        ],\n",
       "       [1291.        , 1297.        ,    6.08403461,  650.        ]])"
      ]
     },
     "execution_count": 32,
     "metadata": {},
     "output_type": "execute_result"
    }
   ],
   "source": [
    "linkage_matrix"
   ]
  },
  {
   "cell_type": "code",
   "execution_count": 27,
   "metadata": {},
   "outputs": [],
   "source": [
    "np.savetxt(\"./Output/linkage_matrix_weighted.csv\", linkage_matrix, delimiter=\",\")\n",
    "dataCluster = pd.DataFrame()\n",
    "dataCluster['token'] = dataClean\n",
    "dataCluster['cluster'] = pd.Series(fcluster(Z=linkage_matrix, t=2, criterion='maxclust'))\n",
    "dataCluster.to_csv(\"./Output/data_cluster_weighted.csv\")"
   ]
  },
  {
   "cell_type": "markdown",
   "metadata": {},
   "source": [
    "## Visualization\n",
    "\n",
    "Dendrogram visualization. We visualize the titles of each paper next to the corresponding leaf to qualitatively evaluate the clustering.\n",
    "\n",
    "Changing the `color_threshold` kwarg in the call to `dendrogram()` will affect how the clusters are displayed by increasing or decreasing the \n",
    "minimum distance necessary for `dendrogram()` to color a cluster differently."
   ]
  },
  {
   "cell_type": "code",
   "execution_count": 28,
   "metadata": {},
   "outputs": [],
   "source": [
    "# sys.setrecursionlimit(10000)\n",
    "# MAX_COPHENETIC_DIST = max(linkage_matrix[:,2]) * 0.39 # max distance between points to be considered together. can be tuned.\n",
    "# MAX_TITLE_LEN = 200\n",
    "\n",
    "# fig, ax = plt.subplots(figsize=(15, 80)) # set size\n",
    "# ax = dendrogram(linkage_matrix, orientation=\"right\", color_threshold=MAX_COPHENETIC_DIST, leaf_font_size=4,\n",
    "#                 labels=Summary.apply(lambda x: x if len(x) < MAX_TITLE_LEN else x[:MAX_TITLE_LEN  - 3] + \"...\").tolist())\n",
    "\n",
    "# plt.tick_params(axis= 'x', which='both',  bottom='off', top='off',labelbottom='off')\n",
    "\n",
    "# plt.tight_layout() #show plot with tight layout\n",
    "# plt.savefig('./Output/jaccard-idf-coeff-ward.png', dpi=300)"
   ]
  },
  {
   "cell_type": "markdown",
   "metadata": {},
   "source": [
    "# Analysis\n",
    "\n",
    "We now take the raw clusters achieved and use the silhouette score and elbow method to evaluate."
   ]
  },
  {
   "cell_type": "code",
   "execution_count": 29,
   "metadata": {},
   "outputs": [],
   "source": [
    "def silhouette_k(distance_matrix, linkage_matrix, max_k=20):\n",
    "    scores = []\n",
    "    for i in range(2, max_k+1):\n",
    "        clusters = fcluster(linkage_matrix, i, criterion='maxclust')\n",
    "        score = silhouette_score(distance_matrix, clusters, metric='precomputed')\n",
    "        print(\"Silhouette score with {} clusters:\".format(i), score)\n",
    "        scores.append(score)\n",
    "    plt.title(\"Silhouette score vs. number of clusters\")\n",
    "    plt.xlabel(\"# of clusters\")\n",
    "    plt.ylabel(\"Score (higher is better)\")\n",
    "    plt.plot(np.arange(2, max_k+1), scores)\n",
    "    plt.show()\n",
    "    return scores"
   ]
  },
  {
   "cell_type": "code",
   "execution_count": 30,
   "metadata": {},
   "outputs": [
    {
     "name": "stdout",
     "output_type": "stream",
     "text": [
      "Silhouette score with 2 clusters: -0.9507274389259912\n",
      "Silhouette score with 3 clusters: -0.9712367260017856\n",
      "Silhouette score with 4 clusters: -0.9761289302425408\n",
      "Silhouette score with 5 clusters: -0.975618666669585\n",
      "Silhouette score with 6 clusters: -0.9817209679354222\n",
      "Silhouette score with 7 clusters: -0.9805644098589568\n",
      "Silhouette score with 8 clusters: -0.9810652457805618\n",
      "Silhouette score with 9 clusters: -0.9795267842421002\n",
      "Silhouette score with 10 clusters: -0.9802900655133668\n",
      "Silhouette score with 11 clusters: -0.9787321661634024\n",
      "Silhouette score with 12 clusters: -0.9771937046249408\n",
      "Silhouette score with 13 clusters: -0.9761438481169612\n",
      "Silhouette score with 14 clusters: -0.9755216823570142\n",
      "Silhouette score with 15 clusters: -0.975413464206502\n",
      "Silhouette score with 16 clusters: -0.9738728251246278\n",
      "Silhouette score with 17 clusters: -0.9723225328396494\n",
      "Silhouette score with 18 clusters: -0.9707802924658636\n",
      "Silhouette score with 19 clusters: -0.9692289662182332\n",
      "Silhouette score with 20 clusters: -0.9676487412683831\n"
     ]
    },
    {
     "data": {
      "image/png": "[encoded data removed]",
      "text/plain": [
       "<Figure size 432x288 with 1 Axes>"
      ]
     },
     "metadata": {
      "needs_background": "light"
     },
     "output_type": "display_data"
    }
   ],
   "source": [
    "np.fill_diagonal(dist, 0)\n",
    "_ = silhouette_k(dist, linkage_matrix)"
   ]
  }
 ],
 "metadata": {
  "kernelspec": {
   "display_name": "Python 3",
   "language": "python",
   "name": "python3"
  },
  "language_info": {
   "codemirror_mode": {
    "name": "ipython",
    "version": 3
   },
   "file_extension": ".py",
   "mimetype": "text/x-python",
   "name": "python",
   "nbconvert_exporter": "python",
   "pygments_lexer": "ipython3",
   "version": "3.8.5"
  }
 },
 "nbformat": 4,
 "nbformat_minor": 4
}
